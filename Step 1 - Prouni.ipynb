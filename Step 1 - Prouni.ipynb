{
 "cells": [
  {
   "cell_type": "code",
   "execution_count": 1,
   "metadata": {},
   "outputs": [],
   "source": [
    "from glob import glob\n",
    "import pandas as pd\n",
    "import numpy as np\n",
    "import matplotlib.pyplot as plt\n",
    "import seaborn as sns\n",
    "\n",
    "from matplotlib import rcParams\n",
    "#rcParams['figure.figsize'] = 15, 15\n",
    "sns.set_style('whitegrid')\n",
    "pd.set_option('display.max_columns', None)\n",
    "pd.set_option('display.max_rows', None)"
   ]
  },
  {
   "cell_type": "code",
   "execution_count": 15,
   "metadata": {},
   "outputs": [],
   "source": [
    "#prouni_2005 = '../prouni/~data/'\n",
    "#data = pd.read_csv(prouni_2005, error_bad_lines=True, sep=';', encoding='latin-1')\n",
    "# Importing and concatenating our datasets\n",
    "\n",
    "#filenames = glob('../prouni/~data/PDA_PROUNI*.csv')\n",
    "\n",
    "#df = [pd.read_csv(f, error_bad_lines=True, sep=';', encoding='latin-1') for f in filenames]\n",
    "#df = pd.concat(df, ignore_index=True)\n",
    "\n",
    "df = pd.read_csv('../prouni/~data/PDA_PROUNI_2005_CSV.csv', sep=';', encoding='latin-1')\n",
    "df = df.sample(100)"
   ]
  },
  {
   "cell_type": "code",
   "execution_count": 11,
   "metadata": {},
   "outputs": [
    {
     "data": {
      "image/png": "[encoded data removed]",
      "text/plain": [
       "<Figure size 432x288 with 1 Axes>"
      ]
     },
     "metadata": {},
     "output_type": "display_data"
    }
   ],
   "source": [
    "age = np.array(\n",
    "    [\"0 - 4\", \"5 - 9\", \"10 - 14\", \"15 - 19\", \"20 - 24\", \"25 - 29\", \"30 - 34\", \"35 - 39\",\n",
    "     \"40 - 44\", \"45 - 49\", \"50 - 54\", \"55 - 59\", \"60 - 64\", \"65 - 69\", \"70 - 74\",\n",
    "     \"75 - 79\", \"80 - 84\", \"85 - 89\", \"90 - 94\", \"95 - 99\", \"> 100\"])\n",
    "m = np.array(\n",
    "    [1915887, 2100931, 2494484, 2464805, 2361297, 2529633, 2669927, 2754129, 2753282,\n",
    "     2552531, 2211649, 1697221, 1311024, 902675, 722246, 482686, 273915, 108639, 35867,\n",
    "     10965, 1238])\n",
    "f = np.array(\n",
    "    [1823981, 1980712, 2369795, 2435784, 2330223, 2562964, 2724990, 2860720, 2918730,\n",
    "     2713534, 2376384, 1869867, 1454373, 1030677, 885393, 640698, 388748, 172302, 64170,\n",
    "     19868, 2711])\n",
    "x = np.arange(age.size)\n",
    "tick_lab = ['3M', '2M', '1M', '1M', '2M', '3M']\n",
    "tick_val = [-3000000, -2000000, -1000000, 1000000, 2000000, 3000000]\n",
    "\n",
    "\n",
    "def plot_pyramid():\n",
    "    plt.barh(x, -m, alpha=.75, height=.75, align='center' , color=\"deepskyblue\")\n",
    "    plt.barh(x, f, alpha=.75, height=.75, align='center', color=\"pink\")\n",
    "    #plt.yticks(x, age)\n",
    "    plt.yticks([])\n",
    "    plt.xticks(tick_val, tick_lab)\n",
    "    plt.grid(b=False)\n",
    "    plt.title(\"Population Pyramid\")\n",
    "    for i, j in enumerate(age):\n",
    "        if i==0 or i==1:\n",
    "            plt.text(-150000, x[i]-0.2, j, fontsize=8)\n",
    "        else:    \n",
    "            plt.text(-230000, x[i]-0.2, j, fontsize=8)\n",
    "    plt.show()\n",
    "\n",
    "\n",
    "if __name__ == '__main__':\n",
    "    plot_pyramid()"
   ]
  },
  {
   "cell_type": "code",
   "execution_count": 31,
   "metadata": {},
   "outputs": [
    {
     "name": "stdout",
     "output_type": "stream",
     "text": [
      "[19 18 20 23 22 42 21 29 33 26 17 30 31 28 39 27 32 24 25 37]\n"
     ]
    }
   ],
   "source": [
    "age = df.P_AGE.unique()\n",
    "print(age)"
   ]
  },
  {
   "cell_type": "code",
   "execution_count": 16,
   "metadata": {},
   "outputs": [
    {
     "data": {
      "text/html": [
       "<div>\n",
       "<style scoped>\n",
       "    .dataframe tbody tr th:only-of-type {\n",
       "        vertical-align: middle;\n",
       "    }\n",
       "\n",
       "    .dataframe tbody tr th {\n",
       "        vertical-align: top;\n",
       "    }\n",
       "\n",
       "    .dataframe thead th {\n",
       "        text-align: right;\n",
       "    }\n",
       "</style>\n",
       "<table border=\"1\" class=\"dataframe\">\n",
       "  <thead>\n",
       "    <tr style=\"text-align: right;\">\n",
       "      <th></th>\n",
       "      <th>ANO_CONCESSAO_BOLSA</th>\n",
       "      <th>CODIGO_EMEC_IES_BOLSA</th>\n",
       "      <th>NOME_IES_BOLSA</th>\n",
       "      <th>TIPO_BOLSA</th>\n",
       "      <th>MODALIDADE_ENSINO_BOLSA</th>\n",
       "      <th>NOME_CURSO_BOLSA</th>\n",
       "      <th>NOME_TURNO_CURSO_BOLSA</th>\n",
       "      <th>CPF_BENEFICIARIO_BOLSA</th>\n",
       "      <th>SEXO_BENEFICIARIO_BOLSA</th>\n",
       "      <th>RACA_BENEFICIARIO_BOLSA</th>\n",
       "      <th>DT_NASCIMENTO_BENEFICIARIO</th>\n",
       "      <th>BENEFICIARIO_DEFICIENTE_FISICO</th>\n",
       "      <th>REGIAO_BENEFICIARIO_BOLSA</th>\n",
       "      <th>SIGLA_UF_BENEFICIARIO_BOLSA</th>\n",
       "      <th>MUNICIPIO_BENEFICIARIO_BOLSA</th>\n",
       "    </tr>\n",
       "  </thead>\n",
       "  <tbody>\n",
       "    <tr>\n",
       "      <th>26925</th>\n",
       "      <td>2005</td>\n",
       "      <td>793</td>\n",
       "      <td>Centro Universitário Estácio Radial de São Pau...</td>\n",
       "      <td>BOLSA INTEGRAL</td>\n",
       "      <td>PRESENCIAL</td>\n",
       "      <td>Sistemas Para Internet</td>\n",
       "      <td>Matutino</td>\n",
       "      <td>***053998**</td>\n",
       "      <td>Feminino</td>\n",
       "      <td>Branca</td>\n",
       "      <td>24-04-1986</td>\n",
       "      <td>NÃO</td>\n",
       "      <td>SUDESTE</td>\n",
       "      <td>SP</td>\n",
       "      <td>SÃO PAULO</td>\n",
       "    </tr>\n",
       "    <tr>\n",
       "      <th>84564</th>\n",
       "      <td>2005</td>\n",
       "      <td>453</td>\n",
       "      <td>CENTRO UNIVERSITÁRIO LUTERANO DE PALMAS</td>\n",
       "      <td>BOLSA INTEGRAL</td>\n",
       "      <td>PRESENCIAL</td>\n",
       "      <td>Direito</td>\n",
       "      <td>Matutino</td>\n",
       "      <td>***697581**</td>\n",
       "      <td>Masculino</td>\n",
       "      <td>Preta</td>\n",
       "      <td>05-11-1987</td>\n",
       "      <td>NÃO</td>\n",
       "      <td>NORTE</td>\n",
       "      <td>TO</td>\n",
       "      <td>LAVANDEIRA</td>\n",
       "    </tr>\n",
       "    <tr>\n",
       "      <th>29284</th>\n",
       "      <td>2005</td>\n",
       "      <td>1388</td>\n",
       "      <td>FACULDADE SUMARÉ</td>\n",
       "      <td>BOLSA INTEGRAL</td>\n",
       "      <td>PRESENCIAL</td>\n",
       "      <td>Administração - Gestão De Negócios</td>\n",
       "      <td>Noturno</td>\n",
       "      <td>***801568**</td>\n",
       "      <td>Feminino</td>\n",
       "      <td>Parda</td>\n",
       "      <td>06-02-1985</td>\n",
       "      <td>NÃO</td>\n",
       "      <td>SUDESTE</td>\n",
       "      <td>SP</td>\n",
       "      <td>SÃO PAULO</td>\n",
       "    </tr>\n",
       "    <tr>\n",
       "      <th>30485</th>\n",
       "      <td>2005</td>\n",
       "      <td>1639</td>\n",
       "      <td>FACULDADE HÉLIO ROCHA</td>\n",
       "      <td>BOLSA PARCIAL 50%</td>\n",
       "      <td>PRESENCIAL</td>\n",
       "      <td>Sistema De Informação</td>\n",
       "      <td>Noturno</td>\n",
       "      <td>***246215**</td>\n",
       "      <td>Feminino</td>\n",
       "      <td>Preta</td>\n",
       "      <td>04-09-1987</td>\n",
       "      <td>NÃO</td>\n",
       "      <td>NORDESTE</td>\n",
       "      <td>BA</td>\n",
       "      <td>SALVADOR</td>\n",
       "    </tr>\n",
       "    <tr>\n",
       "      <th>30165</th>\n",
       "      <td>2005</td>\n",
       "      <td>1524</td>\n",
       "      <td>FACULDADES INTEGRADAS OLGA METTIG</td>\n",
       "      <td>BOLSA INTEGRAL</td>\n",
       "      <td>PRESENCIAL</td>\n",
       "      <td>Turismo</td>\n",
       "      <td>Matutino</td>\n",
       "      <td>***066685**</td>\n",
       "      <td>Masculino</td>\n",
       "      <td>Branca</td>\n",
       "      <td>25-06-1987</td>\n",
       "      <td>NÃO</td>\n",
       "      <td>NORDESTE</td>\n",
       "      <td>BA</td>\n",
       "      <td>SALVADOR</td>\n",
       "    </tr>\n",
       "  </tbody>\n",
       "</table>\n",
       "</div>"
      ],
      "text/plain": [
       "       ANO_CONCESSAO_BOLSA  CODIGO_EMEC_IES_BOLSA  \\\n",
       "26925                 2005                    793   \n",
       "84564                 2005                    453   \n",
       "29284                 2005                   1388   \n",
       "30485                 2005                   1639   \n",
       "30165                 2005                   1524   \n",
       "\n",
       "                                          NOME_IES_BOLSA         TIPO_BOLSA  \\\n",
       "26925  Centro Universitário Estácio Radial de São Pau...     BOLSA INTEGRAL   \n",
       "84564            CENTRO UNIVERSITÁRIO LUTERANO DE PALMAS     BOLSA INTEGRAL   \n",
       "29284                                   FACULDADE SUMARÉ     BOLSA INTEGRAL   \n",
       "30485                              FACULDADE HÉLIO ROCHA  BOLSA PARCIAL 50%   \n",
       "30165                  FACULDADES INTEGRADAS OLGA METTIG     BOLSA INTEGRAL   \n",
       "\n",
       "      MODALIDADE_ENSINO_BOLSA                    NOME_CURSO_BOLSA  \\\n",
       "26925              PRESENCIAL              Sistemas Para Internet   \n",
       "84564              PRESENCIAL                             Direito   \n",
       "29284              PRESENCIAL  Administração - Gestão De Negócios   \n",
       "30485              PRESENCIAL               Sistema De Informação   \n",
       "30165              PRESENCIAL                             Turismo   \n",
       "\n",
       "      NOME_TURNO_CURSO_BOLSA CPF_BENEFICIARIO_BOLSA SEXO_BENEFICIARIO_BOLSA  \\\n",
       "26925               Matutino            ***053998**                Feminino   \n",
       "84564               Matutino            ***697581**               Masculino   \n",
       "29284                Noturno            ***801568**                Feminino   \n",
       "30485                Noturno            ***246215**                Feminino   \n",
       "30165               Matutino            ***066685**               Masculino   \n",
       "\n",
       "      RACA_BENEFICIARIO_BOLSA DT_NASCIMENTO_BENEFICIARIO  \\\n",
       "26925                  Branca                 24-04-1986   \n",
       "84564                   Preta                 05-11-1987   \n",
       "29284                   Parda                 06-02-1985   \n",
       "30485                   Preta                 04-09-1987   \n",
       "30165                  Branca                 25-06-1987   \n",
       "\n",
       "      BENEFICIARIO_DEFICIENTE_FISICO REGIAO_BENEFICIARIO_BOLSA  \\\n",
       "26925                            NÃO                   SUDESTE   \n",
       "84564                            NÃO                     NORTE   \n",
       "29284                            NÃO                   SUDESTE   \n",
       "30485                            NÃO                  NORDESTE   \n",
       "30165                            NÃO                  NORDESTE   \n",
       "\n",
       "      SIGLA_UF_BENEFICIARIO_BOLSA MUNICIPIO_BENEFICIARIO_BOLSA  \n",
       "26925                          SP                    SÃO PAULO  \n",
       "84564                          TO                   LAVANDEIRA  \n",
       "29284                          SP                    SÃO PAULO  \n",
       "30485                          BA                     SALVADOR  \n",
       "30165                          BA                     SALVADOR  "
      ]
     },
     "execution_count": 16,
     "metadata": {},
     "output_type": "execute_result"
    }
   ],
   "source": [
    "df.head()"
   ]
  },
  {
   "cell_type": "code",
   "execution_count": 17,
   "metadata": {},
   "outputs": [],
   "source": [
    "df['DT_NASCIMENTO_BENEFICIARIO'] = pd.to_datetime(df.DT_NASCIMENTO_BENEFICIARIO)\n",
    "df['YEAR_NASC'] = df.DT_NASCIMENTO_BENEFICIARIO.dt.year\n",
    "df['P_AGE'] = df.ANO_CONCESSAO_BOLSA - df.YEAR_NASC"
   ]
  },
  {
   "cell_type": "code",
   "execution_count": 18,
   "metadata": {},
   "outputs": [
    {
     "data": {
      "text/plain": [
       "Index(['ANO_CONCESSAO_BOLSA', 'CODIGO_EMEC_IES_BOLSA', 'NOME_IES_BOLSA',\n",
       "       'TIPO_BOLSA', 'MODALIDADE_ENSINO_BOLSA', 'NOME_CURSO_BOLSA',\n",
       "       'NOME_TURNO_CURSO_BOLSA', 'CPF_BENEFICIARIO_BOLSA',\n",
       "       'SEXO_BENEFICIARIO_BOLSA', 'RACA_BENEFICIARIO_BOLSA',\n",
       "       'DT_NASCIMENTO_BENEFICIARIO', 'BENEFICIARIO_DEFICIENTE_FISICO',\n",
       "       'REGIAO_BENEFICIARIO_BOLSA', 'SIGLA_UF_BENEFICIARIO_BOLSA',\n",
       "       'MUNICIPIO_BENEFICIARIO_BOLSA', 'YEAR_NASC', 'P_AGE'],\n",
       "      dtype='object')"
      ]
     },
     "execution_count": 18,
     "metadata": {},
     "output_type": "execute_result"
    }
   ],
   "source": [
    "df.columns"
   ]
  },
  {
   "cell_type": "code",
   "execution_count": 19,
   "metadata": {},
   "outputs": [],
   "source": [
    "df = df[['ANO_CONCESSAO_BOLSA', 'NOME_IES_BOLSA', 'TIPO_BOLSA', 'NOME_CURSO_BOLSA',\n",
    "         'SEXO_BENEFICIARIO_BOLSA', 'RACA_BENEFICIARIO_BOLSA',\n",
    "        'BENEFICIARIO_DEFICIENTE_FISICO', 'SIGLA_UF_BENEFICIARIO_BOLSA',\n",
    "         'MUNICIPIO_BENEFICIARIO_BOLSA', 'P_AGE', 'REGIAO_BENEFICIARIO_BOLSA']]"
   ]
  },
  {
   "cell_type": "code",
   "execution_count": 20,
   "metadata": {},
   "outputs": [
    {
     "data": {
      "text/plain": [
       "Index(['ANO_CONCESSAO_BOLSA', 'NOME_IES_BOLSA', 'TIPO_BOLSA',\n",
       "       'NOME_CURSO_BOLSA', 'SEXO_BENEFICIARIO_BOLSA',\n",
       "       'RACA_BENEFICIARIO_BOLSA', 'BENEFICIARIO_DEFICIENTE_FISICO',\n",
       "       'SIGLA_UF_BENEFICIARIO_BOLSA', 'MUNICIPIO_BENEFICIARIO_BOLSA', 'P_AGE',\n",
       "       'REGIAO_BENEFICIARIO_BOLSA'],\n",
       "      dtype='object')"
      ]
     },
     "execution_count": 20,
     "metadata": {},
     "output_type": "execute_result"
    }
   ],
   "source": [
    "df.columns"
   ]
  },
  {
   "cell_type": "code",
   "execution_count": 21,
   "metadata": {},
   "outputs": [
    {
     "name": "stdout",
     "output_type": "stream",
     "text": [
      "<class 'pandas.core.frame.DataFrame'>\n",
      "Int64Index: 100 entries, 26925 to 82597\n",
      "Data columns (total 11 columns):\n",
      "ANO_CONCESSAO_BOLSA               100 non-null int64\n",
      "NOME_IES_BOLSA                    99 non-null object\n",
      "TIPO_BOLSA                        100 non-null object\n",
      "NOME_CURSO_BOLSA                  100 non-null object\n",
      "SEXO_BENEFICIARIO_BOLSA           100 non-null object\n",
      "RACA_BENEFICIARIO_BOLSA           100 non-null object\n",
      "BENEFICIARIO_DEFICIENTE_FISICO    100 non-null object\n",
      "SIGLA_UF_BENEFICIARIO_BOLSA       100 non-null object\n",
      "MUNICIPIO_BENEFICIARIO_BOLSA      100 non-null object\n",
      "P_AGE                             100 non-null int64\n",
      "REGIAO_BENEFICIARIO_BOLSA         100 non-null object\n",
      "dtypes: int64(2), object(9)\n",
      "memory usage: 9.4+ KB\n"
     ]
    }
   ],
   "source": [
    "df.info()"
   ]
  },
  {
   "cell_type": "code",
   "execution_count": 22,
   "metadata": {},
   "outputs": [],
   "source": [
    "#Covertendo colunas para ccategorias\n",
    "df['TIPO_BOLSA'] = df.TIPO_BOLSA.astype('category')\n",
    "df['SIGLA_UF_BENEFICIARIO_BOLSA'] = df.SIGLA_UF_BENEFICIARIO_BOLSA.astype('category')\n",
    "df['SEXO_BENEFICIARIO_BOLSA'] = df.SEXO_BENEFICIARIO_BOLSA.astype('category')\n",
    "df['BENEFICIARIO_DEFICIENTE_FISICO'] = df.BENEFICIARIO_DEFICIENTE_FISICO.astype('category')\n",
    "df['RACA_BENEFICIARIO_BOLSA'] = df.RACA_BENEFICIARIO_BOLSA.astype('category')\n",
    "df['REGIAO_BENEFICIARIO_BOLSA'] = df.REGIAO_BENEFICIARIO_BOLSA.astype('category')\n",
    "rcParams['figure.figsize'] = 15, 15"
   ]
  },
  {
   "cell_type": "code",
   "execution_count": 23,
   "metadata": {},
   "outputs": [
    {
     "name": "stdout",
     "output_type": "stream",
     "text": [
      "<class 'pandas.core.frame.DataFrame'>\n",
      "Int64Index: 100 entries, 26925 to 82597\n",
      "Data columns (total 11 columns):\n",
      "ANO_CONCESSAO_BOLSA               100 non-null int64\n",
      "NOME_IES_BOLSA                    99 non-null object\n",
      "TIPO_BOLSA                        100 non-null category\n",
      "NOME_CURSO_BOLSA                  100 non-null object\n",
      "SEXO_BENEFICIARIO_BOLSA           100 non-null category\n",
      "RACA_BENEFICIARIO_BOLSA           100 non-null category\n",
      "BENEFICIARIO_DEFICIENTE_FISICO    100 non-null category\n",
      "SIGLA_UF_BENEFICIARIO_BOLSA       100 non-null category\n",
      "MUNICIPIO_BENEFICIARIO_BOLSA      100 non-null object\n",
      "P_AGE                             100 non-null int64\n",
      "REGIAO_BENEFICIARIO_BOLSA         100 non-null category\n",
      "dtypes: category(6), int64(2), object(3)\n",
      "memory usage: 6.7+ KB\n"
     ]
    }
   ],
   "source": [
    "df.info()"
   ]
  },
  {
   "cell_type": "code",
   "execution_count": 13,
   "metadata": {},
   "outputs": [
    {
     "data": {
      "image/png": "[encoded data removed]",
      "text/plain": [
       "<Figure size 1080x1080 with 1 Axes>"
      ]
     },
     "metadata": {},
     "output_type": "display_data"
    }
   ],
   "source": [
    "#Scholarship Gender per Year\n",
    "sns.countplot(x='ANO_CONCESSAO_BOLSA', hue='SEXO_BENEFICIARIO_BOLSA', data=df, palette='coolwarm')\n",
    "plt.ylabel('Frequency of gender')\n",
    "plt.xlabel('Years')\n",
    "plt.title('Schorlarships Gender per Year')\n",
    "plt.legend(loc=0, title=None)\n",
    "plt.grid(False)\n",
    "sns.despine()\n",
    "plt.show()"
   ]
  },
  {
   "cell_type": "code",
   "execution_count": 11,
   "metadata": {},
   "outputs": [],
   "source": []
  },
  {
   "cell_type": "code",
   "execution_count": 47,
   "metadata": {},
   "outputs": [],
   "source": []
  },
  {
   "cell_type": "code",
   "execution_count": 60,
   "metadata": {},
   "outputs": [
    {
     "data": {
      "text/plain": [
       "[53]"
      ]
     },
     "execution_count": 60,
     "metadata": {},
     "output_type": "execute_result"
    }
   ],
   "source": [
    "sorted(df.P_AGE[df['P_AGE'] > 50])"
   ]
  },
  {
   "cell_type": "code",
   "execution_count": 62,
   "metadata": {},
   "outputs": [
    {
     "data": {
      "image/png": "[encoded data removed]",
      "text/plain": [
       "<Figure size 1080x1080 with 4 Axes>"
      ]
     },
     "metadata": {},
     "output_type": "display_data"
    }
   ],
   "source": [
    "plt.subplot(2, 2, 1)\n",
    "sns.countplot(x='TIPO_BOLSA', data=df, palette='deep')\n",
    "plt.title('Schoarships per type')\n",
    "plt.ylabel('Number of Scholarships')\n",
    "plt.xlabel('Type of Schoarships')\n",
    "plt.grid(False)\n",
    "\n",
    "\n",
    "plt.subplot(2, 2, 2)\n",
    "sns.countplot(x='ANO_CONCESSAO_BOLSA', hue='TIPO_BOLSA' , data=df, palette='deep')\n",
    "plt.ylabel('Frequency')\n",
    "plt.grid(False)\n",
    "plt.legend(loc=0, title=None)\n",
    "\n",
    "plt.subplot(2, 2, 3)\n",
    "sns.countplot(x='ANO_CONCESSAO_BOLSA', hue='SEXO_BENEFICIARIO_BOLSA' , data=df, palette='deep')\n",
    "plt.ylabel('Frequency')\n",
    "plt.grid(False)\n",
    "plt.legend(loc=0, title=None)\n",
    "\n",
    "plt.subplot(2, 2, 4)\n",
    "sns.countplot(x='REGIAO_BENEFICIARIO_BOLSA', hue='SEXO_BENEFICIARIO_BOLSA' , data=df, palette='deep')\n",
    "plt.ylabel('Frequency')\n",
    "plt.grid(False)\n",
    "plt.legend(loc=0, title=None)\n",
    "\n",
    "\n",
    "plt.show()"
   ]
  },
  {
   "cell_type": "code",
   "execution_count": null,
   "metadata": {},
   "outputs": [],
   "source": [
    "\n",
    "sns.countplot(x='TIPO_BOLSA', data=df, palette='deep')"
   ]
  }
 ],
 "metadata": {
  "kernelspec": {
   "display_name": "Python 3",
   "language": "python",
   "name": "python3"
  },
  "language_info": {
   "codemirror_mode": {
    "name": "ipython",
    "version": 3
   },
   "file_extension": ".py",
   "mimetype": "text/x-python",
   "name": "python",
   "nbconvert_exporter": "python",
   "pygments_lexer": "ipython3",
   "version": "3.6.5"
  }
 },
 "nbformat": 4,
 "nbformat_minor": 2
}
