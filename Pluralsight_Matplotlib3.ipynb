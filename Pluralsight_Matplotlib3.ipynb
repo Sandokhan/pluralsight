{
  "nbformat": 4,
  "nbformat_minor": 0,
  "metadata": {
    "colab": {
      "name": "Pluralsight-Matplotlib3.ipynb",
      "version": "0.3.2",
      "provenance": [],
      "include_colab_link": true
    },
    "kernelspec": {
      "name": "python3",
      "display_name": "Python 3"
    }
  },
  "cells": [
    {
      "cell_type": "markdown",
      "metadata": {
        "id": "view-in-github",
        "colab_type": "text"
      },
      "source": [
        "<a href=\"https://colab.research.google.com/github/Sandokhan/pluralsight/blob/master/Pluralsight_Matplotlib3.ipynb\" target=\"_parent\"><img src=\"https://colab.research.google.com/assets/colab-badge.svg\" alt=\"Open In Colab\"/></a>"
      ]
    },
    {
      "metadata": {
        "id": "KOppaQke5-Oo",
        "colab_type": "code",
        "colab": {}
      },
      "cell_type": "code",
      "source": [
        "import matplotlib\n",
        "import matplotlib.pyplot as plt\n",
        "import numpy as np\n",
        "import pandas as pd\n",
        "\n",
        "plt.style.use('seaborn-white')"
      ],
      "execution_count": 0,
      "outputs": []
    },
    {
      "metadata": {
        "id": "0_IhfnHXA_GR",
        "colab_type": "text"
      },
      "cell_type": "markdown",
      "source": [
        "# BOXPLOT\n",
        "\n",
        "---\n",
        "\n"
      ]
    },
    {
      "metadata": {
        "colab_type": "code",
        "id": "RWSJpsyKqHjH",
        "outputId": "791bb7fa-1a99-4e2c-a1cb-ff1f8f280cdc",
        "colab": {
          "base_uri": "https://localhost:8080/",
          "height": 54
        }
      },
      "cell_type": "code",
      "source": [
        "x = np.random.randint(low=0, high=20, size=20)\n",
        "x.sort()\n",
        "x"
      ],
      "execution_count": 5,
      "outputs": [
        {
          "output_type": "execute_result",
          "data": {
            "text/plain": [
              "array([ 0,  2,  3,  4,  5,  5,  6,  7,  8,  8,  9,  9,  9, 11, 13, 14, 14,\n",
              "       17, 18, 18])"
            ]
          },
          "metadata": {
            "tags": []
          },
          "execution_count": 5
        }
      ]
    },
    {
      "metadata": {
        "id": "Ozldsy5x6t03",
        "colab_type": "code",
        "colab": {
          "base_uri": "https://localhost:8080/",
          "height": 347
        },
        "outputId": "67b34e0a-4a42-4eda-f63c-2bfd86b4c5a9"
      },
      "cell_type": "code",
      "source": [
        "plt.boxplot(x)\n",
        "\n",
        "plt.show()"
      ],
      "execution_count": 6,
      "outputs": [
        {
          "output_type": "display_data",
          "data": {
            "image/png": "[encoded data removed]",
            "text/plain": [
              "<Figure size 576x396 with 1 Axes>"
            ]
          },
          "metadata": {
            "tags": []
          }
        }
      ]
    },
    {
      "metadata": {
        "id": "chDxWcQz7UlZ",
        "colab_type": "code",
        "colab": {
          "base_uri": "https://localhost:8080/",
          "height": 347
        },
        "outputId": "09afdf82-33b9-4705-8f25-c730a782b88d"
      },
      "cell_type": "code",
      "source": [
        "x = np.append(x, 22)\n",
        "\n",
        "plt.boxplot(x)\n",
        "\n",
        "plt.show()"
      ],
      "execution_count": 7,
      "outputs": [
        {
          "output_type": "display_data",
          "data": {
            "image/png": "[encoded data removed]",
            "text/plain": [
              "<Figure size 576x396 with 1 Axes>"
            ]
          },
          "metadata": {
            "tags": []
          }
        }
      ]
    },
    {
      "metadata": {
        "id": "ztvxeD7l7svg",
        "colab_type": "code",
        "colab": {}
      },
      "cell_type": "code",
      "source": [
        "exam_data = pd.read_csv('datasets/exams.csv')"
      ],
      "execution_count": 0,
      "outputs": []
    },
    {
      "metadata": {
        "id": "zGwhjyE98usd",
        "colab_type": "code",
        "colab": {
          "base_uri": "https://localhost:8080/",
          "height": 206
        },
        "outputId": "d30dd0ed-735b-4f9a-c8e7-67748aeb40b7"
      },
      "cell_type": "code",
      "source": [
        "exam_data.head()"
      ],
      "execution_count": 9,
      "outputs": [
        {
          "output_type": "execute_result",
          "data": {
            "text/html": [
              "<div>\n",
              "<style scoped>\n",
              "    .dataframe tbody tr th:only-of-type {\n",
              "        vertical-align: middle;\n",
              "    }\n",
              "\n",
              "    .dataframe tbody tr th {\n",
              "        vertical-align: top;\n",
              "    }\n",
              "\n",
              "    .dataframe thead th {\n",
              "        text-align: right;\n",
              "    }\n",
              "</style>\n",
              "<table border=\"1\" class=\"dataframe\">\n",
              "  <thead>\n",
              "    <tr style=\"text-align: right;\">\n",
              "      <th></th>\n",
              "      <th>gender</th>\n",
              "      <th>race/ethnicity</th>\n",
              "      <th>parental level of education</th>\n",
              "      <th>lunch</th>\n",
              "      <th>test preparation course</th>\n",
              "      <th>math score</th>\n",
              "      <th>reading score</th>\n",
              "      <th>writing score</th>\n",
              "    </tr>\n",
              "  </thead>\n",
              "  <tbody>\n",
              "    <tr>\n",
              "      <th>0</th>\n",
              "      <td>male</td>\n",
              "      <td>group C</td>\n",
              "      <td>some high school</td>\n",
              "      <td>free/reduced</td>\n",
              "      <td>none</td>\n",
              "      <td>69</td>\n",
              "      <td>61</td>\n",
              "      <td>58</td>\n",
              "    </tr>\n",
              "    <tr>\n",
              "      <th>1</th>\n",
              "      <td>female</td>\n",
              "      <td>group C</td>\n",
              "      <td>some college</td>\n",
              "      <td>free/reduced</td>\n",
              "      <td>completed</td>\n",
              "      <td>47</td>\n",
              "      <td>65</td>\n",
              "      <td>69</td>\n",
              "    </tr>\n",
              "    <tr>\n",
              "      <th>2</th>\n",
              "      <td>male</td>\n",
              "      <td>group A</td>\n",
              "      <td>high school</td>\n",
              "      <td>standard</td>\n",
              "      <td>none</td>\n",
              "      <td>66</td>\n",
              "      <td>52</td>\n",
              "      <td>53</td>\n",
              "    </tr>\n",
              "    <tr>\n",
              "      <th>3</th>\n",
              "      <td>male</td>\n",
              "      <td>group B</td>\n",
              "      <td>some college</td>\n",
              "      <td>standard</td>\n",
              "      <td>none</td>\n",
              "      <td>88</td>\n",
              "      <td>89</td>\n",
              "      <td>82</td>\n",
              "    </tr>\n",
              "    <tr>\n",
              "      <th>4</th>\n",
              "      <td>female</td>\n",
              "      <td>group C</td>\n",
              "      <td>master's degree</td>\n",
              "      <td>free/reduced</td>\n",
              "      <td>none</td>\n",
              "      <td>62</td>\n",
              "      <td>82</td>\n",
              "      <td>76</td>\n",
              "    </tr>\n",
              "  </tbody>\n",
              "</table>\n",
              "</div>"
            ],
            "text/plain": [
              "   gender race/ethnicity parental level of education         lunch  \\\n",
              "0    male        group C            some high school  free/reduced   \n",
              "1  female        group C                some college  free/reduced   \n",
              "2    male        group A                 high school      standard   \n",
              "3    male        group B                some college      standard   \n",
              "4  female        group C             master's degree  free/reduced   \n",
              "\n",
              "  test preparation course  math score  reading score  writing score  \n",
              "0                    none          69             61             58  \n",
              "1               completed          47             65             69  \n",
              "2                    none          66             52             53  \n",
              "3                    none          88             89             82  \n",
              "4                    none          62             82             76  "
            ]
          },
          "metadata": {
            "tags": []
          },
          "execution_count": 9
        }
      ]
    },
    {
      "metadata": {
        "id": "FVxIGabe81I1",
        "colab_type": "code",
        "colab": {
          "base_uri": "https://localhost:8080/",
          "height": 206
        },
        "outputId": "dd541d91-27cf-4ea9-fb10-199c65a7853e"
      },
      "cell_type": "code",
      "source": [
        "exam_scores = exam_data[['math score', 'reading score', 'writing score']]\n",
        "exam_scores.head()"
      ],
      "execution_count": 10,
      "outputs": [
        {
          "output_type": "execute_result",
          "data": {
            "text/html": [
              "<div>\n",
              "<style scoped>\n",
              "    .dataframe tbody tr th:only-of-type {\n",
              "        vertical-align: middle;\n",
              "    }\n",
              "\n",
              "    .dataframe tbody tr th {\n",
              "        vertical-align: top;\n",
              "    }\n",
              "\n",
              "    .dataframe thead th {\n",
              "        text-align: right;\n",
              "    }\n",
              "</style>\n",
              "<table border=\"1\" class=\"dataframe\">\n",
              "  <thead>\n",
              "    <tr style=\"text-align: right;\">\n",
              "      <th></th>\n",
              "      <th>math score</th>\n",
              "      <th>reading score</th>\n",
              "      <th>writing score</th>\n",
              "    </tr>\n",
              "  </thead>\n",
              "  <tbody>\n",
              "    <tr>\n",
              "      <th>0</th>\n",
              "      <td>69</td>\n",
              "      <td>61</td>\n",
              "      <td>58</td>\n",
              "    </tr>\n",
              "    <tr>\n",
              "      <th>1</th>\n",
              "      <td>47</td>\n",
              "      <td>65</td>\n",
              "      <td>69</td>\n",
              "    </tr>\n",
              "    <tr>\n",
              "      <th>2</th>\n",
              "      <td>66</td>\n",
              "      <td>52</td>\n",
              "      <td>53</td>\n",
              "    </tr>\n",
              "    <tr>\n",
              "      <th>3</th>\n",
              "      <td>88</td>\n",
              "      <td>89</td>\n",
              "      <td>82</td>\n",
              "    </tr>\n",
              "    <tr>\n",
              "      <th>4</th>\n",
              "      <td>62</td>\n",
              "      <td>82</td>\n",
              "      <td>76</td>\n",
              "    </tr>\n",
              "  </tbody>\n",
              "</table>\n",
              "</div>"
            ],
            "text/plain": [
              "   math score  reading score  writing score\n",
              "0          69             61             58\n",
              "1          47             65             69\n",
              "2          66             52             53\n",
              "3          88             89             82\n",
              "4          62             82             76"
            ]
          },
          "metadata": {
            "tags": []
          },
          "execution_count": 10
        }
      ]
    },
    {
      "metadata": {
        "id": "1001YC-b9EnQ",
        "colab_type": "code",
        "colab": {
          "base_uri": "https://localhost:8080/",
          "height": 300
        },
        "outputId": "b1f3b2f6-d90a-4134-eb0e-a8196b0d2020"
      },
      "cell_type": "code",
      "source": [
        "exam_scores.describe()"
      ],
      "execution_count": 11,
      "outputs": [
        {
          "output_type": "execute_result",
          "data": {
            "text/html": [
              "<div>\n",
              "<style scoped>\n",
              "    .dataframe tbody tr th:only-of-type {\n",
              "        vertical-align: middle;\n",
              "    }\n",
              "\n",
              "    .dataframe tbody tr th {\n",
              "        vertical-align: top;\n",
              "    }\n",
              "\n",
              "    .dataframe thead th {\n",
              "        text-align: right;\n",
              "    }\n",
              "</style>\n",
              "<table border=\"1\" class=\"dataframe\">\n",
              "  <thead>\n",
              "    <tr style=\"text-align: right;\">\n",
              "      <th></th>\n",
              "      <th>math score</th>\n",
              "      <th>reading score</th>\n",
              "      <th>writing score</th>\n",
              "    </tr>\n",
              "  </thead>\n",
              "  <tbody>\n",
              "    <tr>\n",
              "      <th>count</th>\n",
              "      <td>100.000000</td>\n",
              "      <td>100.000000</td>\n",
              "      <td>100.000000</td>\n",
              "    </tr>\n",
              "    <tr>\n",
              "      <th>mean</th>\n",
              "      <td>67.150000</td>\n",
              "      <td>69.180000</td>\n",
              "      <td>67.780000</td>\n",
              "    </tr>\n",
              "    <tr>\n",
              "      <th>std</th>\n",
              "      <td>12.797865</td>\n",
              "      <td>13.832607</td>\n",
              "      <td>14.874954</td>\n",
              "    </tr>\n",
              "    <tr>\n",
              "      <th>min</th>\n",
              "      <td>36.000000</td>\n",
              "      <td>34.000000</td>\n",
              "      <td>33.000000</td>\n",
              "    </tr>\n",
              "    <tr>\n",
              "      <th>25%</th>\n",
              "      <td>56.000000</td>\n",
              "      <td>60.000000</td>\n",
              "      <td>57.750000</td>\n",
              "    </tr>\n",
              "    <tr>\n",
              "      <th>50%</th>\n",
              "      <td>68.000000</td>\n",
              "      <td>69.000000</td>\n",
              "      <td>68.500000</td>\n",
              "    </tr>\n",
              "    <tr>\n",
              "      <th>75%</th>\n",
              "      <td>76.000000</td>\n",
              "      <td>80.000000</td>\n",
              "      <td>77.250000</td>\n",
              "    </tr>\n",
              "    <tr>\n",
              "      <th>max</th>\n",
              "      <td>95.000000</td>\n",
              "      <td>99.000000</td>\n",
              "      <td>100.000000</td>\n",
              "    </tr>\n",
              "  </tbody>\n",
              "</table>\n",
              "</div>"
            ],
            "text/plain": [
              "       math score  reading score  writing score\n",
              "count  100.000000     100.000000     100.000000\n",
              "mean    67.150000      69.180000      67.780000\n",
              "std     12.797865      13.832607      14.874954\n",
              "min     36.000000      34.000000      33.000000\n",
              "25%     56.000000      60.000000      57.750000\n",
              "50%     68.000000      69.000000      68.500000\n",
              "75%     76.000000      80.000000      77.250000\n",
              "max     95.000000      99.000000     100.000000"
            ]
          },
          "metadata": {
            "tags": []
          },
          "execution_count": 11
        }
      ]
    },
    {
      "metadata": {
        "id": "b-hSUNCa9J0t",
        "colab_type": "code",
        "colab": {
          "base_uri": "https://localhost:8080/",
          "height": 1854
        },
        "outputId": "6a2f74db-0767-4cc8-9d03-14122b887c97"
      },
      "cell_type": "code",
      "source": [
        "exam_scores_array = np.array(exam_scores)\n",
        "exam_scores_array"
      ],
      "execution_count": 12,
      "outputs": [
        {
          "output_type": "execute_result",
          "data": {
            "text/plain": [
              "array([[ 69,  61,  58],\n",
              "       [ 47,  65,  69],\n",
              "       [ 66,  52,  53],\n",
              "       [ 88,  89,  82],\n",
              "       [ 62,  82,  76],\n",
              "       [ 47,  69,  60],\n",
              "       [ 71,  66,  74],\n",
              "       [ 57,  62,  60],\n",
              "       [ 60,  67,  65],\n",
              "       [ 74,  72,  76],\n",
              "       [ 77,  71,  67],\n",
              "       [ 69,  79,  83],\n",
              "       [ 65,  62,  56],\n",
              "       [ 55,  58,  51],\n",
              "       [ 78,  88,  91],\n",
              "       [ 70,  72,  72],\n",
              "       [ 55,  69,  55],\n",
              "       [ 68,  68,  62],\n",
              "       [ 73,  62,  58],\n",
              "       [ 54,  50,  51],\n",
              "       [ 81,  76,  77],\n",
              "       [ 70,  76,  73],\n",
              "       [ 64,  62,  63],\n",
              "       [ 51,  66,  63],\n",
              "       [ 49,  50,  43],\n",
              "       [ 83,  80,  82],\n",
              "       [ 86,  92,  81],\n",
              "       [ 83,  89,  94],\n",
              "       [ 61,  77,  68],\n",
              "       [ 55,  50,  44],\n",
              "       [ 56,  59,  55],\n",
              "       [ 46,  57,  61],\n",
              "       [ 68,  60,  52],\n",
              "       [ 78,  75,  69],\n",
              "       [ 85,  94,  93],\n",
              "       [ 95,  99,  95],\n",
              "       [ 82,  74,  78],\n",
              "       [ 94,  85,  96],\n",
              "       [ 64,  71,  68],\n",
              "       [ 70,  80,  85],\n",
              "       [ 84,  78,  84],\n",
              "       [ 62,  81,  73],\n",
              "       [ 52,  58,  53],\n",
              "       [ 89,  72,  74],\n",
              "       [ 64,  63,  63],\n",
              "       [ 74,  77,  72],\n",
              "       [ 50,  54,  54],\n",
              "       [ 86,  76,  82],\n",
              "       [ 53,  62,  64],\n",
              "       [ 36,  35,  33],\n",
              "       [ 64,  81,  75],\n",
              "       [ 71,  69,  74],\n",
              "       [ 73,  79,  77],\n",
              "       [ 80,  81,  72],\n",
              "       [ 75,  66,  67],\n",
              "       [ 64,  57,  51],\n",
              "       [ 68,  87,  77],\n",
              "       [ 73,  60,  65],\n",
              "       [ 77,  76,  69],\n",
              "       [ 85,  89,  85],\n",
              "       [ 77,  85,  82],\n",
              "       [ 53,  70,  72],\n",
              "       [ 48,  43,  42],\n",
              "       [ 91,  91, 100],\n",
              "       [ 67,  81,  85],\n",
              "       [ 74,  87,  88],\n",
              "       [ 70,  82,  78],\n",
              "       [ 65,  56,  58],\n",
              "       [ 75,  67,  63],\n",
              "       [ 63,  56,  49],\n",
              "       [ 86,  92,  94],\n",
              "       [ 76,  87,  85],\n",
              "       [ 56,  62,  67],\n",
              "       [ 48,  61,  64],\n",
              "       [ 67,  62,  60],\n",
              "       [ 80,  86,  88],\n",
              "       [ 77,  73,  74],\n",
              "       [ 51,  58,  53],\n",
              "       [ 71,  80,  84],\n",
              "       [ 59,  67,  72],\n",
              "       [ 69,  62,  57],\n",
              "       [ 74,  71,  71],\n",
              "       [ 63,  68,  65],\n",
              "       [ 68,  54,  50],\n",
              "       [ 69,  79,  73],\n",
              "       [ 75,  86,  89],\n",
              "       [ 79,  81,  74],\n",
              "       [ 51,  36,  44],\n",
              "       [ 59,  60,  56],\n",
              "       [ 49,  55,  49],\n",
              "       [ 76,  76,  69],\n",
              "       [ 75,  78,  77],\n",
              "       [ 54,  45,  43],\n",
              "       [ 45,  63,  65],\n",
              "       [ 75,  75,  78],\n",
              "       [ 56,  59,  61],\n",
              "       [ 64,  57,  62],\n",
              "       [ 62,  48,  38],\n",
              "       [ 44,  34,  36],\n",
              "       [ 48,  48,  40]])"
            ]
          },
          "metadata": {
            "tags": []
          },
          "execution_count": 12
        }
      ]
    },
    {
      "metadata": {
        "id": "mATunvqE9SvQ",
        "colab_type": "code",
        "colab": {
          "base_uri": "https://localhost:8080/",
          "height": 347
        },
        "outputId": "4a2f1e7e-514a-4068-c6d9-4ca1a3912c87"
      },
      "cell_type": "code",
      "source": [
        "bp = plt.boxplot(exam_scores_array)\n",
        "plt.show()"
      ],
      "execution_count": 13,
      "outputs": [
        {
          "output_type": "display_data",
          "data": {
            "image/png": "[encoded data removed]",
            "text/plain": [
              "<Figure size 576x396 with 1 Axes>"
            ]
          },
          "metadata": {
            "tags": []
          }
        }
      ]
    },
    {
      "metadata": {
        "id": "HXLLFeZW9bE1",
        "colab_type": "code",
        "colab": {
          "base_uri": "https://localhost:8080/",
          "height": 347
        },
        "outputId": "111654da-9637-4d65-90b7-c1b838b9317a"
      },
      "cell_type": "code",
      "source": [
        "bp = plt.boxplot(exam_scores_array,\n",
        "                 patch_artist=True)\n",
        "plt.show()"
      ],
      "execution_count": 15,
      "outputs": [
        {
          "output_type": "display_data",
          "data": {
            "image/png": "[encoded data removed]",
            "text/plain": [
              "<Figure size 576x396 with 1 Axes>"
            ]
          },
          "metadata": {
            "tags": []
          }
        }
      ]
    },
    {
      "metadata": {
        "id": "8Axew4FW9oB9",
        "colab_type": "code",
        "colab": {
          "base_uri": "https://localhost:8080/",
          "height": 109
        },
        "outputId": "b5fc3aac-e4cb-43c0-ef93-0dd06d2f9905"
      },
      "cell_type": "code",
      "source": [
        "print('# of boxes: ', len(bp['boxes']))\n",
        "print('# of whiskers: ', len(bp['whiskers']))\n",
        "print('# of caps: ', len(bp['caps']))\n",
        "print('# of medians: ', len(bp['medians']))\n",
        "print('# of fliers', len(bp['fliers']))"
      ],
      "execution_count": 16,
      "outputs": [
        {
          "output_type": "stream",
          "text": [
            "# of boxes:  3\n",
            "# of whiskers:  6\n",
            "# of caps:  6\n",
            "# of medians:  3\n",
            "# of fliers 3\n"
          ],
          "name": "stdout"
        }
      ]
    },
    {
      "metadata": {
        "id": "J07Sw0zb-Pbx",
        "colab_type": "code",
        "colab": {}
      },
      "cell_type": "code",
      "source": [
        "color = ['blue', 'grey', 'lawngreen']"
      ],
      "execution_count": 0,
      "outputs": []
    },
    {
      "metadata": {
        "id": "xiI_P-N2-PY_",
        "colab_type": "code",
        "colab": {
          "base_uri": "https://localhost:8080/",
          "height": 347
        },
        "outputId": "63bb201a-5e41-4670-e904-7250cf722599"
      },
      "cell_type": "code",
      "source": [
        "bp = plt.boxplot(exam_scores_array,\n",
        "                 patch_artist=True)\n",
        "\n",
        "for i in range(len(bp['boxes'])):\n",
        "    \n",
        "    bp['boxes'][i].set(facecolor=color[i])\n",
        "    bp['caps'][2*i + 1].set(color=color[i])"
      ],
      "execution_count": 19,
      "outputs": [
        {
          "output_type": "display_data",
          "data": {
            "image/png": "[encoded data removed]",
            "text/plain": [
              "<Figure size 576x396 with 1 Axes>"
            ]
          },
          "metadata": {
            "tags": []
          }
        }
      ]
    },
    {
      "metadata": {
        "id": "2pT6kvgg-PVz",
        "colab_type": "code",
        "colab": {
          "base_uri": "https://localhost:8080/",
          "height": 420
        },
        "outputId": "d36f0ad5-9de3-4bb8-88c1-7b53dc054370"
      },
      "cell_type": "code",
      "source": [
        "bp = plt.boxplot(exam_scores_array,\n",
        "                 patch_artist=True)\n",
        "\n",
        "for i in range(len(bp['boxes'])):\n",
        "    \n",
        "    bp['boxes'][i].set(facecolor=color[i])\n",
        "    bp['caps'][2*i + 1].set(color=color[i])\n",
        "    \n",
        "plt.xticks([1,2,3],['Math', 'Reading', 'Writing'])"
      ],
      "execution_count": 22,
      "outputs": [
        {
          "output_type": "execute_result",
          "data": {
            "text/plain": [
              "([<matplotlib.axis.XTick at 0x7f85f0886550>,\n",
              "  <matplotlib.axis.XTick at 0x7f85f0883da0>,\n",
              "  <matplotlib.axis.XTick at 0x7f85f0883ac8>],\n",
              " <a list of 3 Text xticklabel objects>)"
            ]
          },
          "metadata": {
            "tags": []
          },
          "execution_count": 22
        },
        {
          "output_type": "display_data",
          "data": {
            "image/png": "[encoded data removed]",
            "text/plain": [
              "<Figure size 576x396 with 1 Axes>"
            ]
          },
          "metadata": {
            "tags": []
          }
        }
      ]
    },
    {
      "metadata": {
        "id": "Wc9-gns9BFyQ",
        "colab_type": "text"
      },
      "cell_type": "markdown",
      "source": [
        "# Violin Plot\n",
        "\n",
        "---\n",
        "\n"
      ]
    },
    {
      "metadata": {
        "id": "eTChMkKc-PQX",
        "colab_type": "code",
        "colab": {
          "base_uri": "https://localhost:8080/",
          "height": 347
        },
        "outputId": "c52ec452-7898-4a85-d5d0-b642525bfc1d"
      },
      "cell_type": "code",
      "source": [
        "vp = plt.violinplot(exam_scores_array)\n",
        "plt.show()"
      ],
      "execution_count": 23,
      "outputs": [
        {
          "output_type": "display_data",
          "data": {
            "image/png": "[encoded data removed]",
            "text/plain": [
              "<Figure size 576x396 with 1 Axes>"
            ]
          },
          "metadata": {
            "tags": []
          }
        }
      ]
    },
    {
      "metadata": {
        "id": "QVzlVj6R-PMQ",
        "colab_type": "code",
        "colab": {
          "base_uri": "https://localhost:8080/",
          "height": 347
        },
        "outputId": "f9ec8156-f815-4bee-8dc6-a344426c8a3b"
      },
      "cell_type": "code",
      "source": [
        "vp = plt.violinplot(exam_scores_array,\n",
        "                    showmedians=True)\n",
        "plt.xticks([1,2,3],['Math', 'Reading', 'Writing'])\n",
        "\n",
        "plt.show()"
      ],
      "execution_count": 24,
      "outputs": [
        {
          "output_type": "display_data",
          "data": {
            "image/png": "[encoded data removed]",
            "text/plain": [
              "<Figure size 576x396 with 1 Axes>"
            ]
          },
          "metadata": {
            "tags": []
          }
        }
      ]
    },
    {
      "metadata": {
        "id": "t86XzQ5s-NDa",
        "colab_type": "code",
        "colab": {
          "base_uri": "https://localhost:8080/",
          "height": 347
        },
        "outputId": "26a8f1ab-c235-4b1e-a488-a009a31f89a0"
      },
      "cell_type": "code",
      "source": [
        "vp = plt.violinplot(exam_scores_array,\n",
        "                    vert=False,\n",
        "                    showmedians=True)\n",
        "plt.yticks([1,2,3],['Math', 'Reading', 'Writing'])\n",
        "\n",
        "plt.show()"
      ],
      "execution_count": 27,
      "outputs": [
        {
          "output_type": "display_data",
          "data": {
            "image/png": "[encoded data removed]",
            "text/plain": [
              "<Figure size 576x396 with 1 Axes>"
            ]
          },
          "metadata": {
            "tags": []
          }
        }
      ]
    },
    {
      "metadata": {
        "id": "NgCbks9oAKnW",
        "colab_type": "code",
        "colab": {
          "base_uri": "https://localhost:8080/",
          "height": 347
        },
        "outputId": "cefe374a-71a4-4240-ddf4-5c1da1bfa410"
      },
      "cell_type": "code",
      "source": [
        "vp = plt.violinplot(exam_scores_array,\n",
        "                    showmedians=True)\n",
        "plt.xticks([1,2,3],['Math', 'Reading', 'Writing'])\n",
        "\n",
        "for i in range(len(vp['bodies'])):\n",
        "    vp['bodies'][i].set(facecolor=color[i])\n",
        "\n",
        "plt.show()"
      ],
      "execution_count": 28,
      "outputs": [
        {
          "output_type": "display_data",
          "data": {
            "image/png": "[encoded data removed]",
            "text/plain": [
              "<Figure size 576x396 with 1 Axes>"
            ]
          },
          "metadata": {
            "tags": []
          }
        }
      ]
    },
    {
      "metadata": {
        "id": "o7f90eWTBLep",
        "colab_type": "text"
      },
      "cell_type": "markdown",
      "source": [
        "# Histograms\n",
        "\n",
        "---\n",
        "\n"
      ]
    },
    {
      "metadata": {
        "id": "Xu5rv5g0Aj0x",
        "colab_type": "code",
        "colab": {
          "base_uri": "https://localhost:8080/",
          "height": 206
        },
        "outputId": "102e6065-ae25-4c72-c7b0-f6bc778fa9c0"
      },
      "cell_type": "code",
      "source": [
        "np_data = pd.read_csv('datasets/national_parks.csv')\n",
        "np_data.head()"
      ],
      "execution_count": 29,
      "outputs": [
        {
          "output_type": "execute_result",
          "data": {
            "text/html": [
              "<div>\n",
              "<style scoped>\n",
              "    .dataframe tbody tr th:only-of-type {\n",
              "        vertical-align: middle;\n",
              "    }\n",
              "\n",
              "    .dataframe tbody tr th {\n",
              "        vertical-align: top;\n",
              "    }\n",
              "\n",
              "    .dataframe thead th {\n",
              "        text-align: right;\n",
              "    }\n",
              "</style>\n",
              "<table border=\"1\" class=\"dataframe\">\n",
              "  <thead>\n",
              "    <tr style=\"text-align: right;\">\n",
              "      <th></th>\n",
              "      <th>Year</th>\n",
              "      <th>Badlands</th>\n",
              "      <th>GrandCanyon</th>\n",
              "      <th>BryceCanyon</th>\n",
              "    </tr>\n",
              "  </thead>\n",
              "  <tbody>\n",
              "    <tr>\n",
              "      <th>0</th>\n",
              "      <td>1961</td>\n",
              "      <td>833300</td>\n",
              "      <td>1253000</td>\n",
              "      <td>264800</td>\n",
              "    </tr>\n",
              "    <tr>\n",
              "      <th>1</th>\n",
              "      <td>1962</td>\n",
              "      <td>1044800</td>\n",
              "      <td>1447400</td>\n",
              "      <td>251000</td>\n",
              "    </tr>\n",
              "    <tr>\n",
              "      <th>2</th>\n",
              "      <td>1963</td>\n",
              "      <td>1074000</td>\n",
              "      <td>1539500</td>\n",
              "      <td>289500</td>\n",
              "    </tr>\n",
              "    <tr>\n",
              "      <th>3</th>\n",
              "      <td>1964</td>\n",
              "      <td>1079800</td>\n",
              "      <td>1576600</td>\n",
              "      <td>300300</td>\n",
              "    </tr>\n",
              "    <tr>\n",
              "      <th>4</th>\n",
              "      <td>1965</td>\n",
              "      <td>1091300</td>\n",
              "      <td>1689200</td>\n",
              "      <td>366800</td>\n",
              "    </tr>\n",
              "  </tbody>\n",
              "</table>\n",
              "</div>"
            ],
            "text/plain": [
              "   Year  Badlands  GrandCanyon  BryceCanyon\n",
              "0  1961    833300      1253000       264800\n",
              "1  1962   1044800      1447400       251000\n",
              "2  1963   1074000      1539500       289500\n",
              "3  1964   1079800      1576600       300300\n",
              "4  1965   1091300      1689200       366800"
            ]
          },
          "metadata": {
            "tags": []
          },
          "execution_count": 29
        }
      ]
    },
    {
      "metadata": {
        "id": "zCw3pLv-BcjH",
        "colab_type": "code",
        "colab": {
          "base_uri": "https://localhost:8080/",
          "height": 300
        },
        "outputId": "c127bc63-b9d6-40ce-9ad6-84bbe492c297"
      },
      "cell_type": "code",
      "source": [
        "np_data.describe()"
      ],
      "execution_count": 30,
      "outputs": [
        {
          "output_type": "execute_result",
          "data": {
            "text/html": [
              "<div>\n",
              "<style scoped>\n",
              "    .dataframe tbody tr th:only-of-type {\n",
              "        vertical-align: middle;\n",
              "    }\n",
              "\n",
              "    .dataframe tbody tr th {\n",
              "        vertical-align: top;\n",
              "    }\n",
              "\n",
              "    .dataframe thead th {\n",
              "        text-align: right;\n",
              "    }\n",
              "</style>\n",
              "<table border=\"1\" class=\"dataframe\">\n",
              "  <thead>\n",
              "    <tr style=\"text-align: right;\">\n",
              "      <th></th>\n",
              "      <th>Year</th>\n",
              "      <th>Badlands</th>\n",
              "      <th>GrandCanyon</th>\n",
              "      <th>BryceCanyon</th>\n",
              "    </tr>\n",
              "  </thead>\n",
              "  <tbody>\n",
              "    <tr>\n",
              "      <th>count</th>\n",
              "      <td>57.000000</td>\n",
              "      <td>5.700000e+01</td>\n",
              "      <td>5.700000e+01</td>\n",
              "      <td>5.700000e+01</td>\n",
              "    </tr>\n",
              "    <tr>\n",
              "      <th>mean</th>\n",
              "      <td>1989.000000</td>\n",
              "      <td>1.069524e+06</td>\n",
              "      <td>3.412695e+06</td>\n",
              "      <td>8.408708e+05</td>\n",
              "    </tr>\n",
              "    <tr>\n",
              "      <th>std</th>\n",
              "      <td>16.598193</td>\n",
              "      <td>1.574500e+05</td>\n",
              "      <td>1.255127e+06</td>\n",
              "      <td>4.816281e+05</td>\n",
              "    </tr>\n",
              "    <tr>\n",
              "      <th>min</th>\n",
              "      <td>1961.000000</td>\n",
              "      <td>8.333000e+05</td>\n",
              "      <td>1.253000e+06</td>\n",
              "      <td>2.510000e+05</td>\n",
              "    </tr>\n",
              "    <tr>\n",
              "      <th>25%</th>\n",
              "      <td>1975.000000</td>\n",
              "      <td>9.502420e+05</td>\n",
              "      <td>2.258200e+06</td>\n",
              "      <td>4.715170e+05</td>\n",
              "    </tr>\n",
              "    <tr>\n",
              "      <th>50%</th>\n",
              "      <td>1989.000000</td>\n",
              "      <td>1.054325e+06</td>\n",
              "      <td>3.859886e+06</td>\n",
              "      <td>8.080450e+05</td>\n",
              "    </tr>\n",
              "    <tr>\n",
              "      <th>75%</th>\n",
              "      <td>2003.000000</td>\n",
              "      <td>1.188700e+06</td>\n",
              "      <td>4.401522e+06</td>\n",
              "      <td>1.081521e+06</td>\n",
              "    </tr>\n",
              "    <tr>\n",
              "      <th>max</th>\n",
              "      <td>2017.000000</td>\n",
              "      <td>1.518396e+06</td>\n",
              "      <td>6.254238e+06</td>\n",
              "      <td>2.571684e+06</td>\n",
              "    </tr>\n",
              "  </tbody>\n",
              "</table>\n",
              "</div>"
            ],
            "text/plain": [
              "              Year      Badlands   GrandCanyon   BryceCanyon\n",
              "count    57.000000  5.700000e+01  5.700000e+01  5.700000e+01\n",
              "mean   1989.000000  1.069524e+06  3.412695e+06  8.408708e+05\n",
              "std      16.598193  1.574500e+05  1.255127e+06  4.816281e+05\n",
              "min    1961.000000  8.333000e+05  1.253000e+06  2.510000e+05\n",
              "25%    1975.000000  9.502420e+05  2.258200e+06  4.715170e+05\n",
              "50%    1989.000000  1.054325e+06  3.859886e+06  8.080450e+05\n",
              "75%    2003.000000  1.188700e+06  4.401522e+06  1.081521e+06\n",
              "max    2017.000000  1.518396e+06  6.254238e+06  2.571684e+06"
            ]
          },
          "metadata": {
            "tags": []
          },
          "execution_count": 30
        }
      ]
    },
    {
      "metadata": {
        "id": "DKA1ixvvBpN0",
        "colab_type": "code",
        "colab": {
          "base_uri": "https://localhost:8080/",
          "height": 347
        },
        "outputId": "830131ae-f89e-4d77-ebe3-b7c7ed272745"
      },
      "cell_type": "code",
      "source": [
        "plt.hist(np_data['GrandCanyon'],\n",
        "         facecolor='cyan',\n",
        "         edgecolor='blue',\n",
        "         bins=10)\n",
        "plt.show()\n"
      ],
      "execution_count": 31,
      "outputs": [
        {
          "output_type": "display_data",
          "data": {
            "image/png": "[encoded data removed]",
            "text/plain": [
              "<Figure size 576x396 with 1 Axes>"
            ]
          },
          "metadata": {
            "tags": []
          }
        }
      ]
    },
    {
      "metadata": {
        "id": "wuMVcgM7EU3G",
        "colab_type": "code",
        "colab": {
          "base_uri": "https://localhost:8080/",
          "height": 420
        },
        "outputId": "c0ef69b5-e033-4fc4-82b6-e4f939ebc628"
      },
      "cell_type": "code",
      "source": [
        "n, bins, patches = plt.hist(np_data['GrandCanyon'],\n",
        "                            facecolor='cyan',\n",
        "                            edgecolor='blue',\n",
        "                            bins=10)\n",
        "\n",
        "print('n: ', n) # The frequency for each bin\n",
        "print('bins: ', bins) # The middle value for each bin\n",
        "print('patches: ', patches)"
      ],
      "execution_count": 32,
      "outputs": [
        {
          "output_type": "stream",
          "text": [
            "n:  [ 5.  9. 10.  2.  1.  9. 16.  2.  1.  2.]\n",
            "bins:  [1253000.  1753123.8 2253247.6 2753371.4 3253495.2 3753619.  4253742.8\n",
            " 4753866.6 5253990.4 5754114.2 6254238. ]\n",
            "patches:  <a list of 10 Patch objects>\n"
          ],
          "name": "stdout"
        },
        {
          "output_type": "display_data",
          "data": {
            "image/png": "[encoded data removed]",
            "text/plain": [
              "<Figure size 576x396 with 1 Axes>"
            ]
          },
          "metadata": {
            "tags": []
          }
        }
      ]
    },
    {
      "metadata": {
        "id": "esvpV6FxEVFW",
        "colab_type": "code",
        "colab": {
          "base_uri": "https://localhost:8080/",
          "height": 468
        },
        "outputId": "ef8a9cce-1edd-4879-d463-609e832fafe5"
      },
      "cell_type": "code",
      "source": [
        "n, bins, patches = plt.hist(np_data['GrandCanyon'],\n",
        "                            facecolor='cyan',\n",
        "                            edgecolor='blue',\n",
        "                            bins=10,\n",
        "                            density=True)\n",
        "\n",
        "print('n: ', n) # The frequency for each bin\n",
        "print('bins: ', bins) # The middle value for each bin\n",
        "print('patches: ', patches)"
      ],
      "execution_count": 33,
      "outputs": [
        {
          "output_type": "stream",
          "text": [
            "n:  [1.75395169e-07 3.15711304e-07 3.50790337e-07 7.01580675e-08\n",
            " 3.50790337e-08 3.15711304e-07 5.61264540e-07 7.01580675e-08\n",
            " 3.50790337e-08 7.01580675e-08]\n",
            "bins:  [1253000.  1753123.8 2253247.6 2753371.4 3253495.2 3753619.  4253742.8\n",
            " 4753866.6 5253990.4 5754114.2 6254238. ]\n",
            "patches:  <a list of 10 Patch objects>\n"
          ],
          "name": "stdout"
        },
        {
          "output_type": "display_data",
          "data": {
            "image/png": "[encoded data removed]",
            "text/plain": [
              "<Figure size 576x396 with 1 Axes>"
            ]
          },
          "metadata": {
            "tags": []
          }
        }
      ]
    },
    {
      "metadata": {
        "id": "ucrKdIDiEVKm",
        "colab_type": "code",
        "colab": {
          "base_uri": "https://localhost:8080/",
          "height": 347
        },
        "outputId": "6b78b7f5-9231-4f19-99fe-13233ca0e386"
      },
      "cell_type": "code",
      "source": [
        "plt.hist(np_data['GrandCanyon'],\n",
        "         facecolor='cyan',\n",
        "         edgecolor='blue',\n",
        "         bins=10,\n",
        "         cumulative=True)\n",
        "plt.show()\n"
      ],
      "execution_count": 34,
      "outputs": [
        {
          "output_type": "display_data",
          "data": {
            "image/png": "[encoded data removed]",
            "text/plain": [
              "<Figure size 576x396 with 1 Axes>"
            ]
          },
          "metadata": {
            "tags": []
          }
        }
      ]
    },
    {
      "metadata": {
        "id": "9bA3N-4gFs8m",
        "colab_type": "text"
      },
      "cell_type": "markdown",
      "source": [
        "# Pie Chart\n",
        "\n",
        "---\n",
        "\n"
      ]
    },
    {
      "metadata": {
        "id": "Z9OJg4_fEVYf",
        "colab_type": "code",
        "colab": {
          "base_uri": "https://localhost:8080/",
          "height": 206
        },
        "outputId": "5e30f1da-b445-4806-c718-8a9a64a74c02"
      },
      "cell_type": "code",
      "source": [
        "data = pd.read_csv('datasets/sector_weighting.csv')\n",
        "data"
      ],
      "execution_count": 35,
      "outputs": [
        {
          "output_type": "execute_result",
          "data": {
            "text/html": [
              "<div>\n",
              "<style scoped>\n",
              "    .dataframe tbody tr th:only-of-type {\n",
              "        vertical-align: middle;\n",
              "    }\n",
              "\n",
              "    .dataframe tbody tr th {\n",
              "        vertical-align: top;\n",
              "    }\n",
              "\n",
              "    .dataframe thead th {\n",
              "        text-align: right;\n",
              "    }\n",
              "</style>\n",
              "<table border=\"1\" class=\"dataframe\">\n",
              "  <thead>\n",
              "    <tr style=\"text-align: right;\">\n",
              "      <th></th>\n",
              "      <th>Sector</th>\n",
              "      <th>Percentage</th>\n",
              "    </tr>\n",
              "  </thead>\n",
              "  <tbody>\n",
              "    <tr>\n",
              "      <th>0</th>\n",
              "      <td>General Financial</td>\n",
              "      <td>20</td>\n",
              "    </tr>\n",
              "    <tr>\n",
              "      <th>1</th>\n",
              "      <td>Beverages</td>\n",
              "      <td>35</td>\n",
              "    </tr>\n",
              "    <tr>\n",
              "      <th>2</th>\n",
              "      <td>Life Insurance</td>\n",
              "      <td>25</td>\n",
              "    </tr>\n",
              "    <tr>\n",
              "      <th>3</th>\n",
              "      <td>Tobacco</td>\n",
              "      <td>5</td>\n",
              "    </tr>\n",
              "    <tr>\n",
              "      <th>4</th>\n",
              "      <td>Travel</td>\n",
              "      <td>15</td>\n",
              "    </tr>\n",
              "  </tbody>\n",
              "</table>\n",
              "</div>"
            ],
            "text/plain": [
              "              Sector  Percentage\n",
              "0  General Financial          20\n",
              "1          Beverages          35\n",
              "2     Life Insurance          25\n",
              "3            Tobacco           5\n",
              "4             Travel          15"
            ]
          },
          "metadata": {
            "tags": []
          },
          "execution_count": 35
        }
      ]
    },
    {
      "metadata": {
        "id": "PkyVq977EVWZ",
        "colab_type": "code",
        "colab": {
          "base_uri": "https://localhost:8080/",
          "height": 330
        },
        "outputId": "96b78859-eed5-4f78-9b38-b2192751bc4f"
      },
      "cell_type": "code",
      "source": [
        "plt.pie(data['Percentage'],\n",
        "        labels=data['Sector'])\n",
        "\n",
        "plt.show()"
      ],
      "execution_count": 36,
      "outputs": [
        {
          "output_type": "display_data",
          "data": {
            "image/png": "[encoded data removed]",
            "text/plain": [
              "<Figure size 576x396 with 1 Axes>"
            ]
          },
          "metadata": {
            "tags": []
          }
        }
      ]
    },
    {
      "metadata": {
        "id": "TpAYQDe5EVUC",
        "colab_type": "code",
        "colab": {
          "base_uri": "https://localhost:8080/",
          "height": 330
        },
        "outputId": "e5f28a36-495e-465f-bbd1-13955e5b245d"
      },
      "cell_type": "code",
      "source": [
        "colors = ['deeppink', 'aqua', 'magenta', 'silver', 'lime']\n",
        "plt.pie(data['Percentage'],\n",
        "        labels=data['Sector'],\n",
        "        colors=colors,\n",
        "       autopct='%.2f')\n",
        "\n",
        "plt.axis('equal')\n",
        "\n",
        "plt.show()"
      ],
      "execution_count": 37,
      "outputs": [
        {
          "output_type": "display_data",
          "data": {
            "image/png": "[encoded data removed]",
            "text/plain": [
              "<Figure size 576x396 with 1 Axes>"
            ]
          },
          "metadata": {
            "tags": []
          }
        }
      ]
    },
    {
      "metadata": {
        "id": "cBs60ZPzEVR4",
        "colab_type": "code",
        "colab": {
          "base_uri": "https://localhost:8080/",
          "height": 330
        },
        "outputId": "a6dd9c7e-107f-4ae3-b069-d8bea0ee06d0"
      },
      "cell_type": "code",
      "source": [
        "explode = [0, .1, 0, .3, 0]\n",
        "plt.pie(data['Percentage'],\n",
        "        labels=data['Sector'],\n",
        "        colors=colors,\n",
        "       autopct='%.2f',\n",
        "       explode=explode)\n",
        "\n",
        "plt.axis('equal')\n",
        "\n",
        "plt.show()"
      ],
      "execution_count": 38,
      "outputs": [
        {
          "output_type": "display_data",
          "data": {
            "image/png": "[encoded data removed]",
            "text/plain": [
              "<Figure size 576x396 with 1 Axes>"
            ]
          },
          "metadata": {
            "tags": []
          }
        }
      ]
    },
    {
      "metadata": {
        "id": "5X8PpYvQJ_8I",
        "colab_type": "text"
      },
      "cell_type": "markdown",
      "source": [
        "# Autocorrelation\n",
        "\n",
        "---\n",
        "\n"
      ]
    },
    {
      "metadata": {
        "id": "-2ErjhG8J_N7",
        "colab_type": "code",
        "colab": {
          "base_uri": "https://localhost:8080/",
          "height": 206
        },
        "outputId": "950ba010-ec8c-41c2-f04c-144e5dc9d87f"
      },
      "cell_type": "code",
      "source": [
        "grand_canyon = pd.read_csv('datasets/grand_canyon_visits.csv')\n",
        "grand_canyon.head()"
      ],
      "execution_count": 39,
      "outputs": [
        {
          "output_type": "execute_result",
          "data": {
            "text/html": [
              "<div>\n",
              "<style scoped>\n",
              "    .dataframe tbody tr th:only-of-type {\n",
              "        vertical-align: middle;\n",
              "    }\n",
              "\n",
              "    .dataframe tbody tr th {\n",
              "        vertical-align: top;\n",
              "    }\n",
              "\n",
              "    .dataframe thead th {\n",
              "        text-align: right;\n",
              "    }\n",
              "</style>\n",
              "<table border=\"1\" class=\"dataframe\">\n",
              "  <thead>\n",
              "    <tr style=\"text-align: right;\">\n",
              "      <th></th>\n",
              "      <th>Month</th>\n",
              "      <th>NumVisits</th>\n",
              "    </tr>\n",
              "  </thead>\n",
              "  <tbody>\n",
              "    <tr>\n",
              "      <th>0</th>\n",
              "      <td>2011-01</td>\n",
              "      <td>139029</td>\n",
              "    </tr>\n",
              "    <tr>\n",
              "      <th>1</th>\n",
              "      <td>2011-02</td>\n",
              "      <td>120726</td>\n",
              "    </tr>\n",
              "    <tr>\n",
              "      <th>2</th>\n",
              "      <td>2011-03</td>\n",
              "      <td>304583</td>\n",
              "    </tr>\n",
              "    <tr>\n",
              "      <th>3</th>\n",
              "      <td>2011-04</td>\n",
              "      <td>388363</td>\n",
              "    </tr>\n",
              "    <tr>\n",
              "      <th>4</th>\n",
              "      <td>2011-05</td>\n",
              "      <td>419569</td>\n",
              "    </tr>\n",
              "  </tbody>\n",
              "</table>\n",
              "</div>"
            ],
            "text/plain": [
              "     Month  NumVisits\n",
              "0  2011-01     139029\n",
              "1  2011-02     120726\n",
              "2  2011-03     304583\n",
              "3  2011-04     388363\n",
              "4  2011-05     419569"
            ]
          },
          "metadata": {
            "tags": []
          },
          "execution_count": 39
        }
      ]
    },
    {
      "metadata": {
        "id": "Mtk8Jxz5J_Zu",
        "colab_type": "code",
        "colab": {
          "base_uri": "https://localhost:8080/",
          "height": 182
        },
        "outputId": "aba17e1d-3926-419e-b286-844978d0d9ef"
      },
      "cell_type": "code",
      "source": [
        "grand_canyon['NumVisits'] = grand_canyon['NumVisits']/1000\n",
        "grand_canyon['NumVisits'].describe()"
      ],
      "execution_count": 42,
      "outputs": [
        {
          "output_type": "execute_result",
          "data": {
            "text/plain": [
              "count     84.000000\n",
              "mean     426.022929\n",
              "std      193.415223\n",
              "min      120.726000\n",
              "25%      252.250500\n",
              "50%      417.966000\n",
              "75%      580.652250\n",
              "max      839.086000\n",
              "Name: NumVisits, dtype: float64"
            ]
          },
          "metadata": {
            "tags": []
          },
          "execution_count": 42
        }
      ]
    },
    {
      "metadata": {
        "id": "Qxc7MSRZJ_ju",
        "colab_type": "code",
        "colab": {
          "base_uri": "https://localhost:8080/",
          "height": 483
        },
        "outputId": "e323bc46-8ae2-476c-f804-7825fcd47205"
      },
      "cell_type": "code",
      "source": [
        "plt.figure(figsize=(16,8))\n",
        "\n",
        "plt.acorr(grand_canyon['NumVisits'],\n",
        "          maxlags=20)\n",
        "\n",
        "\n",
        "plt.show()"
      ],
      "execution_count": 43,
      "outputs": [
        {
          "output_type": "display_data",
          "data": {
            "image/png": "[encoded data removed]",
            "text/plain": [
              "<Figure size 1152x576 with 1 Axes>"
            ]
          },
          "metadata": {
            "tags": []
          }
        }
      ]
    },
    {
      "metadata": {
        "id": "GrtWUEfgUEvm",
        "colab_type": "text"
      },
      "cell_type": "markdown",
      "source": [
        "# Stacked plots\n",
        "\n",
        "---\n",
        "\n"
      ]
    },
    {
      "metadata": {
        "id": "or5j51NAEVPQ",
        "colab_type": "code",
        "colab": {
          "base_uri": "https://localhost:8080/",
          "height": 206
        },
        "outputId": "9f6e9665-7251-44be-e6e6-442fa5b34a95"
      },
      "cell_type": "code",
      "source": [
        "np_data = pd.read_csv('datasets/national_parks.csv')\n",
        "np_data.head()"
      ],
      "execution_count": 44,
      "outputs": [
        {
          "output_type": "execute_result",
          "data": {
            "text/html": [
              "<div>\n",
              "<style scoped>\n",
              "    .dataframe tbody tr th:only-of-type {\n",
              "        vertical-align: middle;\n",
              "    }\n",
              "\n",
              "    .dataframe tbody tr th {\n",
              "        vertical-align: top;\n",
              "    }\n",
              "\n",
              "    .dataframe thead th {\n",
              "        text-align: right;\n",
              "    }\n",
              "</style>\n",
              "<table border=\"1\" class=\"dataframe\">\n",
              "  <thead>\n",
              "    <tr style=\"text-align: right;\">\n",
              "      <th></th>\n",
              "      <th>Year</th>\n",
              "      <th>Badlands</th>\n",
              "      <th>GrandCanyon</th>\n",
              "      <th>BryceCanyon</th>\n",
              "    </tr>\n",
              "  </thead>\n",
              "  <tbody>\n",
              "    <tr>\n",
              "      <th>0</th>\n",
              "      <td>1961</td>\n",
              "      <td>833300</td>\n",
              "      <td>1253000</td>\n",
              "      <td>264800</td>\n",
              "    </tr>\n",
              "    <tr>\n",
              "      <th>1</th>\n",
              "      <td>1962</td>\n",
              "      <td>1044800</td>\n",
              "      <td>1447400</td>\n",
              "      <td>251000</td>\n",
              "    </tr>\n",
              "    <tr>\n",
              "      <th>2</th>\n",
              "      <td>1963</td>\n",
              "      <td>1074000</td>\n",
              "      <td>1539500</td>\n",
              "      <td>289500</td>\n",
              "    </tr>\n",
              "    <tr>\n",
              "      <th>3</th>\n",
              "      <td>1964</td>\n",
              "      <td>1079800</td>\n",
              "      <td>1576600</td>\n",
              "      <td>300300</td>\n",
              "    </tr>\n",
              "    <tr>\n",
              "      <th>4</th>\n",
              "      <td>1965</td>\n",
              "      <td>1091300</td>\n",
              "      <td>1689200</td>\n",
              "      <td>366800</td>\n",
              "    </tr>\n",
              "  </tbody>\n",
              "</table>\n",
              "</div>"
            ],
            "text/plain": [
              "   Year  Badlands  GrandCanyon  BryceCanyon\n",
              "0  1961    833300      1253000       264800\n",
              "1  1962   1044800      1447400       251000\n",
              "2  1963   1074000      1539500       289500\n",
              "3  1964   1079800      1576600       300300\n",
              "4  1965   1091300      1689200       366800"
            ]
          },
          "metadata": {
            "tags": []
          },
          "execution_count": 44
        }
      ]
    },
    {
      "metadata": {
        "id": "87YmtME8UQVs",
        "colab_type": "code",
        "colab": {}
      },
      "cell_type": "code",
      "source": [
        "x = np_data['Year']"
      ],
      "execution_count": 0,
      "outputs": []
    },
    {
      "metadata": {
        "id": "x10udyLyUeeL",
        "colab_type": "code",
        "colab": {
          "base_uri": "https://localhost:8080/",
          "height": 513
        },
        "outputId": "1a187ad7-d41e-4823-84a8-827183a3d429"
      },
      "cell_type": "code",
      "source": [
        "y = np.stack([np_data['Badlands'],\n",
        "              np_data['GrandCanyon'],\n",
        "              np_data['BryceCanyon']])\n",
        "\n",
        "y"
      ],
      "execution_count": 46,
      "outputs": [
        {
          "output_type": "execute_result",
          "data": {
            "text/plain": [
              "array([[ 833300, 1044800, 1074000, 1079800, 1091300, 1094800, 1188700,\n",
              "        1194600, 1221300, 1303100, 1282000, 1274600, 1387900, 1205300,\n",
              "        1153200, 1210100, 1305400, 1234915,  858000,  952652, 1175952,\n",
              "        1030484, 1026981, 1113675,  950242, 1025630, 1174398, 1110040,\n",
              "        1237956, 1326475, 1518396, 1205297, 1179458, 1130459, 1075569,\n",
              "        1024705,  970696, 1021049,  950453, 1105824,  955469,  908898,\n",
              "         871034,  936030,  909146,  840118,  886654,  845734,  933918,\n",
              "         977778,  870741,  883406,  892372,  868094,  989354,  996263,\n",
              "        1054325],\n",
              "       [1253000, 1447400, 1539500, 1576600, 1689200, 1806000, 1804900,\n",
              "        1986300, 2192600, 2258200, 2402100, 2698300, 1909700, 1888600,\n",
              "        2625100, 2791600, 2627200, 2748642, 2131716, 2304973, 2472270,\n",
              "        2293127, 2248082, 2173584, 2711529, 3035787, 3513030, 3859886,\n",
              "        3966209, 3776685, 3886031, 4203545, 4575602, 4364316, 4557645,\n",
              "        4537703, 4791668, 4239682, 4575124, 4460228, 4104809, 4001974,\n",
              "        4124900, 4326234, 4401522, 4279439, 4413668, 4425314, 4348068,\n",
              "        4388386, 4298178, 4421352, 4564840, 4756771, 5520736, 5969811,\n",
              "        6254238],\n",
              "       [ 264800,  251000,  289500,  300300,  366800,  396600,  295000,\n",
              "         320800,  366900,  345900,  377800,  424830,  429700,  408800,\n",
              "         579200,  625600,  611500,  679260,  558095,  571541,  474092,\n",
              "         471517,  472633,  495104,  500782,  578018,  718342,  791348,\n",
              "         808045,  862659,  929067, 1018174, 1107951, 1028134,  994548,\n",
              "        1269600, 1174824, 1166331, 1081521, 1099275, 1068619,  886436,\n",
              "         903760,  987253, 1017681,  890676, 1012563, 1043321, 1216377,\n",
              "        1285492, 1296000, 1385352, 1311875, 1435741, 1745804, 2365110,\n",
              "        2571684]])"
            ]
          },
          "metadata": {
            "tags": []
          },
          "execution_count": 46
        }
      ]
    },
    {
      "metadata": {
        "id": "Ez2kY7PGU2ie",
        "colab_type": "code",
        "colab": {
          "base_uri": "https://localhost:8080/",
          "height": 358
        },
        "outputId": "fb3c37db-34d7-49e7-c945-89907f9e6533"
      },
      "cell_type": "code",
      "source": [
        "labels = ['Badlands',\n",
        "          'GrandCanyon',\n",
        "          'BryceCanyon']\n",
        "\n",
        "\n",
        "plt.stackplot(x, y,\n",
        "              labels=labels)\n",
        "plt.legend(loc='upper left')\n",
        "plt.show()"
      ],
      "execution_count": 47,
      "outputs": [
        {
          "output_type": "display_data",
          "data": {
            "image/png": "[encoded data removed]",
            "text/plain": [
              "<Figure size 576x396 with 1 Axes>"
            ]
          },
          "metadata": {
            "tags": []
          }
        }
      ]
    },
    {
      "metadata": {
        "id": "EAmlJMk0U2TR",
        "colab_type": "code",
        "colab": {
          "base_uri": "https://localhost:8080/",
          "height": 358
        },
        "outputId": "ef582f72-e457-4693-99f5-40bb10379d3f"
      },
      "cell_type": "code",
      "source": [
        "color = ['sandybrown',\n",
        "         'tomato',\n",
        "         'skyblue']\n",
        "\n",
        "plt.stackplot(x, y,\n",
        "              labels=labels,\n",
        "              edgecolor='grey')\n",
        "plt.legend(loc='upper left')\n",
        "plt.show()"
      ],
      "execution_count": 48,
      "outputs": [
        {
          "output_type": "display_data",
          "data": {
            "image/png": "[encoded data removed]",
            "text/plain": [
              "<Figure size 576x396 with 1 Axes>"
            ]
          },
          "metadata": {
            "tags": []
          }
        }
      ]
    },
    {
      "metadata": {
        "id": "yrlRkLHrUzyt",
        "colab_type": "code",
        "colab": {
          "base_uri": "https://localhost:8080/",
          "height": 206
        },
        "outputId": "eeab81b1-b089-479d-d394-1dfa7d776043"
      },
      "cell_type": "code",
      "source": [
        "np_data[['Badlands',\n",
        "    'GrandCanyon',\n",
        "    'BryceCanyon']] = np_data[['Badlands',\n",
        "    'GrandCanyon',\n",
        "    'BryceCanyon']].diff() \n",
        "\n",
        "np_data.head()"
      ],
      "execution_count": 49,
      "outputs": [
        {
          "output_type": "execute_result",
          "data": {
            "text/html": [
              "<div>\n",
              "<style scoped>\n",
              "    .dataframe tbody tr th:only-of-type {\n",
              "        vertical-align: middle;\n",
              "    }\n",
              "\n",
              "    .dataframe tbody tr th {\n",
              "        vertical-align: top;\n",
              "    }\n",
              "\n",
              "    .dataframe thead th {\n",
              "        text-align: right;\n",
              "    }\n",
              "</style>\n",
              "<table border=\"1\" class=\"dataframe\">\n",
              "  <thead>\n",
              "    <tr style=\"text-align: right;\">\n",
              "      <th></th>\n",
              "      <th>Year</th>\n",
              "      <th>Badlands</th>\n",
              "      <th>GrandCanyon</th>\n",
              "      <th>BryceCanyon</th>\n",
              "    </tr>\n",
              "  </thead>\n",
              "  <tbody>\n",
              "    <tr>\n",
              "      <th>0</th>\n",
              "      <td>1961</td>\n",
              "      <td>NaN</td>\n",
              "      <td>NaN</td>\n",
              "      <td>NaN</td>\n",
              "    </tr>\n",
              "    <tr>\n",
              "      <th>1</th>\n",
              "      <td>1962</td>\n",
              "      <td>211500.0</td>\n",
              "      <td>194400.0</td>\n",
              "      <td>-13800.0</td>\n",
              "    </tr>\n",
              "    <tr>\n",
              "      <th>2</th>\n",
              "      <td>1963</td>\n",
              "      <td>29200.0</td>\n",
              "      <td>92100.0</td>\n",
              "      <td>38500.0</td>\n",
              "    </tr>\n",
              "    <tr>\n",
              "      <th>3</th>\n",
              "      <td>1964</td>\n",
              "      <td>5800.0</td>\n",
              "      <td>37100.0</td>\n",
              "      <td>10800.0</td>\n",
              "    </tr>\n",
              "    <tr>\n",
              "      <th>4</th>\n",
              "      <td>1965</td>\n",
              "      <td>11500.0</td>\n",
              "      <td>112600.0</td>\n",
              "      <td>66500.0</td>\n",
              "    </tr>\n",
              "  </tbody>\n",
              "</table>\n",
              "</div>"
            ],
            "text/plain": [
              "   Year  Badlands  GrandCanyon  BryceCanyon\n",
              "0  1961       NaN          NaN          NaN\n",
              "1  1962  211500.0     194400.0     -13800.0\n",
              "2  1963   29200.0      92100.0      38500.0\n",
              "3  1964    5800.0      37100.0      10800.0\n",
              "4  1965   11500.0     112600.0      66500.0"
            ]
          },
          "metadata": {
            "tags": []
          },
          "execution_count": 49
        }
      ]
    },
    {
      "metadata": {
        "id": "xtlcPjrij_Bn",
        "colab_type": "code",
        "colab": {
          "base_uri": "https://localhost:8080/",
          "height": 389
        },
        "outputId": "22519cda-4138-4636-a5e2-425b2adb2435"
      },
      "cell_type": "code",
      "source": [
        "plt.figure(figsize=(10,6))\n",
        "\n",
        "plt.stem(np_data['Year'],\n",
        "         np_data['Badlands'])\n",
        "\n",
        "plt.title('Change in Number of Visitors')\n",
        "plt.show()"
      ],
      "execution_count": 50,
      "outputs": [
        {
          "output_type": "display_data",
          "data": {
            "image/png": "[encoded data removed]",
            "text/plain": [
              "<Figure size 720x432 with 1 Axes>"
            ]
          },
          "metadata": {
            "tags": []
          }
        }
      ]
    },
    {
      "metadata": {
        "id": "Tt35_0iHj_UL",
        "colab_type": "code",
        "colab": {}
      },
      "cell_type": "code",
      "source": [
        ""
      ],
      "execution_count": 0,
      "outputs": []
    },
    {
      "metadata": {
        "id": "VI4F5S23lnKT",
        "colab_type": "code",
        "colab": {}
      },
      "cell_type": "code",
      "source": [
        ""
      ],
      "execution_count": 0,
      "outputs": []
    }
  ]
}