{
 "cells": [
  {
   "cell_type": "code",
   "execution_count": 1,
   "metadata": {},
   "outputs": [],
   "source": [
    "from glob import glob\n",
    "import pandas as pd\n",
    "import numpy as np\n",
    "import matplotlib.pyplot as plt\n",
    "import seaborn as sns\n",
    "\n",
    "#from matplotlib import rcParams\n",
    "#rcParams['figure.figsize'] = 5, 4\n",
    "sns.set_style('whitegrid')\n",
    "pd.set_option('display.max_columns', None)\n",
    "pd.set_option('display.max_rows', None)"
   ]
  },
  {
   "cell_type": "code",
   "execution_count": 12,
   "metadata": {},
   "outputs": [],
   "source": [
    "df = pd.read_csv('../prouni/~data/PDA_PROUNI_2005_CSV.csv', error_bad_lines=True, sep=';', encoding='latin-1')"
   ]
  },
  {
   "cell_type": "code",
   "execution_count": null,
   "metadata": {},
   "outputs": [],
   "source": []
  },
  {
   "cell_type": "code",
   "execution_count": 13,
   "metadata": {},
   "outputs": [
    {
     "data": {
      "text/plain": [
       "ANO_CONCESSAO_BOLSA                int64\n",
       "CODIGO_EMEC_IES_BOLSA              int64\n",
       "NOME_IES_BOLSA                    object\n",
       "TIPO_BOLSA                        object\n",
       "MODALIDADE_ENSINO_BOLSA           object\n",
       "NOME_CURSO_BOLSA                  object\n",
       "NOME_TURNO_CURSO_BOLSA            object\n",
       "CPF_BENEFICIARIO_BOLSA            object\n",
       "SEXO_BENEFICIARIO_BOLSA           object\n",
       "RACA_BENEFICIARIO_BOLSA           object\n",
       "DT_NASCIMENTO_BENEFICIARIO        object\n",
       "BENEFICIARIO_DEFICIENTE_FISICO    object\n",
       "REGIAO_BENEFICIARIO_BOLSA         object\n",
       "SIGLA_UF_BENEFICIARIO_BOLSA       object\n",
       "MUNICIPIO_BENEFICIARIO_BOLSA      object\n",
       "dtype: object"
      ]
     },
     "execution_count": 13,
     "metadata": {},
     "output_type": "execute_result"
    }
   ],
   "source": [
    "df.dtypes"
   ]
  },
  {
   "cell_type": "code",
   "execution_count": 14,
   "metadata": {},
   "outputs": [],
   "source": [
    "# Calculando idade dos participantes\n",
    "df['DT_NASCIMENTO_BENEFICIARIO'] = pd.to_datetime(df.DT_NASCIMENTO_BENEFICIARIO)\n",
    "df['Person_Age'] = df['ANO_CONCESSAO_BOLSA'] - df['DT_NASCIMENTO_BENEFICIARIO'].dt.year"
   ]
  },
  {
   "cell_type": "code",
   "execution_count": 19,
   "metadata": {},
   "outputs": [
    {
     "data": {
      "text/html": [
       "<div>\n",
       "<style scoped>\n",
       "    .dataframe tbody tr th:only-of-type {\n",
       "        vertical-align: middle;\n",
       "    }\n",
       "\n",
       "    .dataframe tbody tr th {\n",
       "        vertical-align: top;\n",
       "    }\n",
       "\n",
       "    .dataframe thead th {\n",
       "        text-align: right;\n",
       "    }\n",
       "</style>\n",
       "<table border=\"1\" class=\"dataframe\">\n",
       "  <thead>\n",
       "    <tr style=\"text-align: right;\">\n",
       "      <th></th>\n",
       "      <th>ANO_CONCESSAO_BOLSA</th>\n",
       "      <th>CODIGO_EMEC_IES_BOLSA</th>\n",
       "      <th>NOME_IES_BOLSA</th>\n",
       "      <th>TIPO_BOLSA</th>\n",
       "      <th>MODALIDADE_ENSINO_BOLSA</th>\n",
       "      <th>NOME_CURSO_BOLSA</th>\n",
       "      <th>NOME_TURNO_CURSO_BOLSA</th>\n",
       "      <th>CPF_BENEFICIARIO_BOLSA</th>\n",
       "      <th>SEXO_BENEFICIARIO_BOLSA</th>\n",
       "      <th>RACA_BENEFICIARIO_BOLSA</th>\n",
       "      <th>DT_NASCIMENTO_BENEFICIARIO</th>\n",
       "      <th>BENEFICIARIO_DEFICIENTE_FISICO</th>\n",
       "      <th>REGIAO_BENEFICIARIO_BOLSA</th>\n",
       "      <th>SIGLA_UF_BENEFICIARIO_BOLSA</th>\n",
       "      <th>MUNICIPIO_BENEFICIARIO_BOLSA</th>\n",
       "      <th>Person_Age</th>\n",
       "    </tr>\n",
       "  </thead>\n",
       "  <tbody>\n",
       "    <tr>\n",
       "      <th>0</th>\n",
       "      <td>2005</td>\n",
       "      <td>423</td>\n",
       "      <td>UNIVERSIDADE REGIONAL INTEGRADA DO ALTO URUGUA...</td>\n",
       "      <td>BOLSA PARCIAL 50%</td>\n",
       "      <td>PRESENCIAL</td>\n",
       "      <td>Enfermagem</td>\n",
       "      <td>Integral</td>\n",
       "      <td>***264740**</td>\n",
       "      <td>Feminino</td>\n",
       "      <td>Branca</td>\n",
       "      <td>1987-02-17</td>\n",
       "      <td>NÃO</td>\n",
       "      <td>SUL</td>\n",
       "      <td>RS</td>\n",
       "      <td>SANTO ÂNGELO</td>\n",
       "      <td>18</td>\n",
       "    </tr>\n",
       "    <tr>\n",
       "      <th>1</th>\n",
       "      <td>2005</td>\n",
       "      <td>423</td>\n",
       "      <td>UNIVERSIDADE REGIONAL INTEGRADA DO ALTO URUGUA...</td>\n",
       "      <td>BOLSA PARCIAL 50%</td>\n",
       "      <td>PRESENCIAL</td>\n",
       "      <td>Serviço Social</td>\n",
       "      <td>Noturno</td>\n",
       "      <td>***976940**</td>\n",
       "      <td>Feminino</td>\n",
       "      <td>Parda</td>\n",
       "      <td>1986-06-14</td>\n",
       "      <td>NÃO</td>\n",
       "      <td>SUL</td>\n",
       "      <td>RS</td>\n",
       "      <td>FREDERICO WESTPHALEN</td>\n",
       "      <td>19</td>\n",
       "    </tr>\n",
       "    <tr>\n",
       "      <th>2</th>\n",
       "      <td>2005</td>\n",
       "      <td>423</td>\n",
       "      <td>UNIVERSIDADE REGIONAL INTEGRADA DO ALTO URUGUA...</td>\n",
       "      <td>BOLSA PARCIAL 50%</td>\n",
       "      <td>PRESENCIAL</td>\n",
       "      <td>Serviço Social</td>\n",
       "      <td>Noturno</td>\n",
       "      <td>***045340**</td>\n",
       "      <td>Feminino</td>\n",
       "      <td>Parda</td>\n",
       "      <td>1984-06-03</td>\n",
       "      <td>NÃO</td>\n",
       "      <td>SUL</td>\n",
       "      <td>RS</td>\n",
       "      <td>FREDERICO WESTPHALEN</td>\n",
       "      <td>21</td>\n",
       "    </tr>\n",
       "    <tr>\n",
       "      <th>3</th>\n",
       "      <td>2005</td>\n",
       "      <td>423</td>\n",
       "      <td>UNIVERSIDADE REGIONAL INTEGRADA DO ALTO URUGUA...</td>\n",
       "      <td>BOLSA PARCIAL 50%</td>\n",
       "      <td>PRESENCIAL</td>\n",
       "      <td>Ciência Da Computação</td>\n",
       "      <td>Noturno</td>\n",
       "      <td>***988420**</td>\n",
       "      <td>Masculino</td>\n",
       "      <td>Branca</td>\n",
       "      <td>1987-10-19</td>\n",
       "      <td>NÃO</td>\n",
       "      <td>SUL</td>\n",
       "      <td>RS</td>\n",
       "      <td>FREDERICO WESTPHALEN</td>\n",
       "      <td>18</td>\n",
       "    </tr>\n",
       "    <tr>\n",
       "      <th>4</th>\n",
       "      <td>2005</td>\n",
       "      <td>423</td>\n",
       "      <td>UNIVERSIDADE REGIONAL INTEGRADA DO ALTO URUGUA...</td>\n",
       "      <td>BOLSA PARCIAL 50%</td>\n",
       "      <td>PRESENCIAL</td>\n",
       "      <td>Ciência Da Computação</td>\n",
       "      <td>Noturno</td>\n",
       "      <td>***378080**</td>\n",
       "      <td>Masculino</td>\n",
       "      <td>Amarela</td>\n",
       "      <td>1987-07-20</td>\n",
       "      <td>NÃO</td>\n",
       "      <td>SUL</td>\n",
       "      <td>RS</td>\n",
       "      <td>FREDERICO WESTPHALEN</td>\n",
       "      <td>18</td>\n",
       "    </tr>\n",
       "  </tbody>\n",
       "</table>\n",
       "</div>"
      ],
      "text/plain": [
       "   ANO_CONCESSAO_BOLSA  CODIGO_EMEC_IES_BOLSA  \\\n",
       "0                 2005                    423   \n",
       "1                 2005                    423   \n",
       "2                 2005                    423   \n",
       "3                 2005                    423   \n",
       "4                 2005                    423   \n",
       "\n",
       "                                      NOME_IES_BOLSA         TIPO_BOLSA  \\\n",
       "0  UNIVERSIDADE REGIONAL INTEGRADA DO ALTO URUGUA...  BOLSA PARCIAL 50%   \n",
       "1  UNIVERSIDADE REGIONAL INTEGRADA DO ALTO URUGUA...  BOLSA PARCIAL 50%   \n",
       "2  UNIVERSIDADE REGIONAL INTEGRADA DO ALTO URUGUA...  BOLSA PARCIAL 50%   \n",
       "3  UNIVERSIDADE REGIONAL INTEGRADA DO ALTO URUGUA...  BOLSA PARCIAL 50%   \n",
       "4  UNIVERSIDADE REGIONAL INTEGRADA DO ALTO URUGUA...  BOLSA PARCIAL 50%   \n",
       "\n",
       "  MODALIDADE_ENSINO_BOLSA       NOME_CURSO_BOLSA NOME_TURNO_CURSO_BOLSA  \\\n",
       "0              PRESENCIAL             Enfermagem               Integral   \n",
       "1              PRESENCIAL         Serviço Social                Noturno   \n",
       "2              PRESENCIAL         Serviço Social                Noturno   \n",
       "3              PRESENCIAL  Ciência Da Computação                Noturno   \n",
       "4              PRESENCIAL  Ciência Da Computação                Noturno   \n",
       "\n",
       "  CPF_BENEFICIARIO_BOLSA SEXO_BENEFICIARIO_BOLSA RACA_BENEFICIARIO_BOLSA  \\\n",
       "0            ***264740**                Feminino                  Branca   \n",
       "1            ***976940**                Feminino                   Parda   \n",
       "2            ***045340**                Feminino                   Parda   \n",
       "3            ***988420**               Masculino                  Branca   \n",
       "4            ***378080**               Masculino                 Amarela   \n",
       "\n",
       "  DT_NASCIMENTO_BENEFICIARIO BENEFICIARIO_DEFICIENTE_FISICO  \\\n",
       "0                 1987-02-17                            NÃO   \n",
       "1                 1986-06-14                            NÃO   \n",
       "2                 1984-06-03                            NÃO   \n",
       "3                 1987-10-19                            NÃO   \n",
       "4                 1987-07-20                            NÃO   \n",
       "\n",
       "  REGIAO_BENEFICIARIO_BOLSA SIGLA_UF_BENEFICIARIO_BOLSA  \\\n",
       "0                       SUL                          RS   \n",
       "1                       SUL                          RS   \n",
       "2                       SUL                          RS   \n",
       "3                       SUL                          RS   \n",
       "4                       SUL                          RS   \n",
       "\n",
       "  MUNICIPIO_BENEFICIARIO_BOLSA  Person_Age  \n",
       "0                 SANTO ÂNGELO          18  \n",
       "1         FREDERICO WESTPHALEN          19  \n",
       "2         FREDERICO WESTPHALEN          21  \n",
       "3         FREDERICO WESTPHALEN          18  \n",
       "4         FREDERICO WESTPHALEN          18  "
      ]
     },
     "execution_count": 19,
     "metadata": {},
     "output_type": "execute_result"
    }
   ],
   "source": [
    "df.head()"
   ]
  },
  {
   "cell_type": "code",
   "execution_count": 20,
   "metadata": {},
   "outputs": [
    {
     "data": {
      "text/plain": [
       "array(['BOLSA PARCIAL 50%', 'BOLSA INTEGRAL'], dtype=object)"
      ]
     },
     "execution_count": 20,
     "metadata": {},
     "output_type": "execute_result"
    }
   ],
   "source": [
    "df.TIPO_BOLSA.unique()"
   ]
  },
  {
   "cell_type": "code",
   "execution_count": 22,
   "metadata": {},
   "outputs": [],
   "source": [
    "df['TIPO_BOLSA_NUM'] = df.TIPO_BOLSA.map({'BOLSA PARCIAL 50%': 0, 'BOLSA INTEGRAL': 1})"
   ]
  },
  {
   "cell_type": "code",
   "execution_count": 23,
   "metadata": {},
   "outputs": [
    {
     "data": {
      "text/plain": [
       "array(['PRESENCIAL', 'EDUCAÇÃO A DISTÂNCIA'], dtype=object)"
      ]
     },
     "execution_count": 23,
     "metadata": {},
     "output_type": "execute_result"
    }
   ],
   "source": [
    "df.MODALIDADE_ENSINO_BOLSA.unique()"
   ]
  },
  {
   "cell_type": "code",
   "execution_count": 24,
   "metadata": {},
   "outputs": [],
   "source": [
    "df['MODALIDADE_ENSINO_BOLSA_NUM'] = df.MODALIDADE_ENSINO_BOLSA.map({'PRESENCIAL': 0, 'EDUCAÇÃO A DISTÂNCIA': 1})"
   ]
  },
  {
   "cell_type": "code",
   "execution_count": 25,
   "metadata": {},
   "outputs": [
    {
     "data": {
      "text/plain": [
       "array(['Feminino', 'Masculino'], dtype=object)"
      ]
     },
     "execution_count": 25,
     "metadata": {},
     "output_type": "execute_result"
    }
   ],
   "source": [
    "df.SEXO_BENEFICIARIO_BOLSA.unique()"
   ]
  },
  {
   "cell_type": "code",
   "execution_count": 26,
   "metadata": {},
   "outputs": [],
   "source": [
    "df['SEXO_BENEFICIARIO_BOLSA_NUM'] = df.SEXO_BENEFICIARIO_BOLSA.map({'Feminino': 0, 'Masculino': 1})"
   ]
  },
  {
   "cell_type": "code",
   "execution_count": 27,
   "metadata": {},
   "outputs": [
    {
     "data": {
      "text/plain": [
       "array(['NÃO', 'SIM'], dtype=object)"
      ]
     },
     "execution_count": 27,
     "metadata": {},
     "output_type": "execute_result"
    }
   ],
   "source": [
    "df.BENEFICIARIO_DEFICIENTE_FISICO.unique()"
   ]
  },
  {
   "cell_type": "code",
   "execution_count": 28,
   "metadata": {},
   "outputs": [],
   "source": [
    "df['BENEFICIARIO_DEFICIENTE_FISICO_NUM'] = df.BENEFICIARIO_DEFICIENTE_FISICO.map({'NÃO': 0, 'SIM': 1})"
   ]
  },
  {
   "cell_type": "code",
   "execution_count": 29,
   "metadata": {},
   "outputs": [
    {
     "name": "stdout",
     "output_type": "stream",
     "text": [
      "<class 'pandas.core.frame.DataFrame'>\n",
      "RangeIndex: 95629 entries, 0 to 95628\n",
      "Data columns (total 20 columns):\n",
      "ANO_CONCESSAO_BOLSA                   95629 non-null int64\n",
      "CODIGO_EMEC_IES_BOLSA                 95629 non-null int64\n",
      "NOME_IES_BOLSA                        95312 non-null object\n",
      "TIPO_BOLSA                            95629 non-null object\n",
      "MODALIDADE_ENSINO_BOLSA               95629 non-null object\n",
      "NOME_CURSO_BOLSA                      94461 non-null object\n",
      "NOME_TURNO_CURSO_BOLSA                95629 non-null object\n",
      "CPF_BENEFICIARIO_BOLSA                95629 non-null object\n",
      "SEXO_BENEFICIARIO_BOLSA               95629 non-null object\n",
      "RACA_BENEFICIARIO_BOLSA               95629 non-null object\n",
      "DT_NASCIMENTO_BENEFICIARIO            95629 non-null datetime64[ns]\n",
      "BENEFICIARIO_DEFICIENTE_FISICO        95629 non-null object\n",
      "REGIAO_BENEFICIARIO_BOLSA             95363 non-null object\n",
      "SIGLA_UF_BENEFICIARIO_BOLSA           95363 non-null object\n",
      "MUNICIPIO_BENEFICIARIO_BOLSA          95363 non-null object\n",
      "Person_Age                            95629 non-null int64\n",
      "TIPO_BOLSA_NUM                        95629 non-null int64\n",
      "MODALIDADE_ENSINO_BOLSA_NUM           95629 non-null int64\n",
      "SEXO_BENEFICIARIO_BOLSA_NUM           95629 non-null int64\n",
      "BENEFICIARIO_DEFICIENTE_FISICO_NUM    95629 non-null int64\n",
      "dtypes: datetime64[ns](1), int64(7), object(12)\n",
      "memory usage: 14.6+ MB\n"
     ]
    }
   ],
   "source": [
    "df.info()"
   ]
  },
  {
   "cell_type": "code",
   "execution_count": 40,
   "metadata": {},
   "outputs": [],
   "source": [
    "#prouni_2005 = '../prouni/~data/'\n",
    "#data = pd.read_csv(prouni_2005, error_bad_lines=True, sep=';', encoding='latin-1')\n",
    "# Importing and concatenating our datasets\n",
    "\n",
    "filenames = glob('../prouni/~data/PDA_PROUNI*.csv')\n",
    "\n",
    "df = [pd.read_csv(f, error_bad_lines=True, sep=';', encoding='latin-1') for f in filenames]\n",
    "df = pd.concat(df, ignore_index=True)"
   ]
  },
  {
   "cell_type": "code",
   "execution_count": 41,
   "metadata": {},
   "outputs": [],
   "source": [
    "from matplotlib import rcParams\n",
    "rcParams['figure.figsize'] = 15, 15"
   ]
  },
  {
   "cell_type": "code",
   "execution_count": 44,
   "metadata": {},
   "outputs": [],
   "source": [
    "# Calculando idade dos participantes\n",
    "df['DT_NASCIMENTO_BENEFICIARIO'] = pd.to_datetime(df.DT_NASCIMENTO_BENEFICIARIO)\n",
    "df['Person_Age'] = df['ANO_CONCESSAO_BOLSA'] - df['DT_NASCIMENTO_BENEFICIARIO'].dt.year"
   ]
  },
  {
   "cell_type": "code",
   "execution_count": 42,
   "metadata": {},
   "outputs": [
    {
     "data": {
      "image/png": "[encoded data removed]",
      "text/plain": [
       "<Figure size 1080x1080 with 1 Axes>"
      ]
     },
     "metadata": {},
     "output_type": "display_data"
    }
   ],
   "source": [
    "#Scholarship Gender per Year\n",
    "sns.countplot(x='ANO_CONCESSAO_BOLSA', hue='SEXO_BENEFICIARIO_BOLSA', data=df, palette='coolwarm')\n",
    "plt.ylabel('Frequency of gender')\n",
    "plt.xlabel('Years')\n",
    "plt.title('Schorlarships Gender per Year')\n",
    "plt.legend(loc=0, title=None)\n",
    "plt.grid(False)\n",
    "sns.despine()\n",
    "plt.show()"
   ]
  },
  {
   "cell_type": "code",
   "execution_count": 43,
   "metadata": {},
   "outputs": [
    {
     "data": {
      "image/png": "[encoded data removed]",
      "text/plain": [
       "<Figure size 1080x1080 with 4 Axes>"
      ]
     },
     "metadata": {},
     "output_type": "display_data"
    }
   ],
   "source": [
    "plt.subplot(2, 2, 1)\n",
    "sns.countplot(x='TIPO_BOLSA', data=df, palette='deep')\n",
    "plt.title('Schoarships per type')\n",
    "plt.ylabel('Number of Scholarships')\n",
    "plt.xlabel('Type of Schoarships')\n",
    "plt.grid(False)\n",
    "\n",
    "\n",
    "plt.subplot(2, 2, 2)\n",
    "sns.countplot(x='ANO_CONCESSAO_BOLSA', hue='TIPO_BOLSA' , data=df, palette='deep')\n",
    "plt.ylabel('Frequency')\n",
    "plt.grid(False)\n",
    "plt.legend(loc=0, title=None)\n",
    "\n",
    "plt.subplot(2, 2, 3)\n",
    "sns.countplot(x='ANO_CONCESSAO_BOLSA', hue='SEXO_BENEFICIARIO_BOLSA' , data=df, palette='deep')\n",
    "plt.ylabel('Frequency')\n",
    "plt.grid(False)\n",
    "plt.legend(loc=0, title=None)\n",
    "\n",
    "plt.subplot(2, 2, 4)\n",
    "sns.countplot(x='REGIAO_BENEFICIARIO_BOLSA', hue='SEXO_BENEFICIARIO_BOLSA' , data=df, palette='deep')\n",
    "plt.ylabel('Frequency')\n",
    "plt.grid(False)\n",
    "plt.legend(loc=0, title=None)\n",
    "\n",
    "\n",
    "plt.show()"
   ]
  },
  {
   "cell_type": "code",
   "execution_count": 53,
   "metadata": {},
   "outputs": [
    {
     "data": {
      "text/plain": [
       "array([1987, 1986, 1984, 1985, 1988, 1978, 1976, 1957, 1983, 1979, 1980,\n",
       "       1967, 1977, 1981, 1982, 1974, 1969, 1973, 1971, 1975, 1964, 1972,\n",
       "       1992, 1962, 1968, 1966, 1970, 1960, 1963, 1961, 1953, 1955, 1949,\n",
       "       1965, 1959, 1954, 1956, 2004, 1946, 1950, 1958, 1997, 2005, 1948,\n",
       "       1943, 1951, 1938, 1952, 1945, 2007, 1942, 2003, 2087, 1998, 1995,\n",
       "       2001, 1993, 1996, 2067, 2071, 2068, 2075, 1947, 1989, 2078, 1941,\n",
       "       1999, 2006, 1990, 2069, 1937, 1916, 1994, 2074, 2080, 1932, 1939,\n",
       "       1933, 2066, 1935, 1927, 1940, 1925, 1944, 2060, 2077, 1884, 1897,\n",
       "       1923, 1936, 2081, 2065, 1887, 1921, 1900, 1929, 1991, 1919, 1930,\n",
       "       1905, 1922, 2000, 2019, 2002, 1910, 1911, 2079, 1934, 1904, 2073,\n",
       "       1917, 2008, 1931, 1908, 2072, 1926, 1901, 2009, 2010, 2011, 2012,\n",
       "       2059, 1871, 2013, 1898, 2015], dtype=int64)"
      ]
     },
     "execution_count": 53,
     "metadata": {},
     "output_type": "execute_result"
    }
   ],
   "source": [
    "df.DT_NASCIMENTO_BENEFICIARIO.dt.year.unique()"
   ]
  },
  {
   "cell_type": "code",
   "execution_count": 55,
   "metadata": {},
   "outputs": [
    {
     "ename": "SyntaxError",
     "evalue": "invalid syntax (<ipython-input-55-1f1f70deb7f4>, line 1)",
     "output_type": "error",
     "traceback": [
      "\u001b[1;36m  File \u001b[1;32m\"<ipython-input-55-1f1f70deb7f4>\"\u001b[1;36m, line \u001b[1;32m1\u001b[0m\n\u001b[1;33m    df[df.DT_NASCIMENTO_BENEFICIARIO.dt.year() = 1884]\u001b[0m\n\u001b[1;37m                                               ^\u001b[0m\n\u001b[1;31mSyntaxError\u001b[0m\u001b[1;31m:\u001b[0m invalid syntax\n"
     ]
    }
   ],
   "source": [
    "df[df.DT_NASCIMENTO_BENEFICIARIO.dt.year() = 1884]"
   ]
  },
  {
   "cell_type": "markdown",
   "metadata": {},
   "source": [
    "# Iniciando testes com a base de dados"
   ]
  },
  {
   "cell_type": "code",
   "execution_count": 11,
   "metadata": {},
   "outputs": [
    {
     "data": {
      "text/html": [
       "<div>\n",
       "<style scoped>\n",
       "    .dataframe tbody tr th:only-of-type {\n",
       "        vertical-align: middle;\n",
       "    }\n",
       "\n",
       "    .dataframe tbody tr th {\n",
       "        vertical-align: top;\n",
       "    }\n",
       "\n",
       "    .dataframe thead th {\n",
       "        text-align: right;\n",
       "    }\n",
       "</style>\n",
       "<table border=\"1\" class=\"dataframe\">\n",
       "  <thead>\n",
       "    <tr style=\"text-align: right;\">\n",
       "      <th></th>\n",
       "      <th>ANO_CONCESSAO_BOLSA</th>\n",
       "      <th>CODIGO_EMEC_IES_BOLSA</th>\n",
       "      <th>NOME_IES_BOLSA</th>\n",
       "      <th>TIPO_BOLSA</th>\n",
       "      <th>MODALIDADE_ENSINO_BOLSA</th>\n",
       "      <th>NOME_CURSO_BOLSA</th>\n",
       "      <th>NOME_TURNO_CURSO_BOLSA</th>\n",
       "      <th>CPF_BENEFICIARIO_BOLSA</th>\n",
       "      <th>SEXO_BENEFICIARIO_BOLSA</th>\n",
       "      <th>RACA_BENEFICIARIO_BOLSA</th>\n",
       "      <th>DT_NASCIMENTO_BENEFICIARIO</th>\n",
       "      <th>BENEFICIARIO_DEFICIENTE_FISICO</th>\n",
       "      <th>REGIAO_BENEFICIARIO_BOLSA</th>\n",
       "      <th>SIGLA_UF_BENEFICIARIO_BOLSA</th>\n",
       "      <th>MUNICIPIO_BENEFICIARIO_BOLSA</th>\n",
       "    </tr>\n",
       "  </thead>\n",
       "  <tbody>\n",
       "    <tr>\n",
       "      <th>470906</th>\n",
       "      <td>2009</td>\n",
       "      <td>216</td>\n",
       "      <td>CENTRO UNIVERSITÁRIO METODISTA IZABELA HENDRIX</td>\n",
       "      <td>BOLSA INTEGRAL</td>\n",
       "      <td>PRESENCIAL</td>\n",
       "      <td>Pedagogia</td>\n",
       "      <td>Noturno</td>\n",
       "      <td>***508876**</td>\n",
       "      <td>Feminino</td>\n",
       "      <td>Branca</td>\n",
       "      <td>03-02-1987</td>\n",
       "      <td>NÃO</td>\n",
       "      <td>SUDESTE</td>\n",
       "      <td>MG</td>\n",
       "      <td>BELO HORIZONTE</td>\n",
       "    </tr>\n",
       "    <tr>\n",
       "      <th>1604041</th>\n",
       "      <td>2015</td>\n",
       "      <td>449</td>\n",
       "      <td>UNIVERSIDADE LUTERANA DO BRASIL</td>\n",
       "      <td>BOLSA INTEGRAL</td>\n",
       "      <td>PRESENCIAL</td>\n",
       "      <td>Engenharia De Produção</td>\n",
       "      <td>Noturno</td>\n",
       "      <td>***276210**</td>\n",
       "      <td>Feminino</td>\n",
       "      <td>Branca</td>\n",
       "      <td>13-10-1992</td>\n",
       "      <td>NÃO</td>\n",
       "      <td>SUL</td>\n",
       "      <td>RS</td>\n",
       "      <td>CARAZINHO</td>\n",
       "    </tr>\n",
       "    <tr>\n",
       "      <th>1700503</th>\n",
       "      <td>2015</td>\n",
       "      <td>1255</td>\n",
       "      <td>FACULDADE BOA VIAGEM</td>\n",
       "      <td>BOLSA PARCIAL 50%</td>\n",
       "      <td>PRESENCIAL</td>\n",
       "      <td>Comunicação Social - Publicidade E Propaganda</td>\n",
       "      <td>Noturno</td>\n",
       "      <td>***165654**</td>\n",
       "      <td>Masculino</td>\n",
       "      <td>Parda</td>\n",
       "      <td>03-12-1990</td>\n",
       "      <td>NÃO</td>\n",
       "      <td>NORDESTE</td>\n",
       "      <td>PE</td>\n",
       "      <td>CABO DE SANTO AGOSTINHO</td>\n",
       "    </tr>\n",
       "    <tr>\n",
       "      <th>1472793</th>\n",
       "      <td>2014</td>\n",
       "      <td>3875</td>\n",
       "      <td>CENTRO UNIVERSITÁRIO DA FUNDAÇÃO EDUCACIONAL G...</td>\n",
       "      <td>BOLSA INTEGRAL</td>\n",
       "      <td>PRESENCIAL</td>\n",
       "      <td>Administração</td>\n",
       "      <td>Noturno</td>\n",
       "      <td>***516806**</td>\n",
       "      <td>Feminino</td>\n",
       "      <td>Branca</td>\n",
       "      <td>13-12-1993</td>\n",
       "      <td>NÃO</td>\n",
       "      <td>SUDESTE</td>\n",
       "      <td>MG</td>\n",
       "      <td>ITAMOGI</td>\n",
       "    </tr>\n",
       "    <tr>\n",
       "      <th>259700</th>\n",
       "      <td>2007</td>\n",
       "      <td>19512</td>\n",
       "      <td>INSTITUTO MASTER DE ENSINO PRESIDENTE ANTÔNIO ...</td>\n",
       "      <td>BOLSA INTEGRAL</td>\n",
       "      <td>PRESENCIAL</td>\n",
       "      <td>Nutrição</td>\n",
       "      <td>Noturno</td>\n",
       "      <td>***906666**</td>\n",
       "      <td>Feminino</td>\n",
       "      <td>Branca</td>\n",
       "      <td>29-12-1989</td>\n",
       "      <td>NÃO</td>\n",
       "      <td>SUDESTE</td>\n",
       "      <td>MG</td>\n",
       "      <td>ARAGUARI</td>\n",
       "    </tr>\n",
       "  </tbody>\n",
       "</table>\n",
       "</div>"
      ],
      "text/plain": [
       "         ANO_CONCESSAO_BOLSA  CODIGO_EMEC_IES_BOLSA  \\\n",
       "470906                  2009                    216   \n",
       "1604041                 2015                    449   \n",
       "1700503                 2015                   1255   \n",
       "1472793                 2014                   3875   \n",
       "259700                  2007                  19512   \n",
       "\n",
       "                                            NOME_IES_BOLSA         TIPO_BOLSA  \\\n",
       "470906      CENTRO UNIVERSITÁRIO METODISTA IZABELA HENDRIX     BOLSA INTEGRAL   \n",
       "1604041                    UNIVERSIDADE LUTERANA DO BRASIL     BOLSA INTEGRAL   \n",
       "1700503                               FACULDADE BOA VIAGEM  BOLSA PARCIAL 50%   \n",
       "1472793  CENTRO UNIVERSITÁRIO DA FUNDAÇÃO EDUCACIONAL G...     BOLSA INTEGRAL   \n",
       "259700   INSTITUTO MASTER DE ENSINO PRESIDENTE ANTÔNIO ...     BOLSA INTEGRAL   \n",
       "\n",
       "        MODALIDADE_ENSINO_BOLSA  \\\n",
       "470906               PRESENCIAL   \n",
       "1604041              PRESENCIAL   \n",
       "1700503              PRESENCIAL   \n",
       "1472793              PRESENCIAL   \n",
       "259700               PRESENCIAL   \n",
       "\n",
       "                                      NOME_CURSO_BOLSA NOME_TURNO_CURSO_BOLSA  \\\n",
       "470906                                       Pedagogia                Noturno   \n",
       "1604041                         Engenharia De Produção                Noturno   \n",
       "1700503  Comunicação Social - Publicidade E Propaganda                Noturno   \n",
       "1472793                                  Administração                Noturno   \n",
       "259700                                        Nutrição                Noturno   \n",
       "\n",
       "        CPF_BENEFICIARIO_BOLSA SEXO_BENEFICIARIO_BOLSA  \\\n",
       "470906             ***508876**                Feminino   \n",
       "1604041            ***276210**                Feminino   \n",
       "1700503            ***165654**               Masculino   \n",
       "1472793            ***516806**                Feminino   \n",
       "259700             ***906666**                Feminino   \n",
       "\n",
       "        RACA_BENEFICIARIO_BOLSA DT_NASCIMENTO_BENEFICIARIO  \\\n",
       "470906                   Branca                 03-02-1987   \n",
       "1604041                  Branca                 13-10-1992   \n",
       "1700503                   Parda                 03-12-1990   \n",
       "1472793                  Branca                 13-12-1993   \n",
       "259700                   Branca                 29-12-1989   \n",
       "\n",
       "        BENEFICIARIO_DEFICIENTE_FISICO REGIAO_BENEFICIARIO_BOLSA  \\\n",
       "470906                             NÃO                   SUDESTE   \n",
       "1604041                            NÃO                       SUL   \n",
       "1700503                            NÃO                  NORDESTE   \n",
       "1472793                            NÃO                   SUDESTE   \n",
       "259700                             NÃO                   SUDESTE   \n",
       "\n",
       "        SIGLA_UF_BENEFICIARIO_BOLSA MUNICIPIO_BENEFICIARIO_BOLSA  \n",
       "470906                           MG               BELO HORIZONTE  \n",
       "1604041                          RS                    CARAZINHO  \n",
       "1700503                          PE      CABO DE SANTO AGOSTINHO  \n",
       "1472793                          MG                      ITAMOGI  \n",
       "259700                           MG                     ARAGUARI  "
      ]
     },
     "execution_count": 11,
     "metadata": {},
     "output_type": "execute_result"
    }
   ],
   "source": [
    "train = df.sample(100)\n",
    "train.head(5)"
   ]
  },
  {
   "cell_type": "code",
   "execution_count": 14,
   "metadata": {},
   "outputs": [],
   "source": [
    "train['SEX_NUM'] = train.SEXO_BENEFICIARIO_BOLSA.map({'Feminino': 0, 'Masculino': 1})"
   ]
  },
  {
   "cell_type": "code",
   "execution_count": 15,
   "metadata": {},
   "outputs": [
    {
     "data": {
      "text/html": [
       "<div>\n",
       "<style scoped>\n",
       "    .dataframe tbody tr th:only-of-type {\n",
       "        vertical-align: middle;\n",
       "    }\n",
       "\n",
       "    .dataframe tbody tr th {\n",
       "        vertical-align: top;\n",
       "    }\n",
       "\n",
       "    .dataframe thead th {\n",
       "        text-align: right;\n",
       "    }\n",
       "</style>\n",
       "<table border=\"1\" class=\"dataframe\">\n",
       "  <thead>\n",
       "    <tr style=\"text-align: right;\">\n",
       "      <th></th>\n",
       "      <th>ANO_CONCESSAO_BOLSA</th>\n",
       "      <th>CODIGO_EMEC_IES_BOLSA</th>\n",
       "      <th>NOME_IES_BOLSA</th>\n",
       "      <th>TIPO_BOLSA</th>\n",
       "      <th>MODALIDADE_ENSINO_BOLSA</th>\n",
       "      <th>NOME_CURSO_BOLSA</th>\n",
       "      <th>NOME_TURNO_CURSO_BOLSA</th>\n",
       "      <th>CPF_BENEFICIARIO_BOLSA</th>\n",
       "      <th>SEXO_BENEFICIARIO_BOLSA</th>\n",
       "      <th>RACA_BENEFICIARIO_BOLSA</th>\n",
       "      <th>DT_NASCIMENTO_BENEFICIARIO</th>\n",
       "      <th>BENEFICIARIO_DEFICIENTE_FISICO</th>\n",
       "      <th>REGIAO_BENEFICIARIO_BOLSA</th>\n",
       "      <th>SIGLA_UF_BENEFICIARIO_BOLSA</th>\n",
       "      <th>MUNICIPIO_BENEFICIARIO_BOLSA</th>\n",
       "      <th>SEX_NUM</th>\n",
       "    </tr>\n",
       "  </thead>\n",
       "  <tbody>\n",
       "    <tr>\n",
       "      <th>470906</th>\n",
       "      <td>2009</td>\n",
       "      <td>216</td>\n",
       "      <td>CENTRO UNIVERSITÁRIO METODISTA IZABELA HENDRIX</td>\n",
       "      <td>BOLSA INTEGRAL</td>\n",
       "      <td>PRESENCIAL</td>\n",
       "      <td>Pedagogia</td>\n",
       "      <td>Noturno</td>\n",
       "      <td>***508876**</td>\n",
       "      <td>Feminino</td>\n",
       "      <td>Branca</td>\n",
       "      <td>03-02-1987</td>\n",
       "      <td>NÃO</td>\n",
       "      <td>SUDESTE</td>\n",
       "      <td>MG</td>\n",
       "      <td>BELO HORIZONTE</td>\n",
       "      <td>0</td>\n",
       "    </tr>\n",
       "    <tr>\n",
       "      <th>1604041</th>\n",
       "      <td>2015</td>\n",
       "      <td>449</td>\n",
       "      <td>UNIVERSIDADE LUTERANA DO BRASIL</td>\n",
       "      <td>BOLSA INTEGRAL</td>\n",
       "      <td>PRESENCIAL</td>\n",
       "      <td>Engenharia De Produção</td>\n",
       "      <td>Noturno</td>\n",
       "      <td>***276210**</td>\n",
       "      <td>Feminino</td>\n",
       "      <td>Branca</td>\n",
       "      <td>13-10-1992</td>\n",
       "      <td>NÃO</td>\n",
       "      <td>SUL</td>\n",
       "      <td>RS</td>\n",
       "      <td>CARAZINHO</td>\n",
       "      <td>0</td>\n",
       "    </tr>\n",
       "    <tr>\n",
       "      <th>1700503</th>\n",
       "      <td>2015</td>\n",
       "      <td>1255</td>\n",
       "      <td>FACULDADE BOA VIAGEM</td>\n",
       "      <td>BOLSA PARCIAL 50%</td>\n",
       "      <td>PRESENCIAL</td>\n",
       "      <td>Comunicação Social - Publicidade E Propaganda</td>\n",
       "      <td>Noturno</td>\n",
       "      <td>***165654**</td>\n",
       "      <td>Masculino</td>\n",
       "      <td>Parda</td>\n",
       "      <td>03-12-1990</td>\n",
       "      <td>NÃO</td>\n",
       "      <td>NORDESTE</td>\n",
       "      <td>PE</td>\n",
       "      <td>CABO DE SANTO AGOSTINHO</td>\n",
       "      <td>1</td>\n",
       "    </tr>\n",
       "    <tr>\n",
       "      <th>1472793</th>\n",
       "      <td>2014</td>\n",
       "      <td>3875</td>\n",
       "      <td>CENTRO UNIVERSITÁRIO DA FUNDAÇÃO EDUCACIONAL G...</td>\n",
       "      <td>BOLSA INTEGRAL</td>\n",
       "      <td>PRESENCIAL</td>\n",
       "      <td>Administração</td>\n",
       "      <td>Noturno</td>\n",
       "      <td>***516806**</td>\n",
       "      <td>Feminino</td>\n",
       "      <td>Branca</td>\n",
       "      <td>13-12-1993</td>\n",
       "      <td>NÃO</td>\n",
       "      <td>SUDESTE</td>\n",
       "      <td>MG</td>\n",
       "      <td>ITAMOGI</td>\n",
       "      <td>0</td>\n",
       "    </tr>\n",
       "    <tr>\n",
       "      <th>259700</th>\n",
       "      <td>2007</td>\n",
       "      <td>19512</td>\n",
       "      <td>INSTITUTO MASTER DE ENSINO PRESIDENTE ANTÔNIO ...</td>\n",
       "      <td>BOLSA INTEGRAL</td>\n",
       "      <td>PRESENCIAL</td>\n",
       "      <td>Nutrição</td>\n",
       "      <td>Noturno</td>\n",
       "      <td>***906666**</td>\n",
       "      <td>Feminino</td>\n",
       "      <td>Branca</td>\n",
       "      <td>29-12-1989</td>\n",
       "      <td>NÃO</td>\n",
       "      <td>SUDESTE</td>\n",
       "      <td>MG</td>\n",
       "      <td>ARAGUARI</td>\n",
       "      <td>0</td>\n",
       "    </tr>\n",
       "  </tbody>\n",
       "</table>\n",
       "</div>"
      ],
      "text/plain": [
       "         ANO_CONCESSAO_BOLSA  CODIGO_EMEC_IES_BOLSA  \\\n",
       "470906                  2009                    216   \n",
       "1604041                 2015                    449   \n",
       "1700503                 2015                   1255   \n",
       "1472793                 2014                   3875   \n",
       "259700                  2007                  19512   \n",
       "\n",
       "                                            NOME_IES_BOLSA         TIPO_BOLSA  \\\n",
       "470906      CENTRO UNIVERSITÁRIO METODISTA IZABELA HENDRIX     BOLSA INTEGRAL   \n",
       "1604041                    UNIVERSIDADE LUTERANA DO BRASIL     BOLSA INTEGRAL   \n",
       "1700503                               FACULDADE BOA VIAGEM  BOLSA PARCIAL 50%   \n",
       "1472793  CENTRO UNIVERSITÁRIO DA FUNDAÇÃO EDUCACIONAL G...     BOLSA INTEGRAL   \n",
       "259700   INSTITUTO MASTER DE ENSINO PRESIDENTE ANTÔNIO ...     BOLSA INTEGRAL   \n",
       "\n",
       "        MODALIDADE_ENSINO_BOLSA  \\\n",
       "470906               PRESENCIAL   \n",
       "1604041              PRESENCIAL   \n",
       "1700503              PRESENCIAL   \n",
       "1472793              PRESENCIAL   \n",
       "259700               PRESENCIAL   \n",
       "\n",
       "                                      NOME_CURSO_BOLSA NOME_TURNO_CURSO_BOLSA  \\\n",
       "470906                                       Pedagogia                Noturno   \n",
       "1604041                         Engenharia De Produção                Noturno   \n",
       "1700503  Comunicação Social - Publicidade E Propaganda                Noturno   \n",
       "1472793                                  Administração                Noturno   \n",
       "259700                                        Nutrição                Noturno   \n",
       "\n",
       "        CPF_BENEFICIARIO_BOLSA SEXO_BENEFICIARIO_BOLSA  \\\n",
       "470906             ***508876**                Feminino   \n",
       "1604041            ***276210**                Feminino   \n",
       "1700503            ***165654**               Masculino   \n",
       "1472793            ***516806**                Feminino   \n",
       "259700             ***906666**                Feminino   \n",
       "\n",
       "        RACA_BENEFICIARIO_BOLSA DT_NASCIMENTO_BENEFICIARIO  \\\n",
       "470906                   Branca                 03-02-1987   \n",
       "1604041                  Branca                 13-10-1992   \n",
       "1700503                   Parda                 03-12-1990   \n",
       "1472793                  Branca                 13-12-1993   \n",
       "259700                   Branca                 29-12-1989   \n",
       "\n",
       "        BENEFICIARIO_DEFICIENTE_FISICO REGIAO_BENEFICIARIO_BOLSA  \\\n",
       "470906                             NÃO                   SUDESTE   \n",
       "1604041                            NÃO                       SUL   \n",
       "1700503                            NÃO                  NORDESTE   \n",
       "1472793                            NÃO                   SUDESTE   \n",
       "259700                             NÃO                   SUDESTE   \n",
       "\n",
       "        SIGLA_UF_BENEFICIARIO_BOLSA MUNICIPIO_BENEFICIARIO_BOLSA  SEX_NUM  \n",
       "470906                           MG               BELO HORIZONTE        0  \n",
       "1604041                          RS                    CARAZINHO        0  \n",
       "1700503                          PE      CABO DE SANTO AGOSTINHO        1  \n",
       "1472793                          MG                      ITAMOGI        0  \n",
       "259700                           MG                     ARAGUARI        0  "
      ]
     },
     "execution_count": 15,
     "metadata": {},
     "output_type": "execute_result"
    }
   ],
   "source": [
    "train.head()"
   ]
  },
  {
   "cell_type": "code",
   "execution_count": null,
   "metadata": {},
   "outputs": [],
   "source": []
  },
  {
   "cell_type": "code",
   "execution_count": null,
   "metadata": {},
   "outputs": [],
   "source": []
  },
  {
   "cell_type": "code",
   "execution_count": null,
   "metadata": {},
   "outputs": [],
   "source": []
  },
  {
   "cell_type": "code",
   "execution_count": null,
   "metadata": {},
   "outputs": [],
   "source": []
  },
  {
   "cell_type": "code",
   "execution_count": null,
   "metadata": {},
   "outputs": [],
   "source": []
  },
  {
   "cell_type": "code",
   "execution_count": null,
   "metadata": {},
   "outputs": [],
   "source": []
  },
  {
   "cell_type": "code",
   "execution_count": 8,
   "metadata": {},
   "outputs": [
    {
     "data": {
      "text/plain": [
       "NOME_CURSO_BOLSA                  0.284218\n",
       "NOME_IES_BOLSA                    0.024581\n",
       "MUNICIPIO_BENEFICIARIO_BOLSA      0.020208\n",
       "SIGLA_UF_BENEFICIARIO_BOLSA       0.020208\n",
       "REGIAO_BENEFICIARIO_BOLSA         0.020208\n",
       "BENEFICIARIO_DEFICIENTE_FISICO    0.000000\n",
       "DT_NASCIMENTO_BENEFICIARIO        0.000000\n",
       "RACA_BENEFICIARIO_BOLSA           0.000000\n",
       "SEXO_BENEFICIARIO_BOLSA           0.000000\n",
       "CPF_BENEFICIARIO_BOLSA            0.000000\n",
       "NOME_TURNO_CURSO_BOLSA            0.000000\n",
       "MODALIDADE_ENSINO_BOLSA           0.000000\n",
       "TIPO_BOLSA                        0.000000\n",
       "CODIGO_EMEC_IES_BOLSA             0.000000\n",
       "ANO_CONCESSAO_BOLSA               0.000000\n",
       "dtype: float64"
      ]
     },
     "execution_count": 8,
     "metadata": {},
     "output_type": "execute_result"
    }
   ],
   "source": [
    "#Checking null values\n",
    "percent = df.isnull().sum()/ len(df) *100\n",
    "percent.sort_values(ascending = False)"
   ]
  },
  {
   "cell_type": "markdown",
   "metadata": {},
   "source": [
    "# Playing with the dataset"
   ]
  },
  {
   "cell_type": "code",
   "execution_count": 4,
   "metadata": {},
   "outputs": [
    {
     "data": {
      "text/html": [
       "<div>\n",
       "<style>\n",
       "    .dataframe thead tr:only-child th {\n",
       "        text-align: right;\n",
       "    }\n",
       "\n",
       "    .dataframe thead th {\n",
       "        text-align: left;\n",
       "    }\n",
       "\n",
       "    .dataframe tbody tr th {\n",
       "        vertical-align: top;\n",
       "    }\n",
       "</style>\n",
       "<table border=\"1\" class=\"dataframe\">\n",
       "  <thead>\n",
       "    <tr style=\"text-align: right;\">\n",
       "      <th></th>\n",
       "      <th>ANO_CONCESSAO_BOLSA</th>\n",
       "      <th>CODIGO_EMEC_IES_BOLSA</th>\n",
       "      <th>NOME_IES_BOLSA</th>\n",
       "      <th>TIPO_BOLSA</th>\n",
       "      <th>MODALIDADE_ENSINO_BOLSA</th>\n",
       "      <th>NOME_CURSO_BOLSA</th>\n",
       "      <th>NOME_TURNO_CURSO_BOLSA</th>\n",
       "      <th>CPF_BENEFICIARIO_BOLSA</th>\n",
       "      <th>SEXO_BENEFICIARIO_BOLSA</th>\n",
       "      <th>RACA_BENEFICIARIO_BOLSA</th>\n",
       "      <th>DT_NASCIMENTO_BENEFICIARIO</th>\n",
       "      <th>BENEFICIARIO_DEFICIENTE_FISICO</th>\n",
       "      <th>REGIAO_BENEFICIARIO_BOLSA</th>\n",
       "      <th>SIGLA_UF_BENEFICIARIO_BOLSA</th>\n",
       "      <th>MUNICIPIO_BENEFICIARIO_BOLSA</th>\n",
       "    </tr>\n",
       "  </thead>\n",
       "  <tbody>\n",
       "    <tr>\n",
       "      <th>1956061</th>\n",
       "      <td>2016</td>\n",
       "      <td>2571</td>\n",
       "      <td>FACULDADE REDENTOR</td>\n",
       "      <td>BOLSA INTEGRAL</td>\n",
       "      <td>PRESENCIAL</td>\n",
       "      <td>Engenharia Civil</td>\n",
       "      <td>Noturno</td>\n",
       "      <td>***328256**</td>\n",
       "      <td>Feminino</td>\n",
       "      <td>Branca</td>\n",
       "      <td>05-07-1995</td>\n",
       "      <td>NÃO</td>\n",
       "      <td>SUDESTE</td>\n",
       "      <td>MG</td>\n",
       "      <td>MURIAÉ</td>\n",
       "    </tr>\n",
       "    <tr>\n",
       "      <th>53429</th>\n",
       "      <td>2005</td>\n",
       "      <td>1461</td>\n",
       "      <td>FACULDADE DE TECNOLOGIA E CIÊNCIAS</td>\n",
       "      <td>BOLSA INTEGRAL</td>\n",
       "      <td>EDUCAÇÃO A DISTÂNCIA</td>\n",
       "      <td>Geografia</td>\n",
       "      <td>Curso a distância</td>\n",
       "      <td>***830015**</td>\n",
       "      <td>Masculino</td>\n",
       "      <td>Branca</td>\n",
       "      <td>08-10-1984</td>\n",
       "      <td>NÃO</td>\n",
       "      <td>NORDESTE</td>\n",
       "      <td>BA</td>\n",
       "      <td>SALVADOR</td>\n",
       "    </tr>\n",
       "    <tr>\n",
       "      <th>1165922</th>\n",
       "      <td>2013</td>\n",
       "      <td>4010</td>\n",
       "      <td>CENTRO UNIVERSITÁRIO METODISTA</td>\n",
       "      <td>BOLSA INTEGRAL</td>\n",
       "      <td>PRESENCIAL</td>\n",
       "      <td>Turismo</td>\n",
       "      <td>Noturno</td>\n",
       "      <td>***201040**</td>\n",
       "      <td>Feminino</td>\n",
       "      <td>Branca</td>\n",
       "      <td>27-05-1993</td>\n",
       "      <td>NÃO</td>\n",
       "      <td>SUL</td>\n",
       "      <td>RS</td>\n",
       "      <td>PORTO ALEGRE</td>\n",
       "    </tr>\n",
       "    <tr>\n",
       "      <th>302605</th>\n",
       "      <td>2007</td>\n",
       "      <td>891</td>\n",
       "      <td>FACULDADE  PITÁGORAS</td>\n",
       "      <td>BOLSA PARCIAL 50%</td>\n",
       "      <td>PRESENCIAL</td>\n",
       "      <td>Administração</td>\n",
       "      <td>Matutino</td>\n",
       "      <td>***492456**</td>\n",
       "      <td>Masculino</td>\n",
       "      <td>Branca</td>\n",
       "      <td>12-05-1983</td>\n",
       "      <td>NÃO</td>\n",
       "      <td>SUDESTE</td>\n",
       "      <td>MG</td>\n",
       "      <td>CONTAGEM</td>\n",
       "    </tr>\n",
       "    <tr>\n",
       "      <th>600538</th>\n",
       "      <td>2010</td>\n",
       "      <td>671</td>\n",
       "      <td>UNIVERSIDADE ANHANGUERA - UNIDERP</td>\n",
       "      <td>BOLSA INTEGRAL</td>\n",
       "      <td>PRESENCIAL</td>\n",
       "      <td>Nutrição</td>\n",
       "      <td>Matutino</td>\n",
       "      <td>***912111**</td>\n",
       "      <td>Feminino</td>\n",
       "      <td>Branca</td>\n",
       "      <td>18-09-1992</td>\n",
       "      <td>NÃO</td>\n",
       "      <td>CENTRO-OESTE</td>\n",
       "      <td>MS</td>\n",
       "      <td>CAMPO GRANDE</td>\n",
       "    </tr>\n",
       "  </tbody>\n",
       "</table>\n",
       "</div>"
      ],
      "text/plain": [
       "         ANO_CONCESSAO_BOLSA  CODIGO_EMEC_IES_BOLSA  \\\n",
       "1956061                 2016                   2571   \n",
       "53429                   2005                   1461   \n",
       "1165922                 2013                   4010   \n",
       "302605                  2007                    891   \n",
       "600538                  2010                    671   \n",
       "\n",
       "                             NOME_IES_BOLSA         TIPO_BOLSA  \\\n",
       "1956061                  FACULDADE REDENTOR     BOLSA INTEGRAL   \n",
       "53429    FACULDADE DE TECNOLOGIA E CIÊNCIAS     BOLSA INTEGRAL   \n",
       "1165922      CENTRO UNIVERSITÁRIO METODISTA     BOLSA INTEGRAL   \n",
       "302605                 FACULDADE  PITÁGORAS  BOLSA PARCIAL 50%   \n",
       "600538    UNIVERSIDADE ANHANGUERA - UNIDERP     BOLSA INTEGRAL   \n",
       "\n",
       "        MODALIDADE_ENSINO_BOLSA  NOME_CURSO_BOLSA NOME_TURNO_CURSO_BOLSA  \\\n",
       "1956061              PRESENCIAL  Engenharia Civil                Noturno   \n",
       "53429      EDUCAÇÃO A DISTÂNCIA         Geografia      Curso a distância   \n",
       "1165922              PRESENCIAL           Turismo                Noturno   \n",
       "302605               PRESENCIAL     Administração               Matutino   \n",
       "600538               PRESENCIAL          Nutrição               Matutino   \n",
       "\n",
       "        CPF_BENEFICIARIO_BOLSA SEXO_BENEFICIARIO_BOLSA  \\\n",
       "1956061            ***328256**                Feminino   \n",
       "53429              ***830015**               Masculino   \n",
       "1165922            ***201040**                Feminino   \n",
       "302605             ***492456**               Masculino   \n",
       "600538             ***912111**                Feminino   \n",
       "\n",
       "        RACA_BENEFICIARIO_BOLSA DT_NASCIMENTO_BENEFICIARIO  \\\n",
       "1956061                  Branca                 05-07-1995   \n",
       "53429                    Branca                 08-10-1984   \n",
       "1165922                  Branca                 27-05-1993   \n",
       "302605                   Branca                 12-05-1983   \n",
       "600538                   Branca                 18-09-1992   \n",
       "\n",
       "        BENEFICIARIO_DEFICIENTE_FISICO REGIAO_BENEFICIARIO_BOLSA  \\\n",
       "1956061                            NÃO                   SUDESTE   \n",
       "53429                              NÃO                  NORDESTE   \n",
       "1165922                            NÃO                       SUL   \n",
       "302605                             NÃO                   SUDESTE   \n",
       "600538                             NÃO              CENTRO-OESTE   \n",
       "\n",
       "        SIGLA_UF_BENEFICIARIO_BOLSA MUNICIPIO_BENEFICIARIO_BOLSA  \n",
       "1956061                          MG                       MURIAÉ  \n",
       "53429                            BA                     SALVADOR  \n",
       "1165922                          RS                 PORTO ALEGRE  \n",
       "302605                           MG                     CONTAGEM  \n",
       "600538                           MS                 CAMPO GRANDE  "
      ]
     },
     "execution_count": 4,
     "metadata": {},
     "output_type": "execute_result"
    }
   ],
   "source": [
    "train = df.sample(100)\n",
    "train.head()"
   ]
  },
  {
   "cell_type": "code",
   "execution_count": 38,
   "metadata": {
    "collapsed": true
   },
   "outputs": [],
   "source": [
    "from matplotlib import rcParams\n",
    "rcParams['figure.figsize'] = 15, 15"
   ]
  },
  {
   "cell_type": "code",
   "execution_count": 5,
   "metadata": {},
   "outputs": [
    {
     "data": {
      "text/plain": [
       "array([2016, 2005, 2013, 2007, 2010, 2014, 2011, 2008, 2006, 2012, 2009,\n",
       "       2015], dtype=int64)"
      ]
     },
     "execution_count": 5,
     "metadata": {},
     "output_type": "execute_result"
    }
   ],
   "source": [
    "train.ANO_CONCESSAO_BOLSA.unique()"
   ]
  },
  {
   "cell_type": "code",
   "execution_count": 39,
   "metadata": {},
   "outputs": [
    {
     "data": {
      "image/png": "[encoded data removed]",
      "text/plain": [
       "<matplotlib.figure.Figure at 0x204cddc2710>"
      ]
     },
     "metadata": {},
     "output_type": "display_data"
    }
   ],
   "source": [
    "#Scholarship Gender per Year\n",
    "sns.countplot(x='ANO_CONCESSAO_BOLSA', hue='SEXO_BENEFICIARIO_BOLSA', data=train, palette='coolwarm')\n",
    "plt.ylabel('Frequency of gender')\n",
    "plt.xlabel('Years')\n",
    "plt.title('Schorlarships Gender per Year')\n",
    "plt.legend(loc=0, title=None)\n",
    "plt.grid(False)\n",
    "#sns.despine()\n",
    "plt.show()"
   ]
  },
  {
   "cell_type": "code",
   "execution_count": 9,
   "metadata": {},
   "outputs": [
    {
     "data": {
      "text/plain": [
       "Index(['ANO_CONCESSAO_BOLSA', 'CODIGO_EMEC_IES_BOLSA', 'NOME_IES_BOLSA',\n",
       "       'TIPO_BOLSA', 'MODALIDADE_ENSINO_BOLSA', 'NOME_CURSO_BOLSA',\n",
       "       'NOME_TURNO_CURSO_BOLSA', 'CPF_BENEFICIARIO_BOLSA',\n",
       "       'SEXO_BENEFICIARIO_BOLSA', 'RACA_BENEFICIARIO_BOLSA',\n",
       "       'DT_NASCIMENTO_BENEFICIARIO', 'BENEFICIARIO_DEFICIENTE_FISICO',\n",
       "       'REGIAO_BENEFICIARIO_BOLSA', 'SIGLA_UF_BENEFICIARIO_BOLSA',\n",
       "       'MUNICIPIO_BENEFICIARIO_BOLSA'],\n",
       "      dtype='object')"
      ]
     },
     "execution_count": 9,
     "metadata": {},
     "output_type": "execute_result"
    }
   ],
   "source": [
    "train.columns"
   ]
  },
  {
   "cell_type": "code",
   "execution_count": 12,
   "metadata": {},
   "outputs": [
    {
     "data": {
      "text/plain": [
       "SP    34\n",
       "MG    12\n",
       "PR     7\n",
       "BA     6\n",
       "RS     5\n",
       "RJ     4\n",
       "AM     4\n",
       "CE     3\n",
       "SC     3\n",
       "AL     2\n",
       "MA     2\n",
       "PI     2\n",
       "MS     2\n",
       "AC     2\n",
       "GO     2\n",
       "MT     2\n",
       "DF     1\n",
       "PE     1\n",
       "RN     1\n",
       "TO     1\n",
       "PA     1\n",
       "AP     1\n",
       "SE     1\n",
       "ES     1\n",
       "Name: SIGLA_UF_BENEFICIARIO_BOLSA, dtype: int64"
      ]
     },
     "execution_count": 12,
     "metadata": {},
     "output_type": "execute_result"
    }
   ],
   "source": [
    "train.SIGLA_UF_BENEFICIARIO_BOLSA.value_counts()"
   ]
  },
  {
   "cell_type": "code",
   "execution_count": 46,
   "metadata": {},
   "outputs": [
    {
     "data": {
      "image/png": "[encoded data removed]",
      "text/plain": [
       "<matplotlib.figure.Figure at 0x204cdf006d8>"
      ]
     },
     "metadata": {},
     "output_type": "display_data"
    }
   ],
   "source": [
    "plt.subplot(2, 2, 1)\n",
    "sns.countplot(x='TIPO_BOLSA', data=train, palette='deep')\n",
    "plt.title('Schoarships per type')\n",
    "plt.ylabel('Number of Scholarships')\n",
    "plt.xlabel('Type of Schoarships')\n",
    "plt.grid(False)\n",
    "\n",
    "\n",
    "plt.subplot(2, 2, 2)\n",
    "sns.countplot(x='ANO_CONCESSAO_BOLSA', hue='TIPO_BOLSA' , data=train, palette='deep')\n",
    "plt.ylabel('Frequency')\n",
    "plt.grid(False)\n",
    "plt.legend(loc=0, title=None)\n",
    "\n",
    "plt.subplot(2, 2, 3)\n",
    "sns.countplot(x='ANO_CONCESSAO_BOLSA', hue='SEXO_BENEFICIARIO_BOLSA' , data=train, palette='deep')\n",
    "plt.ylabel('Frequency')\n",
    "plt.grid(False)\n",
    "plt.legend(loc=0, title=None)\n",
    "\n",
    "plt.subplot(2, 2, 4)\n",
    "sns.countplot(x='REGIAO_BENEFICIARIO_BOLSA', hue='SEXO_BENEFICIARIO_BOLSA' , data=train, palette='deep')\n",
    "plt.ylabel('Frequency')\n",
    "plt.grid(False)\n",
    "plt.legend(loc=0, title=None)\n",
    "\n",
    "\n",
    "plt.show()"
   ]
  },
  {
   "cell_type": "code",
   "execution_count": 41,
   "metadata": {},
   "outputs": [
    {
     "ename": "NameError",
     "evalue": "name 'dataframes' is not defined",
     "output_type": "error",
     "traceback": [
      "\u001b[1;31m---------------------------------------------------------------------------\u001b[0m",
      "\u001b[1;31mNameError\u001b[0m                                 Traceback (most recent call last)",
      "\u001b[1;32m<ipython-input-41-6791102e1630>\u001b[0m in \u001b[0;36m<module>\u001b[1;34m()\u001b[0m\n\u001b[1;32m----> 1\u001b[1;33m \u001b[0mgender\u001b[0m \u001b[1;33m=\u001b[0m \u001b[0mdataframes\u001b[0m\u001b[1;33m.\u001b[0m\u001b[0mSEXO_BENEFICIARIO_BOLSA\u001b[0m\u001b[1;33m\u001b[0m\u001b[0m\n\u001b[0m\u001b[0;32m      2\u001b[0m \u001b[0mgender\u001b[0m\u001b[1;33m.\u001b[0m\u001b[0mvalue_counts\u001b[0m\u001b[1;33m(\u001b[0m\u001b[1;33m)\u001b[0m\u001b[1;33m\u001b[0m\u001b[0m\n",
      "\u001b[1;31mNameError\u001b[0m: name 'dataframes' is not defined"
     ]
    }
   ],
   "source": [
    "gender = dataframes.SEXO_BENEFICIARIO_BOLSA\n",
    "gender.value_counts()"
   ]
  },
  {
   "cell_type": "code",
   "execution_count": null,
   "metadata": {
    "collapsed": true
   },
   "outputs": [],
   "source": []
  },
  {
   "cell_type": "code",
   "execution_count": null,
   "metadata": {
    "collapsed": true
   },
   "outputs": [],
   "source": []
  },
  {
   "cell_type": "code",
   "execution_count": null,
   "metadata": {
    "collapsed": true
   },
   "outputs": [],
   "source": []
  },
  {
   "cell_type": "code",
   "execution_count": null,
   "metadata": {
    "collapsed": true
   },
   "outputs": [],
   "source": []
  },
  {
   "cell_type": "code",
   "execution_count": null,
   "metadata": {
    "collapsed": true
   },
   "outputs": [],
   "source": []
  },
  {
   "cell_type": "code",
   "execution_count": 13,
   "metadata": {
    "collapsed": true
   },
   "outputs": [],
   "source": [
    "female = dataframes.SEXO_BENEFICIARIO_BOLSA == 'Feminino'\n",
    "male   = dataframes.SEXO_BENEFICIARIO_BOLSA == 'Masculino'"
   ]
  },
  {
   "cell_type": "code",
   "execution_count": 15,
   "metadata": {
    "collapsed": true
   },
   "outputs": [],
   "source": [
    "femme_data = dataframes[female]\n",
    "male_data = dataframes[male]"
   ]
  },
  {
   "cell_type": "code",
   "execution_count": 17,
   "metadata": {},
   "outputs": [
    {
     "data": {
      "text/plain": [
       "SEXO_BENEFICIARIO_BOLSA  RACA_BENEFICIARIO_BOLSA\n",
       "Masculino                Branca                     403817\n",
       "                         Parda                      375653\n",
       "                         Preta                      123641\n",
       "                         Amarela                     14485\n",
       "                         Não Informada                8261\n",
       "                         Indígena                     1066\n",
       "Name: RACA_BENEFICIARIO_BOLSA, dtype: int64"
      ]
     },
     "execution_count": 17,
     "metadata": {},
     "output_type": "execute_result"
    }
   ],
   "source": [
    "male_data.RACA_BENEFICIARIO_BOLSA.groupby(male_data.SEXO_BENEFICIARIO_BOLSA).value_counts()"
   ]
  },
  {
   "cell_type": "code",
   "execution_count": null,
   "metadata": {
    "collapsed": true
   },
   "outputs": [],
   "source": []
  },
  {
   "cell_type": "code",
   "execution_count": 3,
   "metadata": {},
   "outputs": [
    {
     "name": "stdout",
     "output_type": "stream",
     "text": [
      "<class 'pandas.core.frame.DataFrame'>\n",
      "Int64Index: 1989317 entries, 0 to 239261\n",
      "Data columns (total 15 columns):\n",
      "ANO_CONCESSAO_BOLSA               int64\n",
      "CODIGO_EMEC_IES_BOLSA             int64\n",
      "NOME_IES_BOLSA                    object\n",
      "TIPO_BOLSA                        object\n",
      "MODALIDADE_ENSINO_BOLSA           object\n",
      "NOME_CURSO_BOLSA                  object\n",
      "NOME_TURNO_CURSO_BOLSA            object\n",
      "CPF_BENEFICIARIO_BOLSA            object\n",
      "SEXO_BENEFICIARIO_BOLSA           object\n",
      "RACA_BENEFICIARIO_BOLSA           object\n",
      "DT_NASCIMENTO_BENEFICIARIO        object\n",
      "BENEFICIARIO_DEFICIENTE_FISICO    object\n",
      "REGIAO_BENEFICIARIO_BOLSA         object\n",
      "SIGLA_UF_BENEFICIARIO_BOLSA       object\n",
      "MUNICIPIO_BENEFICIARIO_BOLSA      object\n",
      "dtypes: int64(2), object(13)\n",
      "memory usage: 242.8+ MB\n"
     ]
    }
   ],
   "source": [
    "dataframes.info()"
   ]
  },
  {
   "cell_type": "code",
   "execution_count": 5,
   "metadata": {},
   "outputs": [
    {
     "data": {
      "image/png": "[encoded data removed]",
      "text/plain": [
       "<matplotlib.figure.Figure at 0x17cca8e42e8>"
      ]
     },
     "metadata": {},
     "output_type": "display_data"
    }
   ],
   "source": [
    "dataframes.RACA_BENEFICIARIO_BOLSA.value_counts().plot(kind='bar')\n",
    "plt.xticks(rotation=0)\n",
    "plt.title('Frequency of Races')\n",
    "plt.show()"
   ]
  },
  {
   "cell_type": "code",
   "execution_count": 8,
   "metadata": {},
   "outputs": [
    {
     "data": {
      "text/plain": [
       "SEXO_BENEFICIARIO_BOLSA  RACA_BENEFICIARIO_BOLSA\n",
       "Feminino                 Branca                     485020\n",
       "                         Parda                      413279\n",
       "                         Preta                      126754\n",
       "                         Amarela                     20783\n",
       "                         Não Informada               15338\n",
       "                         Indígena                     1220\n",
       "Masculino                Branca                     403817\n",
       "                         Parda                      375653\n",
       "                         Preta                      123641\n",
       "                         Amarela                     14485\n",
       "                         Não Informada                8261\n",
       "                         Indígena                     1066\n",
       "Name: RACA_BENEFICIARIO_BOLSA, dtype: int64"
      ]
     },
     "execution_count": 8,
     "metadata": {},
     "output_type": "execute_result"
    }
   ],
   "source": [
    "dataframes.RACA_BENEFICIARIO_BOLSA.groupby(dataframes.SEXO_BENEFICIARIO_BOLSA).value_counts()"
   ]
  },
  {
   "cell_type": "code",
   "execution_count": null,
   "metadata": {
    "collapsed": true
   },
   "outputs": [],
   "source": [
    "fig = plt.figure(figsize=(20,10))\n",
    "ax1 = fig.add_subplot(121)\n",
    "ax2 = fig.add_subplot(122)\n",
    "\n",
    "# or replace the three lines of code above by the following line: \n",
    "#fig, (ax1, ax2) = plt.subplots(1,2, figsize=(20,10))\n",
    "\n",
    "# Plot the data\n",
    "ax1.bar(dataframes.RACA_BENEFICIARIO_BOLSA.groupby(dataframes.SEXO_BENEFICIARIO_BOLSA).value_counts())\n",
    "ax2.barh([0.5,1,2.5],[0,1,2])\n",
    "\n",
    "# Show the plot\n",
    "plt.show()"
   ]
  },
  {
   "cell_type": "code",
   "execution_count": 33,
   "metadata": {},
   "outputs": [
    {
     "data": {
      "text/plain": [
       "REGIAO_BENEFICIARIO_BOLSA  SEXO_BENEFICIARIO_BOLSA\n",
       "CENTRO-OESTE               Feminino                   100670\n",
       "                           Masculino                   84830\n",
       "NORDESTE                   Feminino                   169510\n",
       "                           Masculino                  166388\n",
       "NORTE                      Feminino                    64292\n",
       "                           Masculino                   58653\n",
       "SUDESTE                    Feminino                   525726\n",
       "                           Masculino                  450382\n",
       "SUL                        Feminino                   201970\n",
       "                           Masculino                  166494\n",
       "Name: SEXO_BENEFICIARIO_BOLSA, dtype: int64"
      ]
     },
     "execution_count": 33,
     "metadata": {},
     "output_type": "execute_result"
    }
   ],
   "source": [
    "dataframes.SEXO_BENEFICIARIO_BOLSA.groupby(dataframes.REGIAO_BENEFICIARIO_BOLSA).value_counts()"
   ]
  },
  {
   "cell_type": "code",
   "execution_count": 9,
   "metadata": {},
   "outputs": [
    {
     "data": {
      "text/plain": [
       "SEXO_BENEFICIARIO_BOLSA  REGIAO_BENEFICIARIO_BOLSA\n",
       "Feminino                 SUDESTE                      525726\n",
       "                         SUL                          201970\n",
       "                         NORDESTE                     169510\n",
       "                         CENTRO-OESTE                 100670\n",
       "                         NORTE                         64292\n",
       "Masculino                SUDESTE                      450382\n",
       "                         SUL                          166494\n",
       "                         NORDESTE                     166388\n",
       "                         CENTRO-OESTE                  84830\n",
       "                         NORTE                         58653\n",
       "Name: REGIAO_BENEFICIARIO_BOLSA, dtype: int64"
      ]
     },
     "execution_count": 9,
     "metadata": {},
     "output_type": "execute_result"
    }
   ],
   "source": [
    "dataframes.REGIAO_BENEFICIARIO_BOLSA.groupby(dataframes.SEXO_BENEFICIARIO_BOLSA).value_counts()"
   ]
  },
  {
   "cell_type": "code",
   "execution_count": 35,
   "metadata": {},
   "outputs": [
    {
     "data": {
      "text/plain": [
       "CENTRO-OESTE    185500\n",
       "Name: REGIAO_BENEFICIARIO_BOLSA, dtype: int64"
      ]
     },
     "execution_count": 35,
     "metadata": {},
     "output_type": "execute_result"
    }
   ],
   "source": [
    "dataframes.REGIAO_BENEFICIARIO_BOLSA.loc[dataframes.REGIAO_BENEFICIARIO_BOLSA == 'CENTRO-OESTE'].value_counts()"
   ]
  },
  {
   "cell_type": "code",
   "execution_count": null,
   "metadata": {
    "collapsed": true
   },
   "outputs": [],
   "source": []
  },
  {
   "cell_type": "code",
   "execution_count": 10,
   "metadata": {},
   "outputs": [
    {
     "data": {
      "text/plain": [
       "SEXO_BENEFICIARIO_BOLSA  REGIAO_BENEFICIARIO_BOLSA  RACA_BENEFICIARIO_BOLSA\n",
       "Feminino                 CENTRO-OESTE               Parda                       50896\n",
       "                                                    Branca                      31228\n",
       "                                                    Preta                       13591\n",
       "                                                    Amarela                      3542\n",
       "                                                    Não Informada                1262\n",
       "                                                    Indígena                      151\n",
       "                         NORDESTE                   Parda                       98224\n",
       "                                                    Branca                      33249\n",
       "                                                    Preta                       31591\n",
       "                                                    Amarela                      4382\n",
       "                                                    Não Informada                1783\n",
       "                                                    Indígena                      281\n",
       "                         NORTE                      Parda                       44424\n",
       "                                                    Branca                      10277\n",
       "                                                    Preta                        6946\n",
       "                                                    Amarela                      1558\n",
       "                                                    Não Informada                 822\n",
       "                                                    Indígena                      265\n",
       "                         SUDESTE                    Branca                     252054\n",
       "                                                    Parda                      190145\n",
       "                                                    Preta                       65553\n",
       "                                                    Amarela                      9155\n",
       "                                                    Não Informada                8395\n",
       "                                                    Indígena                      424\n",
       "                         SUL                        Branca                     158117\n",
       "                                                    Parda                       29495\n",
       "                                                    Preta                        9050\n",
       "                                                    Não Informada                3070\n",
       "                                                    Amarela                      2139\n",
       "                                                    Indígena                       99\n",
       "Masculino                CENTRO-OESTE               Parda                       43298\n",
       "                                                    Branca                      25107\n",
       "                                                    Preta                       13432\n",
       "                                                    Amarela                      2108\n",
       "                                                    Não Informada                 729\n",
       "                                                    Indígena                      156\n",
       "                         NORDESTE                   Parda                       95786\n",
       "                                                    Preta                       34554\n",
       "                                                    Branca                      31684\n",
       "                                                    Amarela                      3121\n",
       "                                                    Não Informada                 983\n",
       "                                                    Indígena                      260\n",
       "                         NORTE                      Parda                       40535\n",
       "                                                    Branca                       8480\n",
       "                                                    Preta                        7828\n",
       "                                                    Amarela                      1012\n",
       "                                                    Não Informada                 557\n",
       "                                                    Indígena                      241\n",
       "                         SUDESTE                    Branca                     213136\n",
       "                                                    Parda                      167028\n",
       "                                                    Preta                       58934\n",
       "                                                    Amarela                      6527\n",
       "                                                    Não Informada                4432\n",
       "                                                    Indígena                      325\n",
       "                         SUL                        Branca                     125344\n",
       "                                                    Parda                       28932\n",
       "                                                    Preta                        8868\n",
       "                                                    Amarela                      1714\n",
       "                                                    Não Informada                1553\n",
       "                                                    Indígena                       83\n",
       "Name: RACA_BENEFICIARIO_BOLSA, dtype: int64"
      ]
     },
     "execution_count": 10,
     "metadata": {},
     "output_type": "execute_result"
    }
   ],
   "source": [
    "dataframes.RACA_BENEFICIARIO_BOLSA.groupby([dataframes.SEXO_BENEFICIARIO_BOLSA, dataframes.REGIAO_BENEFICIARIO_BOLSA]).value_counts()"
   ]
  },
  {
   "cell_type": "code",
   "execution_count": null,
   "metadata": {
    "collapsed": true
   },
   "outputs": [],
   "source": [
    "#dataframes.NOME_IES_BOLSA.unique\n",
    "#dataframes.TIPO_BOLSA.unique\n",
    "#dataframes.MODALIDADE_ENSINO_BOLSA.unique\n",
    "#dataframes.NOME_CURSO_BOLSA.unique\n",
    "#dataframes.NOME_TURNO_CURSO_BOLSA.unique\n",
    "#dataframes.RACA_BENEFICIARIO_BOLSA.unique"
   ]
  },
  {
   "cell_type": "code",
   "execution_count": 13,
   "metadata": {},
   "outputs": [
    {
     "data": {
      "text/html": [
       "<div>\n",
       "<style>\n",
       "    .dataframe thead tr:only-child th {\n",
       "        text-align: right;\n",
       "    }\n",
       "\n",
       "    .dataframe thead th {\n",
       "        text-align: left;\n",
       "    }\n",
       "\n",
       "    .dataframe tbody tr th {\n",
       "        vertical-align: top;\n",
       "    }\n",
       "</style>\n",
       "<table border=\"1\" class=\"dataframe\">\n",
       "  <thead>\n",
       "    <tr style=\"text-align: right;\">\n",
       "      <th></th>\n",
       "      <th>ANO_CONCESSAO_BOLSA</th>\n",
       "      <th>CODIGO_EMEC_IES_BOLSA</th>\n",
       "      <th>NOME_IES_BOLSA</th>\n",
       "      <th>TIPO_BOLSA</th>\n",
       "      <th>MODALIDADE_ENSINO_BOLSA</th>\n",
       "      <th>NOME_CURSO_BOLSA</th>\n",
       "      <th>NOME_TURNO_CURSO_BOLSA</th>\n",
       "      <th>CPF_BENEFICIARIO_BOLSA</th>\n",
       "      <th>SEXO_BENEFICIARIO_BOLSA</th>\n",
       "      <th>RACA_BENEFICIARIO_BOLSA</th>\n",
       "      <th>DT_NASCIMENTO_BENEFICIARIO</th>\n",
       "      <th>BENEFICIARIO_DEFICIENTE_FISICO</th>\n",
       "      <th>REGIAO_BENEFICIARIO_BOLSA</th>\n",
       "      <th>SIGLA_UF_BENEFICIARIO_BOLSA</th>\n",
       "      <th>MUNICIPIO_BENEFICIARIO_BOLSA</th>\n",
       "    </tr>\n",
       "  </thead>\n",
       "  <tbody>\n",
       "    <tr>\n",
       "      <th>0</th>\n",
       "      <td>2005</td>\n",
       "      <td>423</td>\n",
       "      <td>UNIVERSIDADE REGIONAL INTEGRADA DO ALTO URUGUA...</td>\n",
       "      <td>BOLSA PARCIAL 50%</td>\n",
       "      <td>PRESENCIAL</td>\n",
       "      <td>Enfermagem</td>\n",
       "      <td>Integral</td>\n",
       "      <td>***264740**</td>\n",
       "      <td>Feminino</td>\n",
       "      <td>Branca</td>\n",
       "      <td>17-02-1987</td>\n",
       "      <td>NÃO</td>\n",
       "      <td>SUL</td>\n",
       "      <td>RS</td>\n",
       "      <td>SANTO ÂNGELO</td>\n",
       "    </tr>\n",
       "    <tr>\n",
       "      <th>1</th>\n",
       "      <td>2005</td>\n",
       "      <td>423</td>\n",
       "      <td>UNIVERSIDADE REGIONAL INTEGRADA DO ALTO URUGUA...</td>\n",
       "      <td>BOLSA PARCIAL 50%</td>\n",
       "      <td>PRESENCIAL</td>\n",
       "      <td>Serviço Social</td>\n",
       "      <td>Noturno</td>\n",
       "      <td>***976940**</td>\n",
       "      <td>Feminino</td>\n",
       "      <td>Parda</td>\n",
       "      <td>14-06-1986</td>\n",
       "      <td>NÃO</td>\n",
       "      <td>SUL</td>\n",
       "      <td>RS</td>\n",
       "      <td>FREDERICO WESTPHALEN</td>\n",
       "    </tr>\n",
       "    <tr>\n",
       "      <th>2</th>\n",
       "      <td>2005</td>\n",
       "      <td>423</td>\n",
       "      <td>UNIVERSIDADE REGIONAL INTEGRADA DO ALTO URUGUA...</td>\n",
       "      <td>BOLSA PARCIAL 50%</td>\n",
       "      <td>PRESENCIAL</td>\n",
       "      <td>Serviço Social</td>\n",
       "      <td>Noturno</td>\n",
       "      <td>***045340**</td>\n",
       "      <td>Feminino</td>\n",
       "      <td>Parda</td>\n",
       "      <td>06-03-1984</td>\n",
       "      <td>NÃO</td>\n",
       "      <td>SUL</td>\n",
       "      <td>RS</td>\n",
       "      <td>FREDERICO WESTPHALEN</td>\n",
       "    </tr>\n",
       "    <tr>\n",
       "      <th>3</th>\n",
       "      <td>2005</td>\n",
       "      <td>423</td>\n",
       "      <td>UNIVERSIDADE REGIONAL INTEGRADA DO ALTO URUGUA...</td>\n",
       "      <td>BOLSA PARCIAL 50%</td>\n",
       "      <td>PRESENCIAL</td>\n",
       "      <td>Ciência Da Computação</td>\n",
       "      <td>Noturno</td>\n",
       "      <td>***988420**</td>\n",
       "      <td>Masculino</td>\n",
       "      <td>Branca</td>\n",
       "      <td>19-10-1987</td>\n",
       "      <td>NÃO</td>\n",
       "      <td>SUL</td>\n",
       "      <td>RS</td>\n",
       "      <td>FREDERICO WESTPHALEN</td>\n",
       "    </tr>\n",
       "    <tr>\n",
       "      <th>4</th>\n",
       "      <td>2005</td>\n",
       "      <td>423</td>\n",
       "      <td>UNIVERSIDADE REGIONAL INTEGRADA DO ALTO URUGUA...</td>\n",
       "      <td>BOLSA PARCIAL 50%</td>\n",
       "      <td>PRESENCIAL</td>\n",
       "      <td>Ciência Da Computação</td>\n",
       "      <td>Noturno</td>\n",
       "      <td>***378080**</td>\n",
       "      <td>Masculino</td>\n",
       "      <td>Amarela</td>\n",
       "      <td>20-07-1987</td>\n",
       "      <td>NÃO</td>\n",
       "      <td>SUL</td>\n",
       "      <td>RS</td>\n",
       "      <td>FREDERICO WESTPHALEN</td>\n",
       "    </tr>\n",
       "  </tbody>\n",
       "</table>\n",
       "</div>"
      ],
      "text/plain": [
       "   ANO_CONCESSAO_BOLSA  CODIGO_EMEC_IES_BOLSA  \\\n",
       "0                 2005                    423   \n",
       "1                 2005                    423   \n",
       "2                 2005                    423   \n",
       "3                 2005                    423   \n",
       "4                 2005                    423   \n",
       "\n",
       "                                      NOME_IES_BOLSA         TIPO_BOLSA  \\\n",
       "0  UNIVERSIDADE REGIONAL INTEGRADA DO ALTO URUGUA...  BOLSA PARCIAL 50%   \n",
       "1  UNIVERSIDADE REGIONAL INTEGRADA DO ALTO URUGUA...  BOLSA PARCIAL 50%   \n",
       "2  UNIVERSIDADE REGIONAL INTEGRADA DO ALTO URUGUA...  BOLSA PARCIAL 50%   \n",
       "3  UNIVERSIDADE REGIONAL INTEGRADA DO ALTO URUGUA...  BOLSA PARCIAL 50%   \n",
       "4  UNIVERSIDADE REGIONAL INTEGRADA DO ALTO URUGUA...  BOLSA PARCIAL 50%   \n",
       "\n",
       "  MODALIDADE_ENSINO_BOLSA       NOME_CURSO_BOLSA NOME_TURNO_CURSO_BOLSA  \\\n",
       "0              PRESENCIAL             Enfermagem               Integral   \n",
       "1              PRESENCIAL         Serviço Social                Noturno   \n",
       "2              PRESENCIAL         Serviço Social                Noturno   \n",
       "3              PRESENCIAL  Ciência Da Computação                Noturno   \n",
       "4              PRESENCIAL  Ciência Da Computação                Noturno   \n",
       "\n",
       "  CPF_BENEFICIARIO_BOLSA SEXO_BENEFICIARIO_BOLSA RACA_BENEFICIARIO_BOLSA  \\\n",
       "0            ***264740**                Feminino                  Branca   \n",
       "1            ***976940**                Feminino                   Parda   \n",
       "2            ***045340**                Feminino                   Parda   \n",
       "3            ***988420**               Masculino                  Branca   \n",
       "4            ***378080**               Masculino                 Amarela   \n",
       "\n",
       "  DT_NASCIMENTO_BENEFICIARIO BENEFICIARIO_DEFICIENTE_FISICO  \\\n",
       "0                 17-02-1987                            NÃO   \n",
       "1                 14-06-1986                            NÃO   \n",
       "2                 06-03-1984                            NÃO   \n",
       "3                 19-10-1987                            NÃO   \n",
       "4                 20-07-1987                            NÃO   \n",
       "\n",
       "  REGIAO_BENEFICIARIO_BOLSA SIGLA_UF_BENEFICIARIO_BOLSA  \\\n",
       "0                       SUL                          RS   \n",
       "1                       SUL                          RS   \n",
       "2                       SUL                          RS   \n",
       "3                       SUL                          RS   \n",
       "4                       SUL                          RS   \n",
       "\n",
       "  MUNICIPIO_BENEFICIARIO_BOLSA  \n",
       "0                 SANTO ÂNGELO  \n",
       "1         FREDERICO WESTPHALEN  \n",
       "2         FREDERICO WESTPHALEN  \n",
       "3         FREDERICO WESTPHALEN  \n",
       "4         FREDERICO WESTPHALEN  "
      ]
     },
     "execution_count": 13,
     "metadata": {},
     "output_type": "execute_result"
    }
   ],
   "source": [
    "dataframes.reset_index(drop=True)\n",
    "dataframes.head()"
   ]
  },
  {
   "cell_type": "code",
   "execution_count": 14,
   "metadata": {},
   "outputs": [
    {
     "data": {
      "text/plain": [
       "TIPO_BOLSA              SEXO_BENEFICIARIO_BOLSA\n",
       "BOLSA COMPLEMENTAR 25%  Masculino                    1382\n",
       "                        Feminino                      948\n",
       "BOLSA INTEGRAL          Feminino                   735967\n",
       "                        Masculino                  656320\n",
       "BOLSA PARCIAL 50%       Feminino                   325479\n",
       "                        Masculino                  269221\n",
       "Name: SEXO_BENEFICIARIO_BOLSA, dtype: int64"
      ]
     },
     "execution_count": 14,
     "metadata": {},
     "output_type": "execute_result"
    }
   ],
   "source": [
    "dataframes.SEXO_BENEFICIARIO_BOLSA.groupby(dataframes.TIPO_BOLSA).value_counts()"
   ]
  },
  {
   "cell_type": "code",
   "execution_count": 9,
   "metadata": {},
   "outputs": [
    {
     "data": {
      "text/plain": [
       "array(['UNIVERSIDADE REGIONAL INTEGRADA DO ALTO URUGUAI E DAS MISSÕES',\n",
       "       'PONTIFÍCIA UNIVERSIDADE CATÓLICA DO PARANÁ',\n",
       "       'UNIVERSIDADE DE PASSO FUNDO', ...,\n",
       "       'INSTITUTO DE ENSINO SUPERIOR DO OESTE PAULISTA',\n",
       "       'FACULDADE DO NORTE PIONEIRO DE JACAREZINHO',\n",
       "       'FACULDADE DE TECNOLOGIA SÃO CARLOS'], dtype=object)"
      ]
     },
     "execution_count": 9,
     "metadata": {},
     "output_type": "execute_result"
    }
   ],
   "source": [
    "data.NOME_IES_BOLSA.unique()"
   ]
  },
  {
   "cell_type": "code",
   "execution_count": 10,
   "metadata": {},
   "outputs": [
    {
     "data": {
      "text/plain": [
       "array(['BOLSA PARCIAL 50%', 'BOLSA INTEGRAL'], dtype=object)"
      ]
     },
     "execution_count": 10,
     "metadata": {},
     "output_type": "execute_result"
    }
   ],
   "source": [
    "data.TIPO_BOLSA.unique()"
   ]
  },
  {
   "cell_type": "code",
   "execution_count": 11,
   "metadata": {},
   "outputs": [
    {
     "data": {
      "text/plain": [
       "array(['PRESENCIAL', 'EDUCAÇÃO A DISTÂNCIA'], dtype=object)"
      ]
     },
     "execution_count": 11,
     "metadata": {},
     "output_type": "execute_result"
    }
   ],
   "source": [
    "data.MODALIDADE_ENSINO_BOLSA.unique()"
   ]
  },
  {
   "cell_type": "code",
   "execution_count": 14,
   "metadata": {},
   "outputs": [
    {
     "data": {
      "text/plain": [
       "array(['Enfermagem', 'Serviço Social', 'Ciência Da Computação',\n",
       "       'Administração', 'Educação Física', 'Farmácia',\n",
       "       'Engenharia Agrícola', 'Pedagogia', 'Sistemas De Informação',\n",
       "       'Medicina Veterinária', 'Zootecnia', 'Negócios Imobiliários',\n",
       "       'Pedagogia (Regime Especial)', 'Matemática',\n",
       "       'Letras - Português E Inglês', 'Direito',\n",
       "       'Publicidade E Propaganda', 'Química', 'Engenharia Civil',\n",
       "       'Psicologia', 'Ciências Contábeis', 'Ciências Biológicas',\n",
       "       'História', 'Letras - Português E Espanhol', 'Agronomia',\n",
       "       'Engenharia De Alimentos', 'Fisioterapia', 'Geografia',\n",
       "       'Arquitetura E Urbanismo', 'Processamento De Dados',\n",
       "       'Estratégia De Negócios', 'Filosofia',\n",
       "       'Curso Superior De Formação De Professores Para Educação Infantil E Séries Iniciais Do Ensino Fundamental',\n",
       "       'Secretariado Executivo Bilíngue', 'Engenharia Mecânica',\n",
       "       'Sistema De Informação',\n",
       "       'Curso Superior De Tecnologia Em Meio Ambiente, Controle Industrial E Urbano',\n",
       "       'Relações Públicas', 'Letras - Língua Portuguesa', 'Letras',\n",
       "       'Odontologia',\n",
       "       'Curso Superior De Tecnologia Em Gestão De Redes De Computadores',\n",
       "       'Ciências Biológicas ',\n",
       "       'Curso Superior De Tecnologia Em Gestão De Turismo',\n",
       "       'Comunicação Social', 'Administração - Comércio Exterior',\n",
       "       'Engenharia De Produção Mecânica', 'Jornalismo',\n",
       "       'Curso Superior De Tecnologia Em Marketing',\n",
       "       'Engenharia De Controle E Automação', 'Engenharia Eletrônica',\n",
       "       'Engenharia De Computação', 'Letras - Inglês', 'Turismo',\n",
       "       'Curso Superior De Tecnologia Em Gestão Mercadológica',\n",
       "       'Curso Superior De Tecnologia Em Gestão De Recursos Humanos',\n",
       "       'Petróleo E Gás', 'Engenharia Elétrica', 'Secretariado',\n",
       "       'Curso Superior De Tecnologia Em Comunicação Digital (Desenho Gráfico)',\n",
       "       'Gestão Pública', 'Comunicação Social - Publicidade E Propaganda',\n",
       "       'Radiologia', 'Secretariado Executivo', 'Biotecnologia',\n",
       "       'Propaganda E Marketing',\n",
       "       'Curso Superior De Tecnologia Em Resgate E Socorro',\n",
       "       'Meio Ambiente', 'Biblioteconomia', 'Nutrição',\n",
       "       'Gestão De Recursos Humanos', 'Normal  Superior',\n",
       "       'Curso Superior De Tecnologia Em Turismo E Hotelaria', 'Marketing',\n",
       "       'Desenho Industrial', 'Fonoaudiologia', 'Administração - Marketing',\n",
       "       'Normal Superior',\n",
       "       'Curso Superior De Tecnologia Em Comunicação Para Web (Web Design)',\n",
       "       'Interpretação Cênica', 'Engenharia De Automação E Controle',\n",
       "       'Design De Moda', 'Eletrônica Industrial', 'Educaçao Física',\n",
       "       'Educação Física - Campus Ii - Barra', 'Redes De Computadores',\n",
       "       'Automação Industrial', 'Gestão Comercial',\n",
       "       'Análise E Desenvolvimento De Sistemas', 'Ciências Aeronáuticas',\n",
       "       'Hotelaria', 'Comércio Exterior', 'Relações Internacionais', nan,\n",
       "       'Gestão De Seguros', 'Gestão Financeira', 'Medicina  Veterinária',\n",
       "       'Curso Superior De Tecnologia Em Gastronomia (Eixo Tecnológico: Hospitalidade E Lazer)',\n",
       "       'Produção Moveleira', 'Ciências Econômicas', 'Medicina',\n",
       "       'Gestão De Turismo', 'Enfermagem (Os)', 'Letras - Português',\n",
       "       'Pedagogia - Magistério Das Séries Iniciais Do Ensino Fundamental',\n",
       "       'Decoração De Interiores',\n",
       "       'Curso Superior De Tecnologia Em Redes De Computadores',\n",
       "       'Direito - Campus Bangu', 'Processos Gerenciais',\n",
       "       'Engenharia De Produção',\n",
       "       'Curso Superior De Tecnologia Em Gestão Em Marketing',\n",
       "       'Direito (Candelária)', 'Gestão Ambiental', 'Ciências Atuariais',\n",
       "       'Curso Superior De Tecnologia Em Cinema - Barra',\n",
       "       'Estética E Cosmética',\n",
       "       'Curso Superior De Tecnologia Em Gestão De Moda E Estilo',\n",
       "       'Turismo E Hotelaria', 'Gastronomia', 'Ecologia', 'Teologia',\n",
       "       'Produção Fonográfica',\n",
       "       'Secretariado Organizacional - Formaçao Trilingüe', 'Computação',\n",
       "       'Pedagogia - Tp',\n",
       "       'Pedagogia - Magistério Dos Anos Iniciais Do Ensino Fundamental',\n",
       "       'Química Ambiental', 'Enfermagem E Obstetrícia', 'Turismo Cultural',\n",
       "       'Pedagogia - (Ead)', 'Comunicação Social - Jornalismo', 'Design',\n",
       "       'Engenharia', 'Sistemas De Informação (Rg)',\n",
       "       'Administração - Administração De Empresas', 'Artes Visuais',\n",
       "       'Biomedicina',\n",
       "       'Curso Superior De Tecnologia Em Gestão De Sistemas De Informação Para O Setor Financeiro (Abc)',\n",
       "       'Enfermagem - Campus Santa Cruz', 'Comunicação Institucional',\n",
       "       'Curso Superior De Tecnologia Em Informática',\n",
       "       'Curso Superior De Tecnologia Em Gestão De Ambientes De Software Livre - Centro Iv',\n",
       "       'Curso Superior De Tecnologia Em Gestão Estrategica De Organizações',\n",
       "       'Controladoria E Contabilidade Gerencial', 'Design De Interiores',\n",
       "       'Sistemas Para Internet', 'Logística E Gestão De Compras', 'Moda',\n",
       "       'Administração - Campus Bento Ribeiro', 'Gestão De Empresas Rurais',\n",
       "       'Gestão Em Comércio Exterior',\n",
       "       'Curso Superior De Tecnologia Em Gestão Ambiental E Segurança Do Trabalho (Área Profissional: Meio Ambiente)',\n",
       "       'Análise De Sistemas (Os)', 'Gestão Administrativa E Financeira',\n",
       "       'Curso Superior De Tecnologia Em Gestão De Negócios Internacionais(Área Profissional: Comércio)',\n",
       "       'Gerenciamento De Marketing', 'Administração - Ciências Gerenciais',\n",
       "       'Curso Superior De Formação Específica Em Gestão Em Turismo (Semipresencial)',\n",
       "       'Marketing - Campus Ipanema', 'Engenharia De Telecomunicações',\n",
       "       'Gestão Em Turismo', 'Planejamento E Gestão Ambiental',\n",
       "       'Gestão Empresarial', 'Beleza, Estética E Imagem Pessoal',\n",
       "       'Direito (Os)', 'Gestão Da Tecnologia Da Informação',\n",
       "       'Curso Superior De Tecnologia Em Gestão De Negócios Da Moda',\n",
       "       'Design De Produto',\n",
       "       'Pedagogia - Magistério Da Educação Infantil E Gestão Educacional',\n",
       "       'Eventos',\n",
       "       'Curso Superior De Tecnologia Em Cinema (Área Profissional: Comunicação)',\n",
       "       'Curso Superior De Tecnologia Em Gestão De Turismo (Unidade Ponte Rasa)',\n",
       "       'Curso Superior De Tecnologia Em Moda E Acessórios', 'Ciências',\n",
       "       'Curso Superior De Tecnologia Em Gestão De Negócios Imobiliários',\n",
       "       'Curso Superior De Tecnologia Em Redes De Computadores (Unidade Ponte Rasa)',\n",
       "       'Gestão E Produção De Eventos Culturais',\n",
       "       'Curso Superior De Formação Específica Em Gestão De Órgãos Públicos (Semipresencial)',\n",
       "       'Curso Superior De Formação Específica De Gestão Em Instituições De Ensino Superior',\n",
       "       'Letras Com Habilitação Em Português, Inglês E Respectivas Literaturas',\n",
       "       'Curso Superior De Tecnologia Em Gestão De Pequenas E Médias Empresas (Unidade Ponte Rasa)',\n",
       "       'Comunicação Social Com Habilitação Em Jornalismo',\n",
       "       'Curso Superior De Tecnologia Em Gestão Em Serviços Hospitalares (Unidade Ponte Rasa)',\n",
       "       'Curso Superior De Tecnologia Em Gestão De Esportes E Clubes Esportivos',\n",
       "       'Curso Superior De Tecnologia Em Gestão De Negócios Internacionais',\n",
       "       'Curso Superior De Tecnologia Em Gestão Bancária (Unidade Ponte Rasa)',\n",
       "       'Curso Superior De Tecnologia Em Gestão Pública (Eixo Tecnológico: Gestão E Negócios) (Abc)',\n",
       "       'Curso Superior De Tecnologia Em Paisagismo',\n",
       "       'Gestão De Ambientes Internet E Redes De Computadores',\n",
       "       'Complementação Pedagógica Para Licenciados Plenos (Mr)',\n",
       "       'Administração De Recursos Humanos',\n",
       "       'Curso Superior De Tecnologia Em Negócios Imobiliários (Eixo Tecnológico: Gestão E Negócios)(Rg)',\n",
       "       'Tradutor E Intérprete',\n",
       "       'Farmácia E Bioquímica - Farmácia Industrial',\n",
       "       'Tecnologia E Mídias Digitais',\n",
       "       'Pedagogia - Anos Iniciais Do Ensino Fundamental',\n",
       "       'Gestão De Sistemas De Informação',\n",
       "       'Programa Especial De Formação Pedagógica De Docentes (Mr)',\n",
       "       'Produção Publicitária', 'Engenharia Mecânica - Pa',\n",
       "       'Engenharia Da Computação', 'Ciências Sociais',\n",
       "       'Auditoria Fiscal E Tributária',\n",
       "       'Curso Superior De Formação Específica Em Gestão De Agronegócios',\n",
       "       'Engenharia Ambiental E Sanitária', 'Informática',\n",
       "       'Gestão De Redes De Computadores E Internet',\n",
       "       'Gestão Da Qualidade Nas Organizações Empresariais',\n",
       "       'Curso Superior De Formação Específica Em Gestão Hoteleira',\n",
       "       'Pedagogia - Magistério Da Educação Infantil E Dos Anos Iniciais Do Ensino Fundamental',\n",
       "       'Administração - Campus Ipanema',\n",
       "       'Curso Superior De Formação Específica Em Gerenciamento De Pequenas E Médias Empresas',\n",
       "       'Curso Superior De Tecnologia Em Gestão Ambiental',\n",
       "       'Curso Superior De Tecnologia Em Negócios Da Informação (Área Profissional: Gestão)(Unidadej)',\n",
       "       'Gestão De Internet E Redes De Computadores',\n",
       "       'Comunicação Social - Campus Petrópolis', 'Gestão De Pessoas',\n",
       "       'Web Design', 'Medicina Veterinária (Penha)',\n",
       "       'Curso Superior De Formação Específica Em Gestão De Organizações De Saúde',\n",
       "       'Logística', 'Gestão De Agronegócios E Mercado De Commodities',\n",
       "       'Desenvolvimento De Sistemas', 'Gestão De Órgãos Públicos',\n",
       "       'Gestão De Hotelaria E Turismo',\n",
       "       'Gestão De Qualidade E Produtividade', 'Redes De Telecomunicações',\n",
       "       'Design Gráfico', 'Desenvolvimento De Sistemas De Software',\n",
       "       'Direito - Campus Bento Ribeiro',\n",
       "       'Pedagogia - Campus Bento Ribeiro', 'Gestão Hospitalar',\n",
       "       'Engenharia Industrial Mecânica',\n",
       "       'Direito - Campus Xi - Millôr Fernandes', 'Rádio, Tv E Internet',\n",
       "       'Ciencias Econômicas (Tijuca)', 'Ciências Econômicas (Ipanema)',\n",
       "       'Naturologia', 'Estilismo', 'Design Digital',\n",
       "       'Curso Superior De Tecnologia Em Internet E Comércio Eletrônico',\n",
       "       'Confeitaria E Panificação',\n",
       "       'Curso Superior De Tecnologia Em Desenvolvimento De Software',\n",
       "       'Aviação Civil', 'Análise Gerencial',\n",
       "       'Gestão E Planejamento De Marketing E Vendas',\n",
       "       'Curso Superior De Tecnologia Em Marketing De Negócios',\n",
       "       'Planejamento Estratégico Empresarial',\n",
       "       'Curso Superior De Tecnologia Em Processamento De Dados',\n",
       "       'Curso Superior De Tecnologia Em Telecomunicações',\n",
       "       'Pedagogia - Campus São João De Meriti', 'Ciência Da Educação',\n",
       "       'Curso Superior De Tecnologia Em Gerência De Desenvolvimento De Pessoas',\n",
       "       'Curso Superior De Tecnologia Em Gerência De Comércio Exterior',\n",
       "       'Física', 'Administração Pública', 'Qualidade E Produtividade',\n",
       "       'Dança', 'Agronegócio', 'Gestão De Segurança Privada',\n",
       "       'Produção Multimídia', 'Marketing E Propaganda',\n",
       "       'Curso Superior De Tecnologia Em Gestão De Negócios Financeiros E Bancários (Área Profissional: Gestão)',\n",
       "       'Gestão De Edificações',\n",
       "       'Curso Superior De Tecnologia Em Logística Empresarial',\n",
       "       'Secretariado Executivo Trilíngue', 'Design - Ij', 'Nutrição - Ij',\n",
       "       'Curso Superior De Tecnologia Em Gestão Imobiliária (Área Profissional: Gestão)',\n",
       "       'Marketing - Paulista', 'Engenharia De Produção Agroindustrial',\n",
       "       'Moda - Paulista',\n",
       "       'Administração Com Habilitação Em Administração De Empresas',\n",
       "       'Curso Superior De Tecnologia Em Desenvolvimento De Banco De Dados',\n",
       "       'Cinema E Audiovisual', 'Sistemas Eletrônicos De Comunicação',\n",
       "       'Curso Superior De Tecnologia Em Gestão Empreendedora De Negócios',\n",
       "       'Curso Superior De Tecnologia Em Estética E Cosmetologia',\n",
       "       'Gestão De Segurança Empresarial E Patrimonial',\n",
       "       'Fabricação Mecânica',\n",
       "       'Curso Superior De Tecnologia Em Gestão De Varejo',\n",
       "       'Estética E Cosmetologia', 'Música',\n",
       "       'Curso Superior De Tecnologia Em Gestão De Recursos Humanos (Área Profissional: Gestão)',\n",
       "       'Curso Superior De Tecnologia Em Análise E Desenvolvimento De Sistemas',\n",
       "       'Negócios Da Moda', 'Teatro', 'Quiropraxia',\n",
       "       'Curso Superior De Tecnologia Em Design Gráfico',\n",
       "       'Engenharia Ambiental',\n",
       "       'Curso Superior De Tecnologia Em Gestão Hoteleira',\n",
       "       'Curso Superior De Tecnologia Em Formação De Executivos',\n",
       "       'Curso Superior De Tecnologia Em Administração De Pequenas E Médias Empresas',\n",
       "       'Curso Superior De Tecnologia Em Gestão De Sistemas De Informação Para O Setor Financeiro (Mb)',\n",
       "       'Pedagogia - Vergueiro',\n",
       "       'Curso Superior De Tecnologia Em Análise E Desenvolvimento De Sistemas(Eixo Tecnológico: Informação E Comunicação)',\n",
       "       'Curso Superior De Tecnologia Em Gestão De Marketing',\n",
       "       'Curso Superior De Tecnologia Em Hotelaria (Área Profissional: Turismo E Hospitalidade)',\n",
       "       'Curso Superior De Tecnologia Em Comunicação Institucional(Agrupamento Das Áreas Profissionais: Artes, Comunicação E Design)',\n",
       "       'Curso Superior De Tecnologia Em Radiologia', 'Terapia Ocupacional',\n",
       "       'Engenharia De Agrimensura',\n",
       "       'Pegagogia - Anos Iniciais Do Ensino Fundamental',\n",
       "       'Curso Seqüencial De Formação Específica Em Gestão De Sistemas De Informação',\n",
       "       'Normal Superior ( Bocaiúva )', 'Normal Superior (Caçador)',\n",
       "       'Normal Superior (Cruz Das Almas)', 'Design De Games',\n",
       "       'Curso Superior De Tecnologia Em Segurança Da Informação',\n",
       "       'Turismo - Anchieta',\n",
       "       'Curso Superior De Tecnologia Em Gestão Mercadológica - Paulista',\n",
       "       'Rádio E Tv',\n",
       "       'Curso Superior De Tecnologia Em Turismo Receptivo - Paulista',\n",
       "       'Administração De Empresas',\n",
       "       'Publicidade E Propaganda - Publicidade E Propaganda',\n",
       "       'Curso Superior De Tecnologia Em Marketing De Varejo, Produto E Serviço',\n",
       "       'Fisioterapia (Recreio)', 'Pedagogia (Recreio)', 'Letras (Recreio)',\n",
       "       'Curso Superior De Tecnologia Em Turismo',\n",
       "       'Curso Superior De Tecnologia Em Comunicação Empresarial (Mb)',\n",
       "       'Normal Superior (Caruaru)', 'Análise De Sistemas',\n",
       "       'Curso Superior De Tecnologia Em Turismo, Entretenimento E Hotelaria',\n",
       "       'Ciências Contabeis', 'Normal Superior - Eunapolis',\n",
       "       'Normal Superior (Campinas)', 'Normal Superior (Canguçu)',\n",
       "       'Normal Superior - Encruzilhada', 'Direito - Anália Franco',\n",
       "       'Curso Superior De Tecnologia Em Turismo Receptivo (Área Profissional: Turismo E Hospitalidade) - Anchieta',\n",
       "       'Normal Superior (Caxias Do Sul )',\n",
       "       'Administração Com Habilitação Em Marketing',\n",
       "       'Superior De Tecnologia Em Administração De Pequenas E Médias Empresas',\n",
       "       'Superior De Tecnologia Em Turismo',\n",
       "       'Superior De Tecnologia Em Gestão De Marketing',\n",
       "       'Normal Superior (Gurupi)', 'Normal Superior (Campo Grande)',\n",
       "       'Normal Superior - Divinópolis', 'Normal Superior (Betim)',\n",
       "       'Normal Superior (Diamantina)', 'Normal Superior (Coxim)',\n",
       "       'Normal Superior (Corbélia)', 'Normal Superior - Esplanada',\n",
       "       'Normal Superior (Carlos Chagas )', 'Gestão Mercadológica',\n",
       "       'Curso Superior De Formação Específica Em Finanças Corporativas',\n",
       "       'Administração (Mb)', 'Ciências Contábeis (Mb)',\n",
       "       'Comunicação Social (Mb)', 'Normal Superior (Brasília De Minas)',\n",
       "       'Normal Superior - Feira De Santana', 'Normal Superior (Cocos )',\n",
       "       'Normal Superior (Brumado)', 'Gestão De Telecomunicações',\n",
       "       'Gestão Da Produção Industrial',\n",
       "       'Curso Superior De Tecnologia Em Gestão De Marketing (Área Profissional: Gestão)',\n",
       "       'Ciência Política', 'Processos Químicos', 'Segurança No Trabalho',\n",
       "       'Gestão De Negócios Automotivos',\n",
       "       'Gestão De Representações Comerciais', 'Automobilística',\n",
       "       'Transporte Terrestre',\n",
       "       'Pedagogia - Supervisão Escolar De 1º E 2º Graus',\n",
       "       'Construção De Edifícios', 'Artes Plásticas', 'Óptica E Optometria',\n",
       "       'Gestão Empreendedora', 'Qualidade',\n",
       "       'Marketing E Comunicação Promocional',\n",
       "       'Instrumentação E Controle De Processos',\n",
       "       'Gestão Desportiva E De Lazer', 'Gerência De Marketing E Vendas',\n",
       "       'Gestão De Agronegócios',\n",
       "       'Gestão Da Qualidade E Segurança Do Trabalho',\n",
       "       'Publicidade E Propaganda - Criação E Produção',\n",
       "       'Normal  Superior - Anos Iniciais Do Ensino Fundamental',\n",
       "       'Letras - Espanhol',\n",
       "       'Engenharia Com Habilitação Em Engenharia De Telecomunicações',\n",
       "       'Artes Cênicas', 'Sistemas De Telecomunicações',\n",
       "       'Processos Metalúrgicos', 'Engenharia De Materiais',\n",
       "       'Manutenção Industrial', 'Qualidade E Produtividade Industrial',\n",
       "       'Engenharia Metalúrgica', 'Administração Em Comércio Exterior',\n",
       "       'Biologia', 'Decoração', 'Educação Artística', 'Engenharia Química',\n",
       "       'Engenharia Mecatrônica', 'Desenho Industrial - Projeto Do Produto',\n",
       "       'Ciência Da Informação', 'Administração - Recursos Humanos',\n",
       "       'Pedagogia Com Habilitação Em Magistério Da Educação Infantil E Séries Iniciais Do Ensino Fundamental',\n",
       "       'Eletrônica', 'Ciências Biológicas: Modalidade Médica',\n",
       "       'Ciências Biológicas - Modalidade Médica', 'Tradutor Em Inglês',\n",
       "       'Administração Com Habilitação Em Comércio Exterior',\n",
       "       'Comunicação Social Com Habilitação Em Mercadologia',\n",
       "       'Comunicação Social - Relações Públicas',\n",
       "       'Programa Especial De Formação Pedagógica Para As Disciplinas Do Currículo Do Ensino Fundamental, Ensino Médio E Educação Profissional Em Nível Médio',\n",
       "       'Artes Visuais, Pintura, Gravura E Escultura',\n",
       "       'Gestão De Micro E Pequenas Empresas',\n",
       "       'Sistemas Informatizados - Internet E Redes', 'Ciência Econômica',\n",
       "       'Gestão De Comércio', 'Gestão De Marketing',\n",
       "       'Comunicação Social - Comunicação Mercadológica',\n",
       "       'Gestão De Negócios',\n",
       "       'Comunicação Social - Radialismo (Rádio E Tv)',\n",
       "       'Administração Hospitalar', 'Estética', 'Farmácia E Bioquímica',\n",
       "       'Química Industrial', 'Tradução E Interpretação',\n",
       "       'Letras - Tradutor E Intérprete',\n",
       "       'Fármacia Com Habilitação Em Farmacêutico Industrial',\n",
       "       'Mecatrônica Industrial', 'Gestão Contábil',\n",
       "       'Gestão De Terminais Portuários',\n",
       "       'Letras - Português E Inglês E Respectivas Literaturas',\n",
       "       'Desenvolvimento De Sistemas E De Software', 'Banco De Dados',\n",
       "       'Manutenção De Aeronaves', 'Engenharia De Plásticos',\n",
       "       'Letras - Português E Literaturas De Língua Portuguesa',\n",
       "       'Pedagogia - Orientação Educacional De 1º E 2º Graus',\n",
       "       'Programa Especial De Formação Pedagógica De Docentes',\n",
       "       'Comunicação Social - Radialismo',\n",
       "       'Programa Especial De Formação De Docente',\n",
       "       'Comunicação Social Com Habilitação Em Publicidade E Propaganda',\n",
       "       'Segurança Da Informação', 'Telemática',\n",
       "       'Administração - Gestão De Negócios',\n",
       "       'Administração - Administração Hospitalar',\n",
       "       'Administração - Negócios', 'Biomedicina - Análises Clínicas',\n",
       "       'Materiais', 'Gestão Em Pequenas E Médias Empresas',\n",
       "       'Pedagogia - Magistério Das Matérias Pedagógicas Do Ensino Médio',\n",
       "       'Multimídia', 'Pedagogia - Supervisão Escolar',\n",
       "       'Serviços De Telecomunicações', 'Controle De Qualidade',\n",
       "       'Ortóptica', 'Ciências Ambientais',\n",
       "       'Administração - Sistemas De Informações Gerenciais',\n",
       "       'Produção Gráfica Digital', 'Empreendedores E Gestão Empresarial',\n",
       "       'Engenharia Florestal', 'Pedagogia - Administração Escolar',\n",
       "       'Pedagogia - Magistério Das Matérias Pedagógicas Do 2º Grau',\n",
       "       'Relações Públicas - Relações Públicas', 'Psicomotricidade',\n",
       "       'Comunicação Das Artes Do Corpo', 'Letras - Língua Inglesa',\n",
       "       'Engenharia Com Habilitação Em Engenharia De Produção Elétrica',\n",
       "       'Engenharia Com Habilitação Em Engenharia De Produção Civil',\n",
       "       'Gestão Administrativa',\n",
       "       'Pedagogia - Administração Escolar De 1º E 2º Graus',\n",
       "       'Marketing E Promoção De Vendas', 'Gestão Portuária',\n",
       "       'Estudos Sociais', 'Pedagogia - Magistério Da Educação Infantil',\n",
       "       'Design Programação Visual', 'Oceanografia',\n",
       "       'Letras Português E Espanhol E Respectivas Literaturas',\n",
       "       'Letras - Língua Francesa', 'Administração - Hotelaria',\n",
       "       'Administração Com Habilitação Em Recursos Humanos',\n",
       "       'Engenharia - Elétrica', 'Engenharia De Produção Química',\n",
       "       'Produção De Vestuário',\n",
       "       'Pedagogia Com Habilitação Em Administração Escolar',\n",
       "       'Administração Com Habilitação Em Gestão De Sistemas De Informação',\n",
       "       'Comunicação Empresarial', 'Gestão De Negócios Em Turismo',\n",
       "       'Comunicação Social - Produção Editorial',\n",
       "       'Administração - Gestão Da Informação', 'Marketing De Varejo',\n",
       "       'Pedagogia - Magistério Das Disciplinas Pedagógicas Do Ensino Médio',\n",
       "       'Administração - Gestão De Empresa Aérea',\n",
       "       'Administração - Administração Rural',\n",
       "       'Administração - Agronegócio',\n",
       "       'Comunicação Social - Cinema E Vídeo', 'Administração - Finanças',\n",
       "       'Comunicação E Ilustração Digital', 'Comunicação E Marketing',\n",
       "       'Desenvolvimento De Jogos De Entreterimento',\n",
       "       'Produção De Software', 'Gestão De Varejo', 'Polímeros',\n",
       "       'Alimentos', 'Mecanização Agrícola',\n",
       "       'Desenvolvimento De Software Para Comércio Eletrônico',\n",
       "       'Produção Cultural', 'Direção E Produção Em Rádio E Televisão',\n",
       "       'Produção Gráfica', 'Gestão De Fundos De Investimentos',\n",
       "       'Letras - Francês', 'Engenharia De Automação Empresarial',\n",
       "       'Informática  ', 'Comunicação Digital',\n",
       "       'Administração - Administração Pública', 'Cosméticos',\n",
       "       'Pedagogia - Administração Educacional',\n",
       "       'Normal Superior Com Habilitação Em Anos Iniciais Do Ensino Fundamental',\n",
       "       'Pedagogia - Magistério Dos Anos Iniciais Do Ensino Fundamental E Gestão Educacional',\n",
       "       'Hotelaria Hospitalar', 'Sistemas Elétricos',\n",
       "       'Gestão De Empreendimentos Esportivos', 'Produção Têxtil',\n",
       "       'Comunicação Para Web',\n",
       "       'Engenharia Com Habilitação Em Engenharia Da Computação',\n",
       "       'Comunicação Jurídica',\n",
       "       'Engenharia Com Habilitação Em Engenharia De Florestas Tropicais',\n",
       "       'Curso Superior De Tecnologia Em Hotelaria (Eixo Tecnológico: Hospitalidade E Lazer)',\n",
       "       'Gestão De Turismo Receptivo', 'Gestão De Vendas',\n",
       "       'Gestão De Empresas De Varejo', 'Gestão De Finanças Empresarias',\n",
       "       'Empreendedorismo', 'Gestão Estratégica Do Setor Público',\n",
       "       'Gestão Estratégica De Pessoas', 'Administração Ambiental',\n",
       "       'Pilotagem Profissional De Aeronaves',\n",
       "       'Pedagogia - Gestão Educacional', 'Gestão Da Qualidade',\n",
       "       'Fotografia', 'Administração De Negócios Internacionais',\n",
       "       'Gestão De Suprimentos E Logística', 'Arteterapia',\n",
       "       'Administração - Análise De Sistemas', 'Musicoterapia',\n",
       "       'Administração Em Turismo', 'Engenharia Industrial Química',\n",
       "       'Pedagogia - Pedagogia Empresarial', 'Gerência De Negócios',\n",
       "       'Gerência De Marketing',\n",
       "       'Gestão Estratégica De Secretariado Executivo',\n",
       "       'Gerência De Supermercados', 'Gerência De Comércio Exterior',\n",
       "       'Gerência De Obras Civis', 'Gestão E Desenvolvimento Do Turismo',\n",
       "       'Música Popular', 'Análise De Sistemas E Gestão Da Informação',\n",
       "       'Mecânica', 'Gestão De Comércio Exterior',\n",
       "       'Desenvolvimento Para Web', 'Gerência Em Negócios Imobiliários',\n",
       "       'Gerência De Clínicas E Hospitais',\n",
       "       'Gerenciamento De Redes De Computadores', 'Matemática - Matemática',\n",
       "       'Gestão Tributária', 'Ciências Da Computação', 'Psicopedagogia',\n",
       "       'Gestão De Pequenas E Médias Empresas',\n",
       "       'Estudos Sociais - História',\n",
       "       'Gestão De Processos Sucro-Alcooleiros',\n",
       "       'Engenharia Eletrônica E De Telecomunicações',\n",
       "       'Pedagogia Com Habilitação Em Magistério Das Disciplinas Pedagógicas Do Ensino Médio',\n",
       "       'Estética E Imagem Pessoal', 'Turismo - Turismo E Hotelaria',\n",
       "       'Matemática Aplicada E Computacional', 'Tecnologias Digitais',\n",
       "       'Pedagogia Com Habilitação Em Coordenação Pedagógica E Magistério Das Disciplinas Pedagógicas Do Ensino Médio',\n",
       "       'Análise E Desenvolvimento De Sistemas Internet',\n",
       "       'Gestão De Produção', 'Gestão De Políticas Públicas',\n",
       "       'Gestão De Rede De Computadores', 'Gestão Do Meio Ambiente',\n",
       "       'Gestão Imobiliária', 'Gestão De Farmácias E Drogarias',\n",
       "       'Comunicação Social -Radialismo - Produção Em Mídia Audiovisual',\n",
       "       'Produção Audiovisual',\n",
       "       'Letras - Língua Portuguesa, Língua Estrangeira (Inglesa Ou Espanhola) E Literatura Brasileira',\n",
       "       'Gestão De Serviços Executivos',\n",
       "       'Administração De Redes De Computadores', 'Gestão Bancária',\n",
       "       'Pedagogia - Administração Escolar Do Ensino Fundamental E Médio',\n",
       "       'Administração - Gestão De Negócios Com Competência Em Software',\n",
       "       'Gestão Em Eqüinocultura',\n",
       "       'Pedagogia - Orientação Educacional Do Ensino Fundamental E Médio',\n",
       "       'Ciências - Química', 'Design De Móveis',\n",
       "       'Gestão Em Gastronomia E Alimentação',\n",
       "       'Desenvolvimento Para Web E Comércio Eletrônico',\n",
       "       'Gestão Em Marketing E Vendas', 'Gestão Em Micro E Pequena Empresa',\n",
       "       'Gestão De Finanças E Controladoria De Empresas',\n",
       "       'Ciências Farmacêuticas', 'Turismo Receptivo',\n",
       "       'Gestão De Negócios Securitários', 'Rochas Ornamentais',\n",
       "       'Engenharia Aeronáutica E Espaço', 'Engenharia Biomédica',\n",
       "       'Normal Superior - Licenciatura Para Séries Iniciais Do Ensino Fundamental (Ed)',\n",
       "       'Curso Superior De Tecnologia Em Análise De Sistemas De Informação (Área Profissional: Informática)',\n",
       "       'Biologia (Ed)',\n",
       "       'Curso Superior De Tecnologia Em Sistemas De Telecomunicações Fixas (Área Profissional: Telecomunicações)',\n",
       "       'Ciências Naturais (Ead)',\n",
       "       'Curso Superior De Tecnologia Em Comunicação Empresarial (Área Profissional: Comunicação)',\n",
       "       'História (Ed)',\n",
       "       'Curso Superior De Tecnologia Em Gestão De Negócios Eletrônicos (Área Profissional: Gestão)',\n",
       "       'Curso Superior De Tecnologia Em Cinema - Rebouças',\n",
       "       'Curso Superior De Formação Específica Em Gerência , Análise E Projeto De Sistemas De Informações',\n",
       "       'Curso Superior De Formação Específica Em Técnicas Em Instalações Elétricas Automatizadas',\n",
       "       'Curso Superior De Formação Específica Em Contabilidade De Custos E Formação De Preços',\n",
       "       'Letras (Madureira)', 'Turismo (Meier)',\n",
       "       'Curso Superior De Formação Específica Em Gestão Empresarial',\n",
       "       'Curso Superior De Formação Específica Em Gestão De Serviços',\n",
       "       'Curso Superior De Tecnologia Em Logística E Transportes Multimodal',\n",
       "       'Curso Superior De Formação Específica Em Produção Industrial De Couros E Calçados',\n",
       "       'Matemática (Ed)', 'Letras - Português/Inglês (Ed)', 'Física (Ead)',\n",
       "       'Teologia, Com Ênfase Em Pastoral',\n",
       "       'Curso Superior De Formação Específica Em Técnicas De Jornalismo',\n",
       "       'Curso Superior De Formação Específica Em Dança E Coreografia',\n",
       "       'Curso Superior De Formação Específica Em Técnicas De Radialismo',\n",
       "       'Curso Superior De Formação Específica Em Produção E Gestão Cultural',\n",
       "       'Curso Superior De Tecnologia Em Multimídia (Área Profissional: Comunicação)',\n",
       "       'Curso Superior De Tecnologia Em Comunicação Para Web',\n",
       "       'Curso Superior De Formação Específica Em Gestão De Pequenas E Médias Empresas',\n",
       "       'Curso Superior De Tecnologia E Gestão Estratégica Em Redes De Computadores',\n",
       "       'Curso Superior De Tecnologia Em Análise E Desenvolvimento De Sistemas (Ilha)',\n",
       "       'Direito (Santa Cruz)',\n",
       "       'Curso Superior De Formação Específica Em Gestão Esportiva',\n",
       "       'Direito - Dias Da Cruz', 'Pedagogia - Campo Grande',\n",
       "       'Curso Superior De Formação Específica Em Gestão E Desenvolvimento De Web Site',\n",
       "       'Curso Superior De Formação Específica Em Gestão Do Comércio',\n",
       "       'Desenvolvimento De Produtos Turísticos',\n",
       "       'Curso Superior De Tecnologia Em Desenvolvimento De Sistemas Web',\n",
       "       'Curso Sequencial De Formação Específica Em Gestão Imobiliária',\n",
       "       'Curso Superior De Tecnologia Em Gestão De Eventos Culturais',\n",
       "       'Gestão De Cooperativas', 'Curso Superior De Tecnologia Ambiental',\n",
       "       'Curso Superior De Tecnologia Em Gestão De Serviços Hospitalares',\n",
       "       'Curso Superior De Tecnologia Em Vigilância Sanitária',\n",
       "       'Normal Superior - 3 Anos', 'Química (Ead)', 'Física (Ed)',\n",
       "       'Curso Superior De Tecnologia Em Criação E Produção Publicitária (Área Profissional: Comunicação)',\n",
       "       'Curso Superior De Tecnologia Em Banco De Dados (Área Profissional: Informática)',\n",
       "       'Curso Superior De Tecnologia Em Comunicação Para Web (Área Profissional: Comunicação)',\n",
       "       'Curso Superior De Tecnologia Em Administração De Restaurantes',\n",
       "       'Curso Superior De Tecnologia Em Operadoras E Agências De Viagens',\n",
       "       'Curso Superior De Tecnologia Em Gastronomia Voltada À Panificação & Confeitaria',\n",
       "       'Curso Superior De Tecnologia Em Consultoria De Empreendimentos Hoteleiros',\n",
       "       'Educação Física E Desportos (Recreio)',\n",
       "       'Curso Superior De Tecnologia Em Análise E Desenvolvimento De Sistemas(Santa Cruz)',\n",
       "       'Tecnologia Em Lazer E Desenvolvimento Social',\n",
       "       'Curso Superior De Formação Específica Em Gestão Financeira',\n",
       "       'Curso Superior De Formação Específica Em Controladoria Empresarial',\n",
       "       'Curso Superior De Formação Específica Em Segurança Do Trabalho',\n",
       "       'Curso Sequencial De Formação Específica Em Manejo E Nutrição Animal',\n",
       "       'Curso Superior De Formação Específica Em Gestão Da Informação',\n",
       "       'Curso Superior De Formação Específica Em Gastronomia',\n",
       "       'Curso Superior De Tecnologia Em Desenvolvimento De Sistemas De Informação',\n",
       "       'Curso Superior De Tecnologia Em Processos Gerenciais',\n",
       "       'Ciências Naturais (Ed)',\n",
       "       'Curso Superior De Tecnologia Em Gastronomia Voltada À Fast Foods',\n",
       "       'Curso Superior De Tecnologia Em Gastronomia Para Nutricionistas',\n",
       "       'Curso Superior De Formação Específica Em Desenvolvimento De Websites Para Intranet E Extranet',\n",
       "       'Curso Superior De Formação Específica Em Gestão De Marketing Estratégico',\n",
       "       'Curso Superior De Formação Específica Em Gestão Imobiliária',\n",
       "       'Administração De Empresas Habilitação Análise De Sistemas De Informação',\n",
       "       'Curso Superior De Tecnologia Em Comunicação',\n",
       "       'Curso Superior De Tecnologia Em Logística Empresarial (Área Profissional: Gestão)',\n",
       "       'Geografia (Ed)',\n",
       "       'Curso Superior De Tecnologia Em Comércio Internacional',\n",
       "       'Curso Superior De Tecnologia Em Gestão De Concessionárias E Franquias',\n",
       "       'Curso Superior De Tecnologia Em Comunicação E Ilustração Digital (Área Profissional: Comunicação)',\n",
       "       'Curso Superior De Formação Específica Em Webmaster & Webdesign',\n",
       "       'Curso Superior De Tecnologia Em Gerenciamento De Redes De Computadores (Área Profissional:Informática)',\n",
       "       'Curso Superior De Tecnologia Em Turismo (Área Profissional: Turismo E Hospitalidade)',\n",
       "       'Agrozootécnica',\n",
       "       'Curso Superior De Tecnologia Em Análise E Desenvolvimento De Sistemas (Metrô)',\n",
       "       'Ciências Jurídicas E Sociais - Zona Norte',\n",
       "       'Superior De Tecnologia Em Negócios Internacionais',\n",
       "       'Curso Superior De Formação Específica Em Gestão Em Marketing E Vendas',\n",
       "       'Curso Superior De Tecnologia Em Comunicação Empresarial',\n",
       "       'Curso Superior De Tecnologia Em Desenvolvimento De Sistemas (Área Profissional Informática)',\n",
       "       'Curso Superior De Formação Específica Em Estética Corporal, Facial E Capilar',\n",
       "       'Secretariado Executivo Trilíngüe (Português/Inglês/Espanhol)',\n",
       "       'Química (Ed)',\n",
       "       'Curso Superior De Tecnologia Em Internet Business (Àrea De Informática)',\n",
       "       'Curso Superior De Tecnologia Em Sistemas De Informação (Área Profissional: Informática)',\n",
       "       'Curso Superior De Tecnologia Em Sistemas Para Internet',\n",
       "       'Curso Superior De Tecnologia Em Comunicação Para Web Design ( Área Profissional: Comunicação)',\n",
       "       'Ecologia Social', 'Artes - Licenciatura',\n",
       "       'Curso Superior De Tecnologia Em Química De Processos Industriais',\n",
       "       'Curso Superior De Tecnologia Em Redes Avançadas De Telecomunicações',\n",
       "       'Administração (Ipanema)', 'Licenciatura Em Dança',\n",
       "       'Programa De Formação Para Professores Em Serviço/Curso De Pedagogia',\n",
       "       'Tecnologia Em Marketing De Negócios',\n",
       "       'Curso Superior De Tecnologia Em Design',\n",
       "       'Curso Superior De Tecnologia Em Lazer E Desenvolvimento Social',\n",
       "       'Curso Superior De Tecnologia Em Gestão Financeira (Área Profissional: Gestão)',\n",
       "       'Engenharia (Mc)', 'Curso Superior De Tecnologia Em Gestão',\n",
       "       'Curso Superior De Tecnologia Do Vestuário',\n",
       "       'Curso Superior De Tecnologia Em Cozinha Industrial Criativa E Diferenciada',\n",
       "       'Curso Superior De Tecnologia Em Redes De Computadores (Área Profissional: Informática)',\n",
       "       'Letras - Português E Literatura', 'Pedagogia (Méier)',\n",
       "       'Curso Superior De Tecnologia Em Secretariado Executivo',\n",
       "       'Turismo E Entretenimento',\n",
       "       'Curso Sequencial De Formação Específica Em Informática Empresarial E Comercial',\n",
       "       'Curso Superior De Formação Específica Em Guia De Turismo',\n",
       "       'Curso Sequencial De Formação Específica Em Publicidade E Marketing',\n",
       "       'Curso Superior De Tecnologia Em Gestão De Cooperativas (Área Profissional: Gestão)',\n",
       "       'Curso Superior De Tecnologia Em Gerenciamento Executivo (Área Profissional: Gestão)',\n",
       "       'Curso Superior De Tecnologia Em Desenvolvimento Para Web (Área Profissional: Informática)',\n",
       "       'Curso Superior De Tecnologia Em Desenvolvimento Para Web',\n",
       "       'Curso Superior De Tecnologia Em Gestão E Marketing Esportivo',\n",
       "       'Curso Superior De Tecnologia Em Gestão De Negócios Da Informação',\n",
       "       'Turismo,Com Ênfase Em Lazer E Eventos',\n",
       "       'Curso Superior De Tecnologia Em Administração De Banco De Dados ( Área De Informática)',\n",
       "       'Curso Superior De Tecnologia Em Sistemas De Telecomunicações (Área Profissional: Telecomunicações)',\n",
       "       'Curso Superior De Tecnologia Em Gestão Logística',\n",
       "       'Curso Superior De Tecnologia Em Sistemas De Telecomunicações Moveis (Área Profissional: Telecomunicações)',\n",
       "       'Curso Superior De Tecnologia Em Radiologia Médica (Área Profissional: Saúde)',\n",
       "       'Curso Superior De Formação Específica Em Gestão Pública',\n",
       "       'Curso Superior De Formação Específica Em Gestão Em Hotelaria',\n",
       "       'Curso Superior De Formação Específica Em Gestão, Organização E Promoção De Eventos',\n",
       "       'Curso Superior De Formação Específica Em Design De Calçados E Assessórios',\n",
       "       'Curso Superior De Tecnologia Em Sistemas De Telecomunicações',\n",
       "       'Curso Superior De Tecnologia Em Agronegócios',\n",
       "       'Curso Superior De Tecnologia Em Gestão De Bancos E Finanças',\n",
       "       'Curso Superior De Tecnologia Em Naturologia',\n",
       "       'Curso Superior De Tecnologia Em Design De Interiores (Área Profissional: Design)',\n",
       "       'Curso Superior De Tecnologia Em Comunicação Institucional (Eixo Tecnológico: Produção Cultural E Design)',\n",
       "       'Curso Superior De Tecnologia Em Desenvolvimento Para Aplicações Web (Área Profissional:Informática)',\n",
       "       'Curso Superior De Tecnologia Em Panificação & Confeitaria',\n",
       "       'Curso Superior De Tecnologia Em Gestão Da Tecnologia Da Informação',\n",
       "       'Educação Fisíca', 'Administração De Empresas - Zona Norte',\n",
       "       'Curso Superior De Tecnologia Em Fabricação Mecânica (Agrupamento De Áreas Profissionais: Indústria, Química E Mineração)',\n",
       "       'Curso Superior De Tecnologia Em Produção Agroindustrial',\n",
       "       'Tecnologia Em Organização De Eventos Sociais E Desportivos',\n",
       "       'Curso Superior De Tecnologia Em Gestão Ambiental (Área Profissional: Meio Ambiente)',\n",
       "       'Gestão De Negócios Empresariais',\n",
       "       'Organização E Gestão De Eventos',\n",
       "       'Curso Superior De Tecnologia Em Gestão Hospitalar',\n",
       "       'Curso Superior De Tecnologia Em Gestão De Eventos (Área Profissional: Gestão)',\n",
       "       'Curso Superior De Tecnologia Em Controle Ambiental (Área Profissional: Meio Ambiente)',\n",
       "       'Curso Superior De Tecnologia Em Consultoria Gastronômica',\n",
       "       'Curso Superior De Tecnologia Em Gastronomia Hospitalar',\n",
       "       'Curso Superior De Tecnologia Em Gestão E Marketing Em Hotelaria (Área Profissional: Gestão)',\n",
       "       'Curso Superior De Tecnologia Em Marketing De Varejo',\n",
       "       'Curso Superior De Tecnologia Em Gestão De Logística',\n",
       "       'Gestão De Banco De Dados', 'Gestão De Agências De Turismo',\n",
       "       'Curso Superior De Formação Específica Em Gestão Em Agronegócios',\n",
       "       'Curso Superior De Formação Específica Em Gestão Em Negócios Imobiliários',\n",
       "       'Curso Superior De Tecnologia Em Empreendedorismo',\n",
       "       'Curso Superior De Tecnologia Em Gestão Da Produção E Da Qualidade',\n",
       "       'Curso Superior De Tecnologia Em Gestão De Pequenas E Médias Empresas',\n",
       "       'Curso Superior De Tecnologia Em Gestão E Políticas Publicas',\n",
       "       'Administração De Baes E Restaurantes',\n",
       "       'Curso Superior De Tecnologia Em Operação, Fiscalização E Administração De Trânsito E Transporte',\n",
       "       'Curso Sequencial De Formação Específica Em Gestão De Instituições Financeiras',\n",
       "       'Curso Superior De Tecnologia Em Gestão Da Atividade Hoteleira',\n",
       "       'Fonoaudiologia (Mc)',\n",
       "       'Curso Superior De Formação Específica Em Gestão Eclesiástica E Formação Teológica',\n",
       "       'Curso Superior De Tecnologia Em Alimentos & Bebidas',\n",
       "       'Curso Superior De Tecnologia Em Negócios Da Informação (Área Profissional: Gestão)(Unidade G)',\n",
       "       'Curso Superior De Tecnologia Em Gestão E Políticas Públicas',\n",
       "       'Curso Superior De Tecnologia Em Cafeicultura',\n",
       "       'Curso Superior De Teconologia Em Gestão De Finanças',\n",
       "       'Curso Superior De Formação Específica Em Gestão De Obras Civis',\n",
       "       'Curso Superior De Formação Específica Em Técnicas De Propaganda E Marketing',\n",
       "       'Curso Superior De Formação Específica Em Gestão De Negócios Internacionais',\n",
       "       'Curso Superior De Tecnologia Em Alimentos',\n",
       "       'Curso Superior De Formação Específica Em Gestão De Órgãos Públicos',\n",
       "       'Curso Superior De Formação Específica De Gestão Em Turismo',\n",
       "       'Curso Superior De Formação Específica Em Gestão De Empresas De Navegação Fluvial',\n",
       "       'Curso Superior De Tecnologia Em Processamento De Dados (Área Profissional: Informática)',\n",
       "       'Curso Superior De Tecnologia Em Comunicação Institucional',\n",
       "       'Curso Superior De Tecnologia Em Turismo Receptivo',\n",
       "       'Curso Superior De Tecnologia Em Auditoria Fiscal E Tributária',\n",
       "       'Letras - Português/Inglês',\n",
       "       'Curso Superior De Formação Específica Em Planejamento E Gestão Ambiental',\n",
       "       'Gestão De Varejo E Prestação De Serviços',\n",
       "       'Curso Superior De Formação Específica Em Gestão De Marketing Em Comércio Exterior',\n",
       "       'Pedagogia  - (Ilha Do Governador)',\n",
       "       'Curso Superior De Tecnologia Em Saúde',\n",
       "       'Curso Superior De Tecnologia Em Gestão De Supermercados E Atacados',\n",
       "       'Curso Superior De Formação Específica Em Gerência De Marketing',\n",
       "       'Gestão De Planejamento Financeiro',\n",
       "       'Curso Superior De Formação Específica Em Call Center',\n",
       "       'Curso Superior De Formação Específica Em Gestão De Bares E Restaurantes',\n",
       "       'Moda E Estilismo',\n",
       "       'Curso Superior De Tecnologia Em Automação Industrial (Área Profissional: Indústria)',\n",
       "       'Curso De Formação Específica Em Ambientação E Design De Interiores',\n",
       "       'Curso Superior De Formação Específica Em Administração De Vendas No Varejo',\n",
       "       'Curso Superior De Formação Específica Em Artes Plásticas',\n",
       "       'Curso Superior De Tecnologia Em Gestão De Sistema De Informação',\n",
       "       'Curso Superior De Tecnologia Em Gestão Da Produção De Bovinos',\n",
       "       'Curso Superior De Formação De Professores Para Educação Infantil E Séries Iniciais Do Ensino Fundamental (Normal Superior)',\n",
       "       'Curso Superior De Formação Específica Em Web Design',\n",
       "       'Curso Superior De Formação Específica Em Gerenciamento De Redes',\n",
       "       'Curso Superior De Tecnologia Em Ergonomia Na Indústria',\n",
       "       'Curso Superior De Formação Específica Em Gestão Empresarial Em Marketing',\n",
       "       'Programa Especial De Formação Pedagógica Para Educação Profissional',\n",
       "       'Curso Superior De Tecnologia Em Gestão Ambiental Empresarial (Área Profissional: Meio Ambiente)',\n",
       "       'Curso Superior De Tecnologia Em Produção Gráfica Digital (Área Profissional: Design)',\n",
       "       'Curso Superior De Formação Específica Em Tradução E Interpretação Em Inglês',\n",
       "       'Curso Superior De Formação Específica Em Técnicas De Aplicação Estrutural De Concreto',\n",
       "       'Curso Superior De Formação Específica Em Hospedagem',\n",
       "       'Curso Superior De Tecnologia Em Moda',\n",
       "       'Curso Superior De Formação Específica Em Telemática',\n",
       "       'Gestão De Hotéis E Pousadas',\n",
       "       'Curso Superior De Tecnologia Em Secretariado',\n",
       "       'Turismo, Com Ênfase Em Eventos',\n",
       "       'Curso Superior De Tecnologia Em Indústria',\n",
       "       'Curso Superior De Tecnologia Em Gerenciamento De Redes De Computadores',\n",
       "       'Curso Sequencial De Formação Específica Em Gestão Financeira E Bancária',\n",
       "       'Química Industrial De Alimentos - Sr',\n",
       "       'Curso Superior De Tecnologia Em Produção Joalheira',\n",
       "       'Curso Superior De Tecnologia Em Gestão Em Sistemas De Informação',\n",
       "       'Decoração & Design', 'Filosofia - Sr',\n",
       "       'Farmácia Bioquímica - Poços De Caldas',\n",
       "       'Administração (Ênfase Em Análise De Sistemas)',\n",
       "       'Complementação Pedagógica Para Licenciados Plenos (Os)',\n",
       "       'Curso Superior De Tecnologia Em Gestão De Negócios Em Alimentação',\n",
       "       'Curso Superior De Formação Específica Em Gestão De Pessoas',\n",
       "       'Curso Superior De Tecnologia Em Negócios Para Internet',\n",
       "       'Letras - Campos Dos Goytacazes', 'Normal Superior (Francisco Sá)',\n",
       "       'Curso Superior De Tecnologia Em Gerência De Negócios Imobiliários',\n",
       "       'Normal Superior (Cornélio Procópio )',\n",
       "       'Normal Superior (Barreiras)', 'Normal Superior - Espinosa',\n",
       "       'Normal Superior (Concórdia )', 'Normal Superior (Butiá )',\n",
       "       'Psicologia - Ij', 'Sociologia',\n",
       "       'Normal Superior (Frederico Westphalen)',\n",
       "       'Curso Superior De Tecnologia Em Gestão De Planejamento Financeiro E Tributário',\n",
       "       'Normal Superior (Garibaldi )',\n",
       "       'Curso Superior De Tecnologia Em Gestão De Agronegócios',\n",
       "       'Normal Superior (Araranguá)', 'Normal Superior (Boquira)',\n",
       "       'Curso Superior De Tecnologia Em Lazer Em Desenvolvimento Social',\n",
       "       'Curso Superior De Tecnologia Em Gestão Pública',\n",
       "       'Normal Superior - Euclides Da Cunha',\n",
       "       'Curso Superior De Tecnologia Em Vídeo Digital (Área Profissional: Comunicação) - Marginal Pinheiros',\n",
       "       'Gestão Estratégica De Vendas',\n",
       "       'Curso Superior De Tecnologia Em Produção Multimídia - Paulista',\n",
       "       'Engenharia Elétrica - Telecomunicações',\n",
       "       'Normal Superior(Guarantã Do Norte )',\n",
       "       'Curso Superior De Tecnologia Em Negócios Da Moda',\n",
       "       'Cuso Superior De Tecnologia Em Organização De Eventos Sociais E Desportivos',\n",
       "       'Complementação Pedagógica Para Licenciados Plenos (Cl)',\n",
       "       'Desenho De Animação', 'Sistemas De Informação - Telemática',\n",
       "       'Música - Instrumento', 'Letras - Português E Alemão', 'Geologia',\n",
       "       'Jogos Digitais', 'Química Tecnológica',\n",
       "       'Letras Português E Inglês', 'Engenharia Agronômica',\n",
       "       'Gestão De Qualidade Em Metrologia', 'Letras - Lingua Espanhola',\n",
       "       'Engenharia Mecânica Automotiva', 'Ciências Políticas',\n",
       "       'Programa Especial De Formação De Docente - Biologia',\n",
       "       'Engenharia Com Habilitação Em Engenharia De Produção Química',\n",
       "       'Engenharia Elétrica - Eletrônica (Ênfase Em Telecomunicações E Em Telemática)',\n",
       "       'Ciências Aeronáuticas - Piloto Comercial', 'Ciências Da Religião',\n",
       "       'Administração Rural', 'Análise De Sistemas De Informação',\n",
       "       'Gestão De Finanças', 'Pedagogia (Ilha Do Governador)',\n",
       "       'Tecnologia Em Informática',\n",
       "       'Curso Superior De Formação Específica Em Gestão Esportiva E Marketing No Esporte',\n",
       "       'Curso Superior De Tecnologia Em Optometria',\n",
       "       'Curso Superior De Formação Específica Em Decoração De Interiores',\n",
       "       'Curso Superior De Tecnologia Em Processos Químicos',\n",
       "       'Curso Superior De Formação Específica Em Gestão De Petróleo E Derivados',\n",
       "       'Direito (Ilha Do Governador)',\n",
       "       'Curso Superior De Tecnologia Em Gestão Comercial',\n",
       "       'Gestão E Segurança Prisional',\n",
       "       'Curso Superior De Tecnologia Em Gestão De Segurança Patrimonial E Pessoal',\n",
       "       'Comunicação De Dados', 'Licenciatura Em Computação - Ij',\n",
       "       'Programa Especial De Formação Pedagógica - Arte Educação',\n",
       "       'Curso Superior De Tecnologia Em Rede De Computadores (Área Profissional: Informática)',\n",
       "       'Curso Superior De Tecnologia Em Gerenciamento Em Redes De Computadores (Área Profissional: Informática)',\n",
       "       'Economia',\n",
       "       'Curso Superior De Tecnologia Em Comércio Exterior (Área Profissional: Comércio)',\n",
       "       'Programa Especial De Formação Pedagógica - Biologia',\n",
       "       'Secretariado Executivo Bilíngüe',\n",
       "       'Curso Superior De Tecnologia Em Marketing De Varejo (Área Profissional: Comércio)'], dtype=object)"
      ]
     },
     "execution_count": 14,
     "metadata": {},
     "output_type": "execute_result"
    }
   ],
   "source": [
    "data.NOME_CURSO_BOLSA.unique()"
   ]
  },
  {
   "cell_type": "code",
   "execution_count": 15,
   "metadata": {},
   "outputs": [
    {
     "data": {
      "text/plain": [
       "array(['Branca', 'Parda', 'Amarela', 'Não Informada', 'Preta', 'Indígena'], dtype=object)"
      ]
     },
     "execution_count": 15,
     "metadata": {},
     "output_type": "execute_result"
    }
   ],
   "source": [
    "data.RACA_BENEFICIARIO_BOLSA.unique()"
   ]
  },
  {
   "cell_type": "code",
   "execution_count": 19,
   "metadata": {
    "collapsed": true
   },
   "outputs": [],
   "source": [
    "%matplotlib inline"
   ]
  },
  {
   "cell_type": "code",
   "execution_count": 39,
   "metadata": {},
   "outputs": [
    {
     "data": {
      "text/plain": [
       "<matplotlib.text.Text at 0x140611398d0>"
      ]
     },
     "execution_count": 39,
     "metadata": {},
     "output_type": "execute_result"
    },
    {
     "data": {
      "image/png": "[encoded data removed]",
      "text/plain": [
       "<matplotlib.figure.Figure at 0x1405b84e5c0>"
      ]
     },
     "metadata": {},
     "output_type": "display_data"
    }
   ],
   "source": [
    "data.RACA_BENEFICIARIO_BOLSA.value_counts().plot(kind='bar')\n",
    "plt.xticks(rotation=0)\n",
    "plt.title('Frequency of Races')"
   ]
  },
  {
   "cell_type": "code",
   "execution_count": 37,
   "metadata": {},
   "outputs": [
    {
     "data": {
      "text/plain": [
       "(array([0, 1]), <a list of 2 Text xticklabel objects>)"
      ]
     },
     "execution_count": 37,
     "metadata": {},
     "output_type": "execute_result"
    },
    {
     "data": {
      "image/png": "[encoded data removed]",
      "text/plain": [
       "<matplotlib.figure.Figure at 0x1405b700278>"
      ]
     },
     "metadata": {},
     "output_type": "display_data"
    }
   ],
   "source": [
    "data.SEXO_BENEFICIARIO_BOLSA.value_counts().plot(kind='bar')\n",
    "plt.xticks(rotation=0)"
   ]
  },
  {
   "cell_type": "code",
   "execution_count": 38,
   "metadata": {},
   "outputs": [
    {
     "data": {
      "text/plain": [
       "(array([0, 1, 2, 3, 4]), <a list of 5 Text xticklabel objects>)"
      ]
     },
     "execution_count": 38,
     "metadata": {},
     "output_type": "execute_result"
    },
    {
     "data": {
      "image/png": "[encoded data removed]",
      "text/plain": [
       "<matplotlib.figure.Figure at 0x1405b812160>"
      ]
     },
     "metadata": {},
     "output_type": "display_data"
    }
   ],
   "source": [
    "data.REGIAO_BENEFICIARIO_BOLSA.value_counts().plot(kind='bar')\n",
    "plt.xticks(rotation=90)"
   ]
  },
  {
   "cell_type": "code",
   "execution_count": 35,
   "metadata": {},
   "outputs": [
    {
     "data": {
      "text/plain": [
       "(array([0, 1]), <a list of 2 Text xticklabel objects>)"
      ]
     },
     "execution_count": 35,
     "metadata": {},
     "output_type": "execute_result"
    },
    {
     "data": {
      "image/png": "[encoded data removed]",
      "text/plain": [
       "<matplotlib.figure.Figure at 0x1405b63deb8>"
      ]
     },
     "metadata": {},
     "output_type": "display_data"
    }
   ],
   "source": [
    "data.MODALIDADE_ENSINO_BOLSA.value_counts().plot(kind='bar')\n",
    "plt.xticks(rotation=0)"
   ]
  },
  {
   "cell_type": "code",
   "execution_count": 40,
   "metadata": {},
   "outputs": [
    {
     "data": {
      "text/plain": [
       "(array([0, 1]), <a list of 2 Text xticklabel objects>)"
      ]
     },
     "execution_count": 40,
     "metadata": {},
     "output_type": "execute_result"
    },
    {
     "data": {
      "image/png": "[encoded data removed]",
      "text/plain": [
       "<matplotlib.figure.Figure at 0x1405b8376d8>"
      ]
     },
     "metadata": {},
     "output_type": "display_data"
    }
   ],
   "source": [
    "data.TIPO_BOLSA.value_counts().plot(kind='bar')\n",
    "plt.xticks(rotation=0)"
   ]
  },
  {
   "cell_type": "code",
   "execution_count": null,
   "metadata": {
    "collapsed": true
   },
   "outputs": [],
   "source": []
  }
 ],
 "metadata": {
  "kernelspec": {
   "display_name": "Python 3",
   "language": "python",
   "name": "python3"
  },
  "language_info": {
   "codemirror_mode": {
    "name": "ipython",
    "version": 3
   },
   "file_extension": ".py",
   "mimetype": "text/x-python",
   "name": "python",
   "nbconvert_exporter": "python",
   "pygments_lexer": "ipython3",
   "version": "3.6.5"
  }
 },
 "nbformat": 4,
 "nbformat_minor": 2
}
